{
  "nbformat": 4,
  "nbformat_minor": 0,
  "metadata": {
    "colab": {
      "name": "hw03-1.ipynb",
      "provenance": [],
      "collapsed_sections": [],
      "authorship_tag": "ABX9TyPrKXhMK5zijpNpeHOgP3y8",
      "include_colab_link": true
    },
    "kernelspec": {
      "name": "python3",
      "display_name": "Python 3"
    },
    "language_info": {
      "name": "python"
    }
  },
  "cells": [
    {
      "cell_type": "markdown",
      "metadata": {
        "id": "view-in-github",
        "colab_type": "text"
      },
      "source": [
        "<a href=\"https://colab.research.google.com/github/akukudala/data603-sp22/blob/main/homework/hw03_1.ipynb\" target=\"_parent\"><img src=\"https://colab.research.google.com/assets/colab-badge.svg\" alt=\"Open In Colab\"/></a>"
      ]
    },
    {
      "cell_type": "markdown",
      "source": [
        "# Assignment - 3\n",
        "## Hw03-[1|2|3]"
      ],
      "metadata": {
        "id": "tOeADX-Wgl6N"
      }
    },
    {
      "cell_type": "code",
      "execution_count": 1,
      "metadata": {
        "colab": {
          "base_uri": "https://localhost:8080/"
        },
        "id": "WZs2CmeTgiIL",
        "outputId": "cfcc7b38-5bbb-4c75-fd76-51e620833a35"
      },
      "outputs": [
        {
          "output_type": "stream",
          "name": "stdout",
          "text": [
            "Collecting mrjob\n",
            "  Downloading mrjob-0.7.4-py2.py3-none-any.whl (439 kB)\n",
            "\u001b[?25l\r\u001b[K     |▊                               | 10 kB 14.7 MB/s eta 0:00:01\r\u001b[K     |█▌                              | 20 kB 16.4 MB/s eta 0:00:01\r\u001b[K     |██▎                             | 30 kB 20.6 MB/s eta 0:00:01\r\u001b[K     |███                             | 40 kB 24.2 MB/s eta 0:00:01\r\u001b[K     |███▊                            | 51 kB 25.5 MB/s eta 0:00:01\r\u001b[K     |████▌                           | 61 kB 28.3 MB/s eta 0:00:01\r\u001b[K     |█████▏                          | 71 kB 25.4 MB/s eta 0:00:01\r\u001b[K     |██████                          | 81 kB 23.7 MB/s eta 0:00:01\r\u001b[K     |██████▊                         | 92 kB 25.3 MB/s eta 0:00:01\r\u001b[K     |███████▌                        | 102 kB 27.1 MB/s eta 0:00:01\r\u001b[K     |████████▏                       | 112 kB 27.1 MB/s eta 0:00:01\r\u001b[K     |█████████                       | 122 kB 27.1 MB/s eta 0:00:01\r\u001b[K     |█████████▊                      | 133 kB 27.1 MB/s eta 0:00:01\r\u001b[K     |██████████▍                     | 143 kB 27.1 MB/s eta 0:00:01\r\u001b[K     |███████████▏                    | 153 kB 27.1 MB/s eta 0:00:01\r\u001b[K     |████████████                    | 163 kB 27.1 MB/s eta 0:00:01\r\u001b[K     |████████████▊                   | 174 kB 27.1 MB/s eta 0:00:01\r\u001b[K     |█████████████▍                  | 184 kB 27.1 MB/s eta 0:00:01\r\u001b[K     |██████████████▏                 | 194 kB 27.1 MB/s eta 0:00:01\r\u001b[K     |███████████████                 | 204 kB 27.1 MB/s eta 0:00:01\r\u001b[K     |███████████████▋                | 215 kB 27.1 MB/s eta 0:00:01\r\u001b[K     |████████████████▍               | 225 kB 27.1 MB/s eta 0:00:01\r\u001b[K     |█████████████████▏              | 235 kB 27.1 MB/s eta 0:00:01\r\u001b[K     |██████████████████              | 245 kB 27.1 MB/s eta 0:00:01\r\u001b[K     |██████████████████▋             | 256 kB 27.1 MB/s eta 0:00:01\r\u001b[K     |███████████████████▍            | 266 kB 27.1 MB/s eta 0:00:01\r\u001b[K     |████████████████████▏           | 276 kB 27.1 MB/s eta 0:00:01\r\u001b[K     |████████████████████▉           | 286 kB 27.1 MB/s eta 0:00:01\r\u001b[K     |█████████████████████▋          | 296 kB 27.1 MB/s eta 0:00:01\r\u001b[K     |██████████████████████▍         | 307 kB 27.1 MB/s eta 0:00:01\r\u001b[K     |███████████████████████         | 317 kB 27.1 MB/s eta 0:00:01\r\u001b[K     |███████████████████████▉        | 327 kB 27.1 MB/s eta 0:00:01\r\u001b[K     |████████████████████████▋       | 337 kB 27.1 MB/s eta 0:00:01\r\u001b[K     |█████████████████████████▍      | 348 kB 27.1 MB/s eta 0:00:01\r\u001b[K     |██████████████████████████      | 358 kB 27.1 MB/s eta 0:00:01\r\u001b[K     |██████████████████████████▉     | 368 kB 27.1 MB/s eta 0:00:01\r\u001b[K     |███████████████████████████▋    | 378 kB 27.1 MB/s eta 0:00:01\r\u001b[K     |████████████████████████████▎   | 389 kB 27.1 MB/s eta 0:00:01\r\u001b[K     |█████████████████████████████   | 399 kB 27.1 MB/s eta 0:00:01\r\u001b[K     |█████████████████████████████▉  | 409 kB 27.1 MB/s eta 0:00:01\r\u001b[K     |██████████████████████████████▋ | 419 kB 27.1 MB/s eta 0:00:01\r\u001b[K     |███████████████████████████████▎| 430 kB 27.1 MB/s eta 0:00:01\r\u001b[K     |████████████████████████████████| 439 kB 27.1 MB/s \n",
            "\u001b[?25hRequirement already satisfied: PyYAML>=3.10 in /usr/local/lib/python3.7/dist-packages (from mrjob) (3.13)\n",
            "Installing collected packages: mrjob\n",
            "Successfully installed mrjob-0.7.4\n"
          ]
        }
      ],
      "source": [
        "!pip install mrjob"
      ]
    },
    {
      "cell_type": "code",
      "source": [
        "!curl https://raw.githubusercontent.com/akukudala/homework_603/main/yelp.csv -o yelp1.csv"
      ],
      "metadata": {
        "colab": {
          "base_uri": "https://localhost:8080/"
        },
        "id": "RMPo0WiQgyzp",
        "outputId": "243cedda-de38-4e08-baba-07164ad1acde"
      },
      "execution_count": 2,
      "outputs": [
        {
          "output_type": "stream",
          "name": "stdout",
          "text": [
            "  % Total    % Received % Xferd  Average Speed   Time    Time     Time  Current\n",
            "                                 Dload  Upload   Total   Spent    Left  Speed\n",
            "100 7901k  100 7901k    0     0  32.5M      0 --:--:-- --:--:-- --:--:-- 32.5M\n"
          ]
        }
      ]
    },
    {
      "cell_type": "code",
      "source": [
        "%%file hw03_01.py\n",
        "\n",
        "from mrjob.job import MRJob\n",
        "import re\n",
        "\n",
        "class Mrjobtextwordavg(MRJob):\n",
        "    @staticmethod\n",
        "    def avgwords(textcol):\n",
        "        all_words=[]\n",
        "        for c in textcol.lower().split():  # Converting the content to lower case and split\n",
        "            c=re.sub(\"[^a-zA-Z]\",\"\",c)     # Considering only the words with alphabets and removing the special characters and numbers\n",
        "            all_words.append(c)\n",
        "            # unique_words = set(all_words)  -- Not considering the unique words as it is not part of the requirement\n",
        "            avg = len(all_words)\n",
        "        return avg\n",
        "    \n",
        "    def mapper(self, _, line):\n",
        "        column=line.split(',')\n",
        "        textcol=column[4]                   # Considering the Text column only to find the average of the number of words\n",
        "        avg=0\n",
        "        if column[4].startswith('text'):\n",
        "            pass\n",
        "        else:\n",
        "            avg = self.avgwords(textcol)\n",
        "        \n",
        "        yield \"Average number of words in each review \", avg\n",
        "       \n",
        "    def reducer(self,key, values):\n",
        "      total=0\n",
        "      sum=0\n",
        "      for i in values:\n",
        "            total+=1\n",
        "            sum+=i\n",
        "      yield key, round((sum/total),2)      # Rounding to two decimal values\n",
        "        \n",
        "if __name__ == '_main_':\n",
        "    Mrjobtextwordavg.run()"
      ],
      "metadata": {
        "colab": {
          "base_uri": "https://localhost:8080/"
        },
        "id": "-Q9Ea7CIhDkJ",
        "outputId": "91fd7bf2-3adc-4239-f33d-aba9619100d1"
      },
      "execution_count": 7,
      "outputs": [
        {
          "output_type": "stream",
          "name": "stdout",
          "text": [
            "Writing hw03_01.py\n"
          ]
        }
      ]
    },
    {
      "cell_type": "code",
      "source": [
        "import hw03_01\n",
        "mr_job = hw03_01.Mrjobtextwordavg(args=['yelp1.csv'])\n",
        "with mr_job.make_runner() as runner:\n",
        "    runner.run()\n",
        "    for key, value in mr_job.parse_output(runner.cat_output()):\n",
        "        print(key, value)"
      ],
      "metadata": {
        "colab": {
          "base_uri": "https://localhost:8080/"
        },
        "id": "NsSLgAw5h176",
        "outputId": "f64d710f-4ad3-47fe-8fef-3bce882b14bd"
      },
      "execution_count": 8,
      "outputs": [
        {
          "output_type": "stream",
          "name": "stderr",
          "text": [
            "No configs specified for inline runner\n"
          ]
        },
        {
          "output_type": "stream",
          "name": "stdout",
          "text": [
            "Average number of words in each review  29.01\n"
          ]
        }
      ]
    }
  ]
}