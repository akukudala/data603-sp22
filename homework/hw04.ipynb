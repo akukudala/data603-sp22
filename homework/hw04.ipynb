{
  "nbformat": 4,
  "nbformat_minor": 0,
  "metadata": {
    "colab": {
      "name": "hw04.ipynb",
      "provenance": [],
      "collapsed_sections": []
    },
    "kernelspec": {
      "name": "python3",
      "display_name": "Python 3"
    },
    "language_info": {
      "name": "python"
    }
  },
  "cells": [
    {
      "cell_type": "code",
      "execution_count": 1,
      "metadata": {
        "colab": {
          "base_uri": "https://localhost:8080/"
        },
        "id": "9z98LK3WonZn",
        "outputId": "9cce4ab2-02a3-4ae9-c573-70c949765c69"
      },
      "outputs": [
        {
          "output_type": "stream",
          "name": "stdout",
          "text": [
            "Collecting pyspark\n",
            "  Downloading pyspark-3.2.1.tar.gz (281.4 MB)\n",
            "\u001b[K     |████████████████████████████████| 281.4 MB 35 kB/s \n",
            "\u001b[?25hCollecting py4j==0.10.9.3\n",
            "  Downloading py4j-0.10.9.3-py2.py3-none-any.whl (198 kB)\n",
            "\u001b[K     |████████████████████████████████| 198 kB 49.2 MB/s \n",
            "\u001b[?25hBuilding wheels for collected packages: pyspark\n",
            "  Building wheel for pyspark (setup.py) ... \u001b[?25l\u001b[?25hdone\n",
            "  Created wheel for pyspark: filename=pyspark-3.2.1-py2.py3-none-any.whl size=281853642 sha256=6d934dcdebce21b061f9d6d61491b8b7b01de21a482e3d3b0624f7643aee0cb6\n",
            "  Stored in directory: /root/.cache/pip/wheels/9f/f5/07/7cd8017084dce4e93e84e92efd1e1d5334db05f2e83bcef74f\n",
            "Successfully built pyspark\n",
            "Installing collected packages: py4j, pyspark\n",
            "Successfully installed py4j-0.10.9.3 pyspark-3.2.1\n"
          ]
        }
      ],
      "source": [
        "pip install pyspark"
      ]
    },
    {
      "cell_type": "code",
      "source": [
        "import pyspark\n",
        "spark = pyspark.sql.SparkSession.builder.getOrCreate()\n",
        "sc = spark.sparkContext"
      ],
      "metadata": {
        "id": "Ug3dHYvw6NfW"
      },
      "execution_count": 2,
      "outputs": []
    },
    {
      "cell_type": "code",
      "source": [
        "from pyspark.sql import SparkSession\n",
        "spark = SparkSession.builder.getOrCreate()"
      ],
      "metadata": {
        "id": "C2UN_tZd7FSJ"
      },
      "execution_count": 3,
      "outputs": []
    },
    {
      "cell_type": "code",
      "source": [
        "spark"
      ],
      "metadata": {
        "colab": {
          "base_uri": "https://localhost:8080/",
          "height": 219
        },
        "id": "NS0dSgXE7Rye",
        "outputId": "e4ee8f46-49fc-4c0e-d457-fa69129fd719"
      },
      "execution_count": 4,
      "outputs": [
        {
          "output_type": "execute_result",
          "data": {
            "text/html": [
              "\n",
              "            <div>\n",
              "                <p><b>SparkSession - in-memory</b></p>\n",
              "                \n",
              "        <div>\n",
              "            <p><b>SparkContext</b></p>\n",
              "\n",
              "            <p><a href=\"http://f8bff31b9d20:4040\">Spark UI</a></p>\n",
              "\n",
              "            <dl>\n",
              "              <dt>Version</dt>\n",
              "                <dd><code>v3.2.1</code></dd>\n",
              "              <dt>Master</dt>\n",
              "                <dd><code>local[*]</code></dd>\n",
              "              <dt>AppName</dt>\n",
              "                <dd><code>pyspark-shell</code></dd>\n",
              "            </dl>\n",
              "        </div>\n",
              "        \n",
              "            </div>\n",
              "        "
            ],
            "text/plain": [
              "<pyspark.sql.session.SparkSession at 0x7fefeeb13810>"
            ]
          },
          "metadata": {},
          "execution_count": 4
        }
      ]
    },
    {
      "cell_type": "code",
      "source": [
        "from pyspark.sql import Row\n",
        "from pyspark.sql.types import *\n",
        "crime_schema= StructType([\n",
        "StructField('X',FloatType(), True),\n",
        "StructField('Y', FloatType(),True),\n",
        "StructField('RowID', IntegerType(), True),\n",
        "StructField('CrimeDateTime',StringType(), True),\n",
        "StructField('CrimeCode'\t,StringType(), True),\n",
        "StructField('Location'\t,StringType(),True),\n",
        "StructField('Description'\t,StringType(), True),\n",
        "StructField('Inside_Outside',StringType() , True),\n",
        "StructField('Weapon',StringType(), True),\n",
        "StructField('Post',IntegerType(), True),\n",
        "StructField('District',StringType(), True),\n",
        "StructField('Neighborhood',StringType(), True),\n",
        "StructField('Latitude',FloatType(),True),\n",
        "StructField('Longitude',FloatType(),True),\n",
        "StructField('GeoLocation',StringType(), True),\n",
        "StructField('Premise',StringType(),True),\n",
        "StructField('VRIName',StringType(),True),\n",
        "StructField('Total_Incidents',IntegerType(),True),\n",
        "StructField('Shape',StringType(),True)])"
      ],
      "metadata": {
        "id": "R94JwOk49PEH"
      },
      "execution_count": 88,
      "outputs": []
    },
    {
      "cell_type": "code",
      "source": [
        "crime_df = spark.read.csv(\"Part1_Crime_data.csv\",  header=True, schema=crime_schema)"
      ],
      "metadata": {
        "id": "PrC8JhwbFIHT"
      },
      "execution_count": 89,
      "outputs": []
    },
    {
      "cell_type": "code",
      "source": [
        "crime_df.cache()"
      ],
      "metadata": {
        "colab": {
          "base_uri": "https://localhost:8080/"
        },
        "id": "pvFA6JqUFXYD",
        "outputId": "67fc51ae-9994-4b9e-e605-f499ba614f6e"
      },
      "execution_count": 90,
      "outputs": [
        {
          "output_type": "execute_result",
          "data": {
            "text/plain": [
              "DataFrame[X: float, Y: float, RowID: int, CrimeDateTime: string, CrimeCode: string, Location: string, Description: string, Inside_Outside: string, Weapon: string, Post: int, District: string, Neighborhood: string, Latitude: float, Longitude: float, GeoLocation: string, Premise: string, VRIName: string, Total_Incidents: int, Shape: string]"
            ]
          },
          "metadata": {},
          "execution_count": 90
        }
      ]
    },
    {
      "cell_type": "code",
      "source": [
        "crime_df.count()"
      ],
      "metadata": {
        "colab": {
          "base_uri": "https://localhost:8080/"
        },
        "id": "S4apbXqRFbab",
        "outputId": "380b1ce9-f0d9-4cf9-bed7-a9a1f68ff4aa"
      },
      "execution_count": 91,
      "outputs": [
        {
          "output_type": "execute_result",
          "data": {
            "text/plain": [
              "513158"
            ]
          },
          "metadata": {},
          "execution_count": 91
        }
      ]
    },
    {
      "cell_type": "code",
      "source": [
        "crime_df.printSchema()"
      ],
      "metadata": {
        "colab": {
          "base_uri": "https://localhost:8080/"
        },
        "id": "D7E6npsNNu_o",
        "outputId": "4f97ab2b-f14f-48f1-f28a-fbb2b689a461"
      },
      "execution_count": 92,
      "outputs": [
        {
          "output_type": "stream",
          "name": "stdout",
          "text": [
            "root\n",
            " |-- X: float (nullable = true)\n",
            " |-- Y: float (nullable = true)\n",
            " |-- RowID: integer (nullable = true)\n",
            " |-- CrimeDateTime: string (nullable = true)\n",
            " |-- CrimeCode: string (nullable = true)\n",
            " |-- Location: string (nullable = true)\n",
            " |-- Description: string (nullable = true)\n",
            " |-- Inside_Outside: string (nullable = true)\n",
            " |-- Weapon: string (nullable = true)\n",
            " |-- Post: integer (nullable = true)\n",
            " |-- District: string (nullable = true)\n",
            " |-- Neighborhood: string (nullable = true)\n",
            " |-- Latitude: float (nullable = true)\n",
            " |-- Longitude: float (nullable = true)\n",
            " |-- GeoLocation: string (nullable = true)\n",
            " |-- Premise: string (nullable = true)\n",
            " |-- VRIName: string (nullable = true)\n",
            " |-- Total_Incidents: integer (nullable = true)\n",
            " |-- Shape: string (nullable = true)\n",
            "\n"
          ]
        }
      ]
    },
    {
      "cell_type": "code",
      "source": [
        "crime_df.head(5)"
      ],
      "metadata": {
        "colab": {
          "base_uri": "https://localhost:8080/"
        },
        "id": "gMfwo6auNylB",
        "outputId": "48f38384-7e68-4e31-89f2-b96e3c69ddd9"
      },
      "execution_count": 93,
      "outputs": [
        {
          "output_type": "execute_result",
          "data": {
            "text/plain": [
              "[Row(X=1420074.125, Y=594160.625, RowID=1, CrimeDateTime='2022/02/26 04:00:00+00', CrimeCode='4E', Location='200 W MONUMENT ST', Description='COMMON ASSAULT', Inside_Outside=None, Weapon='NA', Post=124, District='CENTRAL', Neighborhood='MOUNT VERNON', Latitude=39.29750061035156, Longitude=-76.61930084228516, GeoLocation='(39.2975,-76.6193)', Premise=None, VRIName=None, Total_Incidents=1, Shape=None),\n",
              " Row(X=1411374.25, Y=589791.375, RowID=2, CrimeDateTime='2022/02/26 01:26:30+00', CrimeCode='9S', Location='2100 FREDERICK AVE', Description='SHOOTING', Inside_Outside='Outside', Weapon='FIREARM', Post=835, District='SOUTHWEST', Neighborhood='CARROLLTON RIDGE', Latitude=39.28559875488281, Longitude=-76.65010070800781, GeoLocation='(39.2856,-76.6501)', Premise='COMMON BUSINESS', VRIName='Tri-District', Total_Incidents=1, Shape=None),\n",
              " Row(X=1411401.125, Y=582761.75, RowID=3, CrimeDateTime='2022/02/26 10:22:00+00', CrimeCode='4E', Location='2000 GRINNALDS AVE', Description='COMMON ASSAULT', Inside_Outside=None, Weapon='NA', Post=831, District='SOUTHWEST', Neighborhood='MORRELL PARK', Latitude=39.266300201416016, Longitude=-76.65010070800781, GeoLocation='(39.2663,-76.6501)', Premise=None, VRIName=None, Total_Incidents=1, Shape=None),\n",
              " Row(X=1422663.125, Y=597595.375, RowID=4, CrimeDateTime='2022/02/26 01:11:00+00', CrimeCode='7A', Location='400 E OLIVER ST', Description='AUTO THEFT', Inside_Outside=None, Weapon='NA', Post=313, District='EASTERN', Neighborhood='GREENMOUNT WEST', Latitude=39.30690002441406, Longitude=-76.61009979248047, GeoLocation='(39.3069,-76.6101)', Premise=None, VRIName=None, Total_Incidents=1, Shape=None),\n",
              " Row(X=1440496.5, Y=607767.125, RowID=5, CrimeDateTime='2022/02/26 12:30:00+00', CrimeCode='4B', Location='5300 PLAINFIELD AVE', Description='AGG. ASSAULT', Inside_Outside=None, Weapon='KNIFE', Post=444, District='NORTHEAST', Neighborhood='FRANKFORD', Latitude=39.334598541259766, Longitude=-76.5468978881836, GeoLocation='(39.3346,-76.5469)', Premise=None, VRIName=None, Total_Incidents=1, Shape=None)]"
            ]
          },
          "metadata": {},
          "execution_count": 93
        }
      ]
    },
    {
      "cell_type": "code",
      "source": [
        "crime_codes = crime_df.select(\"CrimeCode\").distinct().show()"
      ],
      "metadata": {
        "colab": {
          "base_uri": "https://localhost:8080/"
        },
        "id": "dmjmJ_wOOE-5",
        "outputId": "971a9df7-467f-4c37-dbd5-207aaace18f8"
      },
      "execution_count": 94,
      "outputs": [
        {
          "output_type": "stream",
          "name": "stdout",
          "text": [
            "+---------+\n",
            "|CrimeCode|\n",
            "+---------+\n",
            "|       3P|\n",
            "|       3K|\n",
            "|      3BJ|\n",
            "|       1A|\n",
            "|       3M|\n",
            "|       5F|\n",
            "|       4B|\n",
            "|       3B|\n",
            "|       7A|\n",
            "|      3NF|\n",
            "|      3EF|\n",
            "|       3N|\n",
            "|       5D|\n",
            "|       6K|\n",
            "|      3LO|\n",
            "|      3AF|\n",
            "|       7B|\n",
            "|      3GO|\n",
            "|     3AJF|\n",
            "|      8GV|\n",
            "+---------+\n",
            "only showing top 20 rows\n",
            "\n"
          ]
        }
      ]
    },
    {
      "cell_type": "code",
      "source": [
        "crime_codes_count = crime_df.select(\"CrimeCode\").distinct().count()"
      ],
      "metadata": {
        "id": "2F30t26FT-uh"
      },
      "execution_count": 95,
      "outputs": []
    },
    {
      "cell_type": "code",
      "source": [
        "crime_codes_count     # Distinct crime code count"
      ],
      "metadata": {
        "colab": {
          "base_uri": "https://localhost:8080/"
        },
        "id": "0SHqvgKrU4-h",
        "outputId": "11953082-5f41-47ce-d77b-1f6a465fb439"
      },
      "execution_count": 96,
      "outputs": [
        {
          "output_type": "execute_result",
          "data": {
            "text/plain": [
              "85"
            ]
          },
          "metadata": {},
          "execution_count": 96
        }
      ]
    },
    {
      "cell_type": "code",
      "source": [
        "crime_codes_num = crime_df.groupBy(\"CrimeCode\").count().sort(\"count\", ascending=0)\n"
      ],
      "metadata": {
        "id": "E2ysktMHU8wy"
      },
      "execution_count": 97,
      "outputs": []
    },
    {
      "cell_type": "code",
      "source": [
        "crime_codes_num.show()"
      ],
      "metadata": {
        "colab": {
          "base_uri": "https://localhost:8080/"
        },
        "id": "fLOL5y6wVNea",
        "outputId": "efbbecbf-a1de-4019-f52b-057ae34c1b3f"
      },
      "execution_count": 98,
      "outputs": [
        {
          "output_type": "stream",
          "name": "stdout",
          "text": [
            "+---------+-----+\n",
            "|CrimeCode|count|\n",
            "+---------+-----+\n",
            "|       4E|91650|\n",
            "|       6D|68427|\n",
            "|       5A|43928|\n",
            "|       7A|40274|\n",
            "|       6J|27636|\n",
            "|       6G|26858|\n",
            "|       6E|24300|\n",
            "|       6C|23227|\n",
            "|       4C|22438|\n",
            "|       5D|14971|\n",
            "|      3AF|14739|\n",
            "|       4B|14460|\n",
            "|       4A|13226|\n",
            "|       3B|10737|\n",
            "|       4D| 7232|\n",
            "|       5B| 6475|\n",
            "|       9S| 5443|\n",
            "|       6F| 5081|\n",
            "|       5C| 4917|\n",
            "|       6B| 4106|\n",
            "+---------+-----+\n",
            "only showing top 20 rows\n",
            "\n"
          ]
        }
      ]
    },
    {
      "cell_type": "code",
      "source": [
        "crime_neighborhood = crime_df.groupBy(\"Neighborhood\").count().sort(\"count\", ascending=0).head(1)\n"
      ],
      "metadata": {
        "id": "UWyD4AD1Vs_p"
      },
      "execution_count": 99,
      "outputs": []
    },
    {
      "cell_type": "code",
      "source": [
        "crime_neighborhood   # displaying the max cases in Neigborhood"
      ],
      "metadata": {
        "colab": {
          "base_uri": "https://localhost:8080/"
        },
        "id": "r2NieiDJV1xR",
        "outputId": "ecc988fa-9dfe-46f5-dcb8-9c3109e1b875"
      },
      "execution_count": 100,
      "outputs": [
        {
          "output_type": "execute_result",
          "data": {
            "text/plain": [
              "[Row(Neighborhood='DOWNTOWN', count=17799)]"
            ]
          },
          "metadata": {},
          "execution_count": 100
        }
      ]
    },
    {
      "cell_type": "code",
      "source": [
        "from pyspark.sql.functions import *\n",
        "Dates= crime_df.withColumn(\"CrimeDateTime\",to_timestamp(\"CrimeDateTime\", 'yyyy/MM/dd HH:mm:ss+00'))"
      ],
      "metadata": {
        "id": "gfL_s8DhX1BR"
      },
      "execution_count": 110,
      "outputs": []
    },
    {
      "cell_type": "code",
      "source": [
        "crime_year = Dates.withColumn('CrimeDateTime_year',year(Dates.CrimeDateTime))\n",
        "crime_month = crime_year.withColumn('CrimeDateTime_month',month(Dates.CrimeDateTime))"
      ],
      "metadata": {
        "id": "iRXzgY9Z1j4e"
      },
      "execution_count": 130,
      "outputs": []
    },
    {
      "cell_type": "code",
      "source": [
        "crime_dates=crime_month.select(\"CrimeDateTime_year\", \"CrimeDateTime_month\").groupBy(\"CrimeDateTime_year\", \"CrimeDateTime_month\").count().sort(\"count\", ascending=0).show(5)\n",
        "\n",
        "# 10th month of 2016 has the most crime rate"
      ],
      "metadata": {
        "colab": {
          "base_uri": "https://localhost:8080/"
        },
        "id": "nHHZaJWCs94S",
        "outputId": "64f8a584-99c5-4d09-dc2c-90e9e7d2f7be"
      },
      "execution_count": 140,
      "outputs": [
        {
          "output_type": "stream",
          "name": "stdout",
          "text": [
            "+------------------+-------------------+-----+\n",
            "|CrimeDateTime_year|CrimeDateTime_month|count|\n",
            "+------------------+-------------------+-----+\n",
            "|              2016|                 10| 4810|\n",
            "|              2017|                 10| 4797|\n",
            "|              2015|                  7| 4684|\n",
            "|              2017|                  8| 4683|\n",
            "|              2017|                  7| 4641|\n",
            "+------------------+-------------------+-----+\n",
            "only showing top 5 rows\n",
            "\n"
          ]
        }
      ]
    },
    {
      "cell_type": "code",
      "source": [
        "crime_dates=crime_month.select(\"CrimeDateTime_month\").groupBy(\"CrimeDateTime_month\").count().sort(\"count\", ascending=0).show(1)\n",
        "# Month which has the max crime rate"
      ],
      "metadata": {
        "colab": {
          "base_uri": "https://localhost:8080/"
        },
        "id": "LZu0C5-W_AgI",
        "outputId": "170aae6b-8c12-464c-98be-bf537389e2c2"
      },
      "execution_count": 144,
      "outputs": [
        {
          "output_type": "stream",
          "name": "stdout",
          "text": [
            "+-------------------+-----+\n",
            "|CrimeDateTime_month|count|\n",
            "+-------------------+-----+\n",
            "|                  8|46327|\n",
            "+-------------------+-----+\n",
            "only showing top 1 row\n",
            "\n"
          ]
        }
      ]
    },
    {
      "cell_type": "code",
      "source": [
        "weapons_distinct = crime_df.select(\"Weapon\").where(\"Weapon != 'NA'\").distinct().show()\n",
        "# Weapons used"
      ],
      "metadata": {
        "colab": {
          "base_uri": "https://localhost:8080/"
        },
        "id": "ptd0hnrL3uXH",
        "outputId": "62b5fd60-2374-4763-d1a0-32771b55efcf"
      },
      "execution_count": 141,
      "outputs": [
        {
          "output_type": "stream",
          "name": "stdout",
          "text": [
            "+-------+\n",
            "| Weapon|\n",
            "+-------+\n",
            "|  HANDS|\n",
            "|  KNIFE|\n",
            "|  OTHER|\n",
            "|   FIRE|\n",
            "|FIREARM|\n",
            "+-------+\n",
            "\n"
          ]
        }
      ]
    },
    {
      "cell_type": "code",
      "source": [
        "weapons_most = crime_df.where(\"Weapon != 'NA'\").groupBy(\"Weapon\").count().sort(\"count\", ascending=0).show(1)\n",
        "# Most Used Wepon"
      ],
      "metadata": {
        "colab": {
          "base_uri": "https://localhost:8080/"
        },
        "id": "shs1bDmj3yHJ",
        "outputId": "bf4a3791-17ea-4dd1-b486-2e752d8e4be7"
      },
      "execution_count": 142,
      "outputs": [
        {
          "output_type": "stream",
          "name": "stdout",
          "text": [
            "+-------+-----+\n",
            "| Weapon|count|\n",
            "+-------+-----+\n",
            "|FIREARM|46139|\n",
            "+-------+-----+\n",
            "only showing top 1 row\n",
            "\n"
          ]
        }
      ]
    }
  ]
}