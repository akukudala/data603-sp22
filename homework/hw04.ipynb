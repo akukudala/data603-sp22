{
 "cells": [
  {
   "cell_type": "code",
   "execution_count": 1,
   "id": "5e850ece-b0b4-444b-b311-8fccc7f2a8a6",
   "metadata": {},
   "outputs": [],
   "source": [
    "# create spark context\n",
    "import pyspark\n",
    "from pyspark.sql import SparkSession\n",
    "from pyspark.sql.types import StructType, StructField, StringType, IntegerType, FloatType, TimestampType\n",
    "from pyspark.sql.functions import month, desc\n",
    "\n",
    "spark = SparkSession.builder.getOrCreate()"
   ]
  },
  {
   "cell_type": "code",
   "execution_count": 2,
   "id": "9c71eb9b-0491-4177-b988-884e3344d152",
   "metadata": {},
   "outputs": [
    {
     "data": {
      "text/html": [
       "\n",
       "            <div>\n",
       "                <p><b>SparkSession - in-memory</b></p>\n",
       "                \n",
       "        <div>\n",
       "            <p><b>SparkContext</b></p>\n",
       "\n",
       "            <p><a href=\"http://0c8a20a65aa8:4040\">Spark UI</a></p>\n",
       "\n",
       "            <dl>\n",
       "              <dt>Version</dt>\n",
       "                <dd><code>v3.2.1</code></dd>\n",
       "              <dt>Master</dt>\n",
       "                <dd><code>local[*]</code></dd>\n",
       "              <dt>AppName</dt>\n",
       "                <dd><code>pyspark-shell</code></dd>\n",
       "            </dl>\n",
       "        </div>\n",
       "        \n",
       "            </div>\n",
       "        "
      ],
      "text/plain": [
       "<pyspark.sql.session.SparkSession at 0x7f1e4c3bb970>"
      ]
     },
     "execution_count": 2,
     "metadata": {},
     "output_type": "execute_result"
    }
   ],
   "source": [
    "spark"
   ]
  },
  {
   "cell_type": "code",
   "execution_count": 3,
   "id": "7d8fb119-1a9a-4476-ab14-c530e4df9343",
   "metadata": {},
   "outputs": [],
   "source": [
    "# specify schema for the crime dataset\n",
    "schema = (StructType([\n",
    "    StructField(\"X\", FloatType(), True),\n",
    "    StructField(\"Y\", FloatType(), True),\n",
    "    StructField(\"RowID\", IntegerType(), True),\n",
    "    StructField(\"CrimeDateTime\", TimestampType(), True),\n",
    "    StructField(\"CrimeCode\", StringType(), True),\n",
    "    StructField(\"Location\", StringType(), True),\n",
    "    StructField(\"Description\", StringType(), True),\n",
    "    StructField(\"Inside_Outside\", StringType(), True),\n",
    "    StructField(\"Weapon\", StringType(), True),\n",
    "    StructField(\"Post\", IntegerType(), True),\n",
    "    StructField(\"District\", StringType(), True),\n",
    "    StructField(\"Neighborhood\", StringType(), True),\n",
    "    StructField(\"Latitude\", FloatType(), True),\n",
    "    StructField(\"Longitude\", FloatType(), True),\n",
    "    StructField(\"GeoLocation\", StringType(), True),\n",
    "    StructField(\"Premise\", StringType(), True),\n",
    "    StructField(\"VRIName\", StringType(), True),\n",
    "    StructField(\"Total_Incidents\", IntegerType(), True)\n",
    "]))\n",
    "\n",
    "# read the file using the schema definition\n",
    "df = spark.read \\\n",
    "    .format(\"csv\") \\\n",
    "    .option(\"header\", \"true\") \\\n",
    "    .option(\"delimiter\", \",\") \\\n",
    "    .option(\"timestampFormat\", \"yyyy/MM/dd HH:mm:ss+00\") \\\n",
    "    .schema(schema) \\\n",
    "    .load('Part1_Crime_data.csv')"
   ]
  },
  {
   "cell_type": "code",
   "execution_count": 4,
   "id": "35e6313f-44b3-466f-8557-f30088d660d2",
   "metadata": {},
   "outputs": [],
   "source": [
    "# cache the dataframe\n",
    "df = df.persist()"
   ]
  },
  {
   "cell_type": "code",
   "execution_count": 5,
   "id": "2db92f6f-36ae-4475-a20c-72b28dab87df",
   "metadata": {},
   "outputs": [
    {
     "data": {
      "text/plain": [
       "513158"
      ]
     },
     "execution_count": 5,
     "metadata": {},
     "output_type": "execute_result"
    }
   ],
   "source": [
    "# show the count of rows\n",
    "df.count()"
   ]
  },
  {
   "cell_type": "code",
   "execution_count": 6,
   "id": "344d0eb8-dc43-4963-8296-27c6e3b15bd7",
   "metadata": {},
   "outputs": [
    {
     "name": "stdout",
     "output_type": "stream",
     "text": [
      "root\n",
      " |-- X: float (nullable = true)\n",
      " |-- Y: float (nullable = true)\n",
      " |-- RowID: integer (nullable = true)\n",
      " |-- CrimeDateTime: timestamp (nullable = true)\n",
      " |-- CrimeCode: string (nullable = true)\n",
      " |-- Location: string (nullable = true)\n",
      " |-- Description: string (nullable = true)\n",
      " |-- Inside_Outside: string (nullable = true)\n",
      " |-- Weapon: string (nullable = true)\n",
      " |-- Post: integer (nullable = true)\n",
      " |-- District: string (nullable = true)\n",
      " |-- Neighborhood: string (nullable = true)\n",
      " |-- Latitude: float (nullable = true)\n",
      " |-- Longitude: float (nullable = true)\n",
      " |-- GeoLocation: string (nullable = true)\n",
      " |-- Premise: string (nullable = true)\n",
      " |-- VRIName: string (nullable = true)\n",
      " |-- Total_Incidents: integer (nullable = true)\n",
      "\n"
     ]
    }
   ],
   "source": [
    "# print the schema\n",
    "df.printSchema()"
   ]
  },
  {
   "cell_type": "code",
   "execution_count": 7,
   "id": "31ae109a-160a-449b-8610-d210129c1eb6",
   "metadata": {},
   "outputs": [
    {
     "name": "stdout",
     "output_type": "stream",
     "text": [
      "+---------+---------+-----+-------------------+---------+-------------------+--------------+--------------+-------+----+---------+----------------+--------+---------+------------------+---------------+------------+---------------+\n",
      "|        X|        Y|RowID|      CrimeDateTime|CrimeCode|           Location|   Description|Inside_Outside| Weapon|Post| District|    Neighborhood|Latitude|Longitude|       GeoLocation|        Premise|     VRIName|Total_Incidents|\n",
      "+---------+---------+-----+-------------------+---------+-------------------+--------------+--------------+-------+----+---------+----------------+--------+---------+------------------+---------------+------------+---------------+\n",
      "|1420074.1| 594160.6|    1|2022-02-26 04:00:00|       4E|  200 W MONUMENT ST|COMMON ASSAULT|          null|     NA| 124|  CENTRAL|    MOUNT VERNON| 39.2975| -76.6193|(39.2975,-76.6193)|           null|        null|              1|\n",
      "|1411374.2| 589791.4|    2|2022-02-26 01:26:30|       9S| 2100 FREDERICK AVE|      SHOOTING|       Outside|FIREARM| 835|SOUTHWEST|CARROLLTON RIDGE| 39.2856| -76.6501|(39.2856,-76.6501)|COMMON BUSINESS|Tri-District|              1|\n",
      "|1411401.1|582761.75|    3|2022-02-26 10:22:00|       4E| 2000 GRINNALDS AVE|COMMON ASSAULT|          null|     NA| 831|SOUTHWEST|    MORRELL PARK| 39.2663| -76.6501|(39.2663,-76.6501)|           null|        null|              1|\n",
      "|1422663.1| 597595.4|    4|2022-02-26 01:11:00|       7A|    400 E OLIVER ST|    AUTO THEFT|          null|     NA| 313|  EASTERN| GREENMOUNT WEST| 39.3069| -76.6101|(39.3069,-76.6101)|           null|        null|              1|\n",
      "|1440496.5| 607767.1|    5|2022-02-26 12:30:00|       4B|5300 PLAINFIELD AVE|  AGG. ASSAULT|          null|  KNIFE| 444|NORTHEAST|       FRANKFORD| 39.3346| -76.5469|(39.3346,-76.5469)|           null|        null|              1|\n",
      "+---------+---------+-----+-------------------+---------+-------------------+--------------+--------------+-------+----+---------+----------------+--------+---------+------------------+---------------+------------+---------------+\n",
      "only showing top 5 rows\n",
      "\n"
     ]
    }
   ],
   "source": [
    "# show first 5 rows\n",
    "df.show(5)"
   ]
  },
  {
   "cell_type": "code",
   "execution_count": 8,
   "id": "6613e21d-a354-4790-9e1a-3d9833591914",
   "metadata": {},
   "outputs": [
    {
     "name": "stdout",
     "output_type": "stream",
     "text": [
      "+---------+\n",
      "|CrimeCode|\n",
      "+---------+\n",
      "|       3P|\n",
      "|       3K|\n",
      "|      3BJ|\n",
      "|       1A|\n",
      "|       3M|\n",
      "|       5F|\n",
      "|       4B|\n",
      "|       3B|\n",
      "|       7A|\n",
      "|      3NF|\n",
      "|      3EF|\n",
      "|       3N|\n",
      "|       5D|\n",
      "|      3LO|\n",
      "|      3AF|\n",
      "|       7B|\n",
      "|      3GO|\n",
      "|     3AJF|\n",
      "|      8AO|\n",
      "|       7C|\n",
      "|      3AK|\n",
      "|      3GK|\n",
      "|       6L|\n",
      "|      3EO|\n",
      "|      3JO|\n",
      "|       3F|\n",
      "|       1K|\n",
      "|       8H|\n",
      "|       4C|\n",
      "|       5A|\n",
      "|       6C|\n",
      "|      3NK|\n",
      "|       3D|\n",
      "|       6H|\n",
      "|      3LK|\n",
      "|     3AJK|\n",
      "|      3CO|\n",
      "|       3L|\n",
      "|       4E|\n",
      "|       6D|\n",
      "|       2A|\n",
      "|       3C|\n",
      "|       8I|\n",
      "|      3NO|\n",
      "|      3JF|\n",
      "|       3E|\n",
      "|      3LF|\n",
      "|       1O|\n",
      "|       8J|\n",
      "|      3CK|\n",
      "|      8BO|\n",
      "|       2B|\n",
      "|      3JK|\n",
      "|       5B|\n",
      "|       4A|\n",
      "|      8GO|\n",
      "|      8EV|\n",
      "|      3CF|\n",
      "|      8EO|\n",
      "|       6G|\n",
      "|       6A|\n",
      "|       9S|\n",
      "|      3EK|\n",
      "|      3GF|\n",
      "|       3H|\n",
      "|       4D|\n",
      "|      8FO|\n",
      "|       6J|\n",
      "|       6F|\n",
      "|       6E|\n",
      "|       3J|\n",
      "|       5C|\n",
      "|      8AV|\n",
      "|       5E|\n",
      "|     3AJO|\n",
      "|      3AO|\n",
      "|       6B|\n",
      "|      8CV|\n",
      "|      8BV|\n",
      "|      8FV|\n",
      "|       5G|\n",
      "|       6K|\n",
      "|      8GV|\n",
      "|      8CO|\n",
      "|      8DO|\n",
      "+---------+\n",
      "\n"
     ]
    }
   ],
   "source": [
    "# What are distinct crime codes?\n",
    "df.select('CrimeCode').distinct().show(100)"
   ]
  },
  {
   "cell_type": "code",
   "execution_count": 9,
   "id": "214a170f-4cac-4cb5-857f-cf8e20c7d5aa",
   "metadata": {},
   "outputs": [
    {
     "name": "stdout",
     "output_type": "stream",
     "text": [
      "+---------+-----+\n",
      "|CrimeCode|count|\n",
      "+---------+-----+\n",
      "|       4E|91650|\n",
      "|       6D|68427|\n",
      "|       5A|43928|\n",
      "|       7A|40274|\n",
      "|       6J|27636|\n",
      "|       6G|26858|\n",
      "|       6E|24300|\n",
      "|       6C|23227|\n",
      "|       4C|22438|\n",
      "|       5D|14971|\n",
      "|      3AF|14739|\n",
      "|       4B|14460|\n",
      "|       4A|13226|\n",
      "|       3B|10737|\n",
      "|       4D| 7232|\n",
      "|       5B| 6475|\n",
      "|       9S| 5443|\n",
      "|       6F| 5081|\n",
      "|       5C| 4917|\n",
      "|       6B| 4106|\n",
      "+---------+-----+\n",
      "only showing top 20 rows\n",
      "\n"
     ]
    }
   ],
   "source": [
    "# Count the number of crimes by the crime codes and order by the resulting counts in descending order\n",
    "# top 20\n",
    "df_sorted = df.groupBy(\"CrimeCode\").count().sort(desc(\"Count\"))\n",
    "df_sorted.show()"
   ]
  },
  {
   "cell_type": "code",
   "execution_count": 10,
   "id": "aadae572-52a6-45b5-ac8c-cf0ca2d8e9a8",
   "metadata": {},
   "outputs": [
    {
     "name": "stdout",
     "output_type": "stream",
     "text": [
      "+------------+-----+\n",
      "|Neighborhood|count|\n",
      "+------------+-----+\n",
      "|    DOWNTOWN|17799|\n",
      "+------------+-----+\n",
      "only showing top 1 row\n",
      "\n"
     ]
    }
   ],
   "source": [
    "# Which neighborhood had most crimes?\n",
    "df_neighborhood = df.groupBy(\"Neighborhood\").count().sort(desc(\"count\"))\n",
    "df_neighborhood.show(1)"
   ]
  },
  {
   "cell_type": "code",
   "execution_count": 11,
   "id": "3d18017a-d9ef-4bc2-ad72-92a5edb3cac8",
   "metadata": {},
   "outputs": [
    {
     "name": "stdout",
     "output_type": "stream",
     "text": [
      "+-----+-----+\n",
      "|Month|count|\n",
      "+-----+-----+\n",
      "|    8|46327|\n",
      "+-----+-----+\n",
      "only showing top 1 row\n",
      "\n"
     ]
    }
   ],
   "source": [
    "# Which month of the year had most crimes?\n",
    "df.groupBy(month(\"CrimeDateTime\").alias(\"Month\")).count().sort(desc(\"count\")).show(1)"
   ]
  },
  {
   "cell_type": "code",
   "execution_count": 27,
   "id": "1b909740-9908-4d18-b35e-96fa55465764",
   "metadata": {},
   "outputs": [
    {
     "name": "stdout",
     "output_type": "stream",
     "text": [
      "+-------+\n",
      "| Weapon|\n",
      "+-------+\n",
      "|  HANDS|\n",
      "|  KNIFE|\n",
      "|  OTHER|\n",
      "|   FIRE|\n",
      "|FIREARM|\n",
      "+-------+\n",
      "\n"
     ]
    }
   ],
   "source": [
    "# What weapons were used? Exclude nulls - store as new\n",
    "df_weapons = df.filter((df.Weapon != \"NA\") & (df.Weapon.isNotNull())).cache()\n",
    "df_weapons.select('Weapon').distinct().show()"
   ]
  },
  {
   "cell_type": "code",
   "execution_count": 29,
   "id": "8dba8599-f250-4e79-83fc-5961d6f4d2c7",
   "metadata": {},
   "outputs": [
    {
     "name": "stdout",
     "output_type": "stream",
     "text": [
      "+-------+-----+\n",
      "| Weapon|count|\n",
      "+-------+-----+\n",
      "|FIREARM|46139|\n",
      "+-------+-----+\n",
      "only showing top 1 row\n",
      "\n"
     ]
    }
   ],
   "source": [
    "# Which weapon was used the most?\n",
    "df_weapons.groupBy(\"Weapon\").count().sort(desc(\"count\")).show(1)"
   ]
  }
 ],
 "metadata": {
  "kernelspec": {
   "display_name": "Python 3 (ipykernel)",
   "language": "python",
   "name": "python3"
  },
  "language_info": {
   "codemirror_mode": {
    "name": "ipython",
    "version": 3
   },
   "file_extension": ".py",
   "mimetype": "text/x-python",
   "name": "python",
   "nbconvert_exporter": "python",
   "pygments_lexer": "ipython3",
   "version": "3.9.10"
  }
 },
 "nbformat": 4,
 "nbformat_minor": 5
}
