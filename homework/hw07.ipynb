{
 "cells": [
  {
   "cell_type": "code",
   "execution_count": 1,
   "id": "16eff23a-b406-4511-bb4b-21011ca8012c",
   "metadata": {
    "id": "16eff23a-b406-4511-bb4b-21011ca8012c"
   },
   "outputs": [],
   "source": [
    "from pyspark.ml.classification import DecisionTreeClassifier\n",
    "from pyspark.ml import Pipeline\n",
    "from pyspark.sql import SparkSession\n",
    "from pyspark.ml.feature import StringIndexer, OneHotEncoder, Imputer, VectorAssembler\n",
    "from pyspark.ml.tuning import ParamGridBuilder, CrossValidator\n",
    "from pyspark.ml.evaluation import BinaryClassificationEvaluator"
   ]
  },
  {
   "cell_type": "code",
   "execution_count": 2,
   "id": "03a3100d-0fb9-459a-9ea8-cb6a11af8c2a",
   "metadata": {
    "id": "03a3100d-0fb9-459a-9ea8-cb6a11af8c2a"
   },
   "outputs": [],
   "source": [
    "spark = SparkSession.builder.getOrCreate()"
   ]
  },
  {
   "cell_type": "code",
   "execution_count": 3,
   "id": "59180476-4ab9-40b0-8ede-18348e8e428a",
   "metadata": {
    "id": "59180476-4ab9-40b0-8ede-18348e8e428a"
   },
   "outputs": [],
   "source": [
    "schema = \"Date DATE, Location STRING, MinTemp FLOAT, MaxTemp FLOAT, Rainfall FLOAT, Evaporation INT, Sunshine INT, WindGustDir STRING, WindGustSpeed INT, WindDir9am STRING, WindDir3pm STRING, WindSpeed9am INT, WindSpeed3pm INT, Humidity9am INT, \\\n",
    "            Humidity3pm INT, Pressure9am FLOAT, Pressure3pm FLOAT, Cloud9am INT, Cloud3pm INT, Temp9am FLOAT, Temp3pm FLOAT, RainToday STRING, RainTomorrow STRING\"\n",
    "data = spark.read.csv(\"weatherAUS.csv\", header=\"true\", schema=schema)\n",
    "data = data.drop(\"Date\", \"Evaporation\",\"Sunshine\",\"Cloud9am\", \"Cloud3pm\", 'WindGustDir', 'WindGustSpeed')\n",
    "data = data.na.drop(subset=[\"Humidity3pm\", \"Temp3pm\", \"Rainfall\", \"Windspeed3pm\", \"Humidity9am\", 'WindSpeed9am', \"Temp9am\", \"MinTemp\", \"MaxTemp\"])"
   ]
  },
  {
   "cell_type": "code",
   "execution_count": 4,
   "id": "84f77a18-4690-40b3-87d0-88823d638c08",
   "metadata": {
    "id": "84f77a18-4690-40b3-87d0-88823d638c08"
   },
   "outputs": [],
   "source": [
    "# Split the data into training and test sets (80/20)\n",
    "(train_df, test_df) = data.randomSplit([0.8, 0.2])"
   ]
  },
  {
   "cell_type": "code",
   "execution_count": 5,
   "id": "f4d74340-7c63-4018-8157-519232d991b3",
   "metadata": {
    "id": "f4d74340-7c63-4018-8157-519232d991b3"
   },
   "outputs": [],
   "source": [
    "categoricalColumns = [\"Location\", \"WindDir9am\", \"WindDir3pm\", \"RainToday\"]\n",
    "stages = [] # stages in Pipeline\n",
    "for categoricalCol in categoricalColumns:\n",
    "    # Category Indexing with StringIndexer\n",
    "    stringIndexer = StringIndexer(inputCol=categoricalCol, outputCol=categoricalCol + \"Index\")\n",
    "    # Use OneHotEncoder to convert categorical variables into binary SparseVectors\n",
    "    encoder = OneHotEncoder(inputCols=[stringIndexer.getOutputCol()], outputCols=[categoricalCol + \"classVec\"])\n",
    "    # Add stages.  These are not run here, but will run all at once later on.\n",
    "    stages += [stringIndexer, encoder]"
   ]
  },
  {
   "cell_type": "code",
   "execution_count": 6,
   "id": "a6e6fc9c-1eec-4e6b-b564-191ad714c254",
   "metadata": {
    "id": "a6e6fc9c-1eec-4e6b-b564-191ad714c254"
   },
   "outputs": [],
   "source": [
    "# impute missing data\n",
    "mean_imputer = Imputer(inputCols=[\"Pressure9am\", \"Pressure3pm\"], outputCols=[\"Pressure9am_imp\", \"Pressure3pm_imp\"])\n",
    "stages += [mean_imputer]"
   ]
  },
  {
   "cell_type": "code",
   "execution_count": 7,
   "id": "62de7b35-cd91-49c0-980a-cf560862d0c1",
   "metadata": {
    "id": "62de7b35-cd91-49c0-980a-cf560862d0c1"
   },
   "outputs": [],
   "source": [
    "# Convert label into label indices using the StringIndexer\n",
    "label_stringIdx = StringIndexer(inputCol=\"RainTomorrow\", outputCol=\"target\")\n",
    "stages += [label_stringIdx]"
   ]
  },
  {
   "cell_type": "code",
   "execution_count": 8,
   "id": "u_Ll_uYkEyeT",
   "metadata": {
    "id": "u_Ll_uYkEyeT"
   },
   "outputs": [],
   "source": [
    "mode_imputer = Imputer(strategy='mode', missingValue=2.0, inputCol=label_stringIdx.getOutputCol(), outputCol=\"label\")\n",
    "stages += [mode_imputer]"
   ]
  },
  {
   "cell_type": "code",
   "execution_count": 9,
   "id": "f49540f9-eaf3-445b-ab54-3d48248086df",
   "metadata": {
    "id": "f49540f9-eaf3-445b-ab54-3d48248086df"
   },
   "outputs": [],
   "source": [
    "# Transform all features into a vector using VectorAssembler\n",
    "numericCols = [\"MinTemp\", \"MaxTemp\", \"WindSpeed9am\", \"WindSpeed3pm\", \"Humidity9am\", \"Humidity3pm\", \"Temp9am\", \"Temp3pm\"] + mean_imputer.getOutputCols()\n",
    "assemblerInputs = [c + \"classVec\" for c in categoricalColumns] + numericCols\n",
    "assembler = VectorAssembler(inputCols=assemblerInputs, outputCol=\"features\")\n",
    "stages += [assembler]"
   ]
  },
  {
   "cell_type": "code",
   "execution_count": 10,
   "id": "2-rb8MM_EAPl",
   "metadata": {
    "id": "2-rb8MM_EAPl"
   },
   "outputs": [],
   "source": [
    "dt = DecisionTreeClassifier(labelCol=mode_imputer.getOutputCol(), featuresCol=assembler.getOutputCol())\n",
    "\n",
    "paramGrid = (ParamGridBuilder()\n",
    "    .addGrid(dt.maxDepth, [3, 5, 7])\n",
    "    .addGrid(dt.maxBins, [5, 10, 15])\n",
    "    .addGrid(dt.impurity, ['gini', 'entropy'])\n",
    "    .addGrid(dt.minInfoGain, [0.0, 0.2, 0.4])\n",
    "    .build())\n",
    "\n",
    "evaluator = BinaryClassificationEvaluator()\n",
    "dt = DecisionTreeClassifier(labelCol=mode_imputer.getOutputCol(), featuresCol=assembler.getOutputCol())\n",
    "\n",
    "cv = CrossValidator(estimator=dt, estimatorParamMaps=paramGrid, evaluator=evaluator, numFolds=4)\n",
    "stages += [cv]"
   ]
  },
  {
   "cell_type": "code",
   "execution_count": null,
   "id": "6ix2z7_-EAUP",
   "metadata": {
    "id": "6ix2z7_-EAUP"
   },
   "outputs": [],
   "source": [
    "pipeline = Pipeline().setStages(stages)\n",
    "pipeline_model = pipeline.fit(train_df)"
   ]
  },
  {
   "cell_type": "code",
   "execution_count": null,
   "id": "eM0b9fIeEAXK",
   "metadata": {
    "id": "eM0b9fIeEAXK"
   },
   "outputs": [],
   "source": [
    "prediction = pipeline_model.transform(test_df)"
   ]
  },
  {
   "cell_type": "code",
   "execution_count": null,
   "id": "7XPHq_pWEAZs",
   "metadata": {
    "colab": {
     "base_uri": "https://localhost:8080/"
    },
    "id": "7XPHq_pWEAZs",
    "outputId": "b428055d-c845-463d-b984-5f4644d19dae"
   },
   "outputs": [],
   "source": [
    "# get the best model\n",
    "best_model = pipeline_model.stages[-1].bestModel._java_obj.parent()\n",
    "\n",
    "# get parameters of best model\n",
    "best_depth = best_model.getMaxDepth()\n",
    "best_bins = best_model.getMaxBins()\n",
    "best_impurity = best_model.getImpurity()\n",
    "best_gain = best_model.getMinInfoGain()\n",
    "\n",
    "print('Best Max Depth Value: ' + str(best_depth))\n",
    "print('Best Max Bins Value: ' + str(best_bins))\n",
    "print('Best Impurity Value: ' + str(best_impurity))\n",
    "print('Best Min Info Gain Value: ' + str(best_gain))"
   ]
  },
  {
   "cell_type": "code",
   "execution_count": null,
   "id": "oYLOqOAMEAcL",
   "metadata": {
    "colab": {
     "base_uri": "https://localhost:8080/"
    },
    "id": "oYLOqOAMEAcL",
    "outputId": "9e5da628-8c06-4c02-cad4-e318ce989ae8"
   },
   "outputs": [],
   "source": [
    "auc_evaluator = BinaryClassificationEvaluator(labelCol=\"label\", rawPredictionCol=\"probability\", metricName=\"areaUnderROC\")\n",
    "aupr_evaluator = BinaryClassificationEvaluator(labelCol=\"label\", rawPredictionCol=\"probability\", metricName=\"areaUnderPR\")\n",
    "print('Accuracy:',evaluator.evaluate(prediction))\n",
    "print('AUC:', auc_evaluator.evaluate(prediction))\n",
    "print('AUPR:', aupr_evaluator.evaluate(prediction))"
   ]
  }
 ],
 "metadata": {
  "colab": {
   "collapsed_sections": [],
   "name": "hw07.ipynb",
   "provenance": []
  },
  "kernelspec": {
   "display_name": "Python 3 (ipykernel)",
   "language": "python",
   "name": "python3"
  },
  "language_info": {
   "codemirror_mode": {
    "name": "ipython",
    "version": 3
   },
   "file_extension": ".py",
   "mimetype": "text/x-python",
   "name": "python",
   "nbconvert_exporter": "python",
   "pygments_lexer": "ipython3",
   "version": "3.9.10"
  }
 },
 "nbformat": 4,
 "nbformat_minor": 5
}
