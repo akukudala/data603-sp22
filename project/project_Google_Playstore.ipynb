{
  "nbformat": 4,
  "nbformat_minor": 0,
  "metadata": {
    "colab": {
      "name": "final-project603.ipynb",
      "provenance": [],
      "collapsed_sections": []
    },
    "kernelspec": {
      "name": "python3",
      "display_name": "Python 3"
    },
    "language_info": {
      "name": "python"
    }
  },
  "cells": [
    {
      "cell_type": "code",
      "execution_count": null,
      "metadata": {
        "colab": {
          "base_uri": "https://localhost:8080/"
        },
        "id": "45w6bs7pcoHu",
        "outputId": "63782d71-8dad-4374-b5bd-d4ce6f2cf434"
      },
      "outputs": [
        {
          "output_type": "stream",
          "name": "stdout",
          "text": [
            "Requirement already satisfied: pyspark in /usr/local/lib/python3.7/dist-packages (3.2.1)\n",
            "Requirement already satisfied: py4j==0.10.9.3 in /usr/local/lib/python3.7/dist-packages (from pyspark) (0.10.9.3)\n"
          ]
        }
      ],
      "source": [
        "!pip install pyspark"
      ]
    },
    {
      "cell_type": "code",
      "source": [
        "from pyspark.sql import SparkSession\n",
        "spark = SparkSession.builder.getOrCreate()"
      ],
      "metadata": {
        "id": "7gzBU0ruqOVz"
      },
      "execution_count": null,
      "outputs": []
    },
    {
      "cell_type": "code",
      "source": [
        "import pandas as pd\n",
        "import plotly.express as px\n",
        "from pyspark.sql import functions as F\n",
        "import plotly\n",
        "import matplotlib.pyplot as plt\n"
      ],
      "metadata": {
        "id": "fch6wBBHqf61"
      },
      "execution_count": null,
      "outputs": []
    },
    {
      "cell_type": "code",
      "source": [
        "df = spark.read.option(\"wholeFile\", True).option(\"multiline\",True).option(\"header\", True).option(\"inferSchema\", \"True\").csv(\"Playstore_final_1.csv\")"
      ],
      "metadata": {
        "id": "ee91X-HHqmmu"
      },
      "execution_count": null,
      "outputs": []
    },
    {
      "cell_type": "code",
      "source": [
        "df.printSchema()"
      ],
      "metadata": {
        "id": "UoWb6JrgrnOA"
      },
      "execution_count": null,
      "outputs": []
    },
    {
      "cell_type": "code",
      "source": [
        "df.show(5)"
      ],
      "metadata": {
        "id": "nM_mcpqrr0SM",
        "colab": {
          "base_uri": "https://localhost:8080/"
        },
        "outputId": "07960be3-6d26-4271-912b-795825efb50f"
      },
      "execution_count": null,
      "outputs": [
        {
          "output_type": "stream",
          "name": "stdout",
          "text": [
            "+--------------------+--------------------+-----------------+------+------------+--------+----------------+----+-----+--------+------------------+---------------+------------+--------------------+--------------------+--------+-----------+--------------------+--------------+------------+----------------+-------------+--------------------+-------+--------------------+-------------+--------------------+---------------------+------------------+----+----+----+----+----+----+----+----+----+----+----+----+----+----+----+----+----+----+----+----+----+----+----+----+----+----+----+----+\n",
            "|            App Name|              App Id|         Category|Rating|Rating Count|Installs|Minimum Installs|Free|Price|Currency|              Size|Minimum Android|Developer Id|   Developer Website|     Developer Email|Released|Last update|      Privacy Policy|Content Rating|Ad Supported|In app purchases|Editor Choice|             Summary|Reviews|Android version Text|    Developer|   Developer Address|Developer Internal ID|           Version|_c29|_c30|_c31|_c32|_c33|_c34|_c35|_c36|_c37|_c38|_c39|_c40|_c41|_c42|_c43|_c44|_c45|_c46|_c47|_c48|_c49|_c50|_c51|_c52|_c53|_c54|_c55|_c56|\n",
            "+--------------------+--------------------+-----------------+------+------------+--------+----------------+----+-----+--------+------------------+---------------+------------+--------------------+--------------------+--------+-----------+--------------------+--------------+------------+----------------+-------------+--------------------+-------+--------------------+-------------+--------------------+---------------------+------------------+----+----+----+----+----+----+----+----+----+----+----+----+----+----+----+----+----+----+----+----+----+----+----+----+----+----+----+----+\n",
            "| Mazes: Puzzle Games|com.rvappstudios....|           Puzzle|   N/A|         N/A|  1,000+|            1000|TRUE|    0|     XXX|Varies with device|         Varies|    7.43E+18|http://www.rvapps...|app_support@rvapp...|     N/A|19-May-2021|https://www.rvapp...|      Everyone|        TRUE|            TRUE|        FALSE|Collection of maz...|    N/A|  Varies with device|RV AppStudios|848 N. Rainbow Bl...|             7.43E+18|Varies with device|null|null|null|null|null|null|null|null|null|null|null|null|null|null|null|null|null|null|null|null|null|null|null|null|null|null|null|null|\n",
            "|Nithra STEPS |Con...|nithra.school.con...|        Education|   N/A|         N/A| 10,000+|           10000|TRUE|    0|     USD|Varies with device|         Varies|    6.74E+18|https://www.nithr...|feedback@nithra.mobi|     N/A|12-Apr-2021|https://www.nithr...|      Everyone|         N/A|           FALSE|        FALSE|Nithra STEPS : Ma...|    N/A|  Varies with device|       Nithra|Nithra Apps India...|             6.74E+18|Varies with device|null|null|null|null|null|null|null|null|null|null|null|null|null|null|null|null|null|null|null|null|null|null|null|null|null|null|null|null|\n",
            "|Cytaty na każdy d...| com.znakomitecytaty|    Entertainment|   N/A|         N/A|  1,000+|            1000|TRUE|    0|     XXX|Varies with device|         Varies|    7.31E+18|https://justclack...|contacttomujahid@...|     N/A| 4-Sep-2020|https://justclack...|      Everyone|        TRUE|           FALSE|        FALSE|If you are lookin...|    N/A|  Varies with device|   Just Clack|Cupertino, Califo...|             7.31E+18|Varies with device|null|null|null|null|null|null|null|null|null|null|null|null|null|null|null|null|null|null|null|null|null|null|null|null|null|null|null|null|\n",
            "|Tasbeeh Counter Z...|com.justclack.cou...|            Tools|   N/A|         N/A|    500+|             500|TRUE|    0|     USD|Varies with device|         Varies|    7.31E+18|                 N/A|contacttomujahid@...|     N/A|19-Jan-2021|https://justclack...|      Everyone|         N/A|           FALSE|        FALSE|Tasbeeh Counter Z...|    N/A|  Varies with device|   Just Clack|Cupertino, Califo...|             7.31E+18|Varies with device|null|null|null|null|null|null|null|null|null|null|null|null|null|null|null|null|null|null|null|null|null|null|null|null|null|null|null|null|\n",
            "|Quotes of Hazrat ...|com.justclack.quo...|Books & Reference|   N/A|         N/A|  1,000+|            1000|TRUE|    0|     USD|Varies with device|         Varies|    7.31E+18|https://justclack...|contacttomujahid@...|     N/A|24-Apr-2020|https://justclack...|      Everyone|        TRUE|           FALSE|        FALSE|Quotes of Hazrat ...|    N/A|  Varies with device|   Just Clack|Cupertino, Califo...|             7.31E+18|Varies with device|null|null|null|null|null|null|null|null|null|null|null|null|null|null|null|null|null|null|null|null|null|null|null|null|null|null|null|null|\n",
            "+--------------------+--------------------+-----------------+------+------------+--------+----------------+----+-----+--------+------------------+---------------+------------+--------------------+--------------------+--------+-----------+--------------------+--------------+------------+----------------+-------------+--------------------+-------+--------------------+-------------+--------------------+---------------------+------------------+----+----+----+----+----+----+----+----+----+----+----+----+----+----+----+----+----+----+----+----+----+----+----+----+----+----+----+----+\n",
            "only showing top 5 rows\n",
            "\n"
          ]
        }
      ]
    },
    {
      "cell_type": "code",
      "source": [
        "df=df.drop(\"_c40\",\"_c29\",\"_c30\",\"_c31\",\"_c32\",\"_c33\",\"_c34\",\"_c35\",\"_c36\",\"_c37\",\"_c38\",\"_c39\",\"_c41\",\"_c42\",\"_c43\",\"_c44\",\"_c45\",\"_c46\",\"_c47\",\"_c48\",\"_c49\",\"_c50\",\"_c51\",\"_c52\",\"_c53\",\"_c54\",\"_c55\",\"_c56\")\n"
      ],
      "metadata": {
        "id": "I3v893kxsJBR"
      },
      "execution_count": null,
      "outputs": []
    },
    {
      "cell_type": "code",
      "source": [
        "df.cache()\n",
        "df.persist()"
      ],
      "metadata": {
        "id": "aKHR9ipRsSJ1",
        "colab": {
          "base_uri": "https://localhost:8080/"
        },
        "outputId": "b8f8196b-9437-4fb6-82f7-b1634e6ffc9d"
      },
      "execution_count": null,
      "outputs": [
        {
          "output_type": "execute_result",
          "data": {
            "text/plain": [
              "DataFrame[App Name: string, App Id: string, Category: string, Rating: string, Rating Count: string, Installs: string, Minimum Installs: string, Free: string, Price: string, Currency: string, Size: string, Minimum Android: string, Developer Id: string, Developer Website: string, Developer Email: string, Released: string, Last update: string, Privacy Policy: string, Content Rating: string, Ad Supported: string, In app purchases: string, Editor Choice: string, Summary: string, Reviews: string, Android version Text: string, Developer: string, Developer Address: string, Developer Internal ID: string, Version: string]"
            ]
          },
          "metadata": {},
          "execution_count": 48
        }
      ]
    },
    {
      "cell_type": "code",
      "source": [
        "dfcategory = df.select('Category').groupBy('Category').agg(F.count('Category').alias('CategoryCount')).orderBy('CategoryCount', ascending=False)"
      ],
      "metadata": {
        "id": "H0MjCumOsj9N"
      },
      "execution_count": null,
      "outputs": []
    },
    {
      "cell_type": "code",
      "source": [
        "dfcategoryP = dfcategory.limit(15).toPandas()"
      ],
      "metadata": {
        "id": "0k6iRjJQssuG"
      },
      "execution_count": null,
      "outputs": []
    },
    {
      "cell_type": "code",
      "source": [
        "fig = px.bar(\n",
        "    data_frame= dfcategoryP,\n",
        "    x= \"Category\",\n",
        "    labels={\"value\":\"Top 15 App categories\"},\n",
        "    y= \"CategoryCount\",\n",
        "    color= \"Category\",\n",
        "    height= 700,\n",
        "    template=list(plotly.io.templates.keys())[5],\n",
        "    title= \" Top 15 App categories \"\n",
        ")\n",
        "\n",
        "fig.update_layout(showlegend= True)\n",
        "fig.show()"
      ],
      "metadata": {
        "colab": {
          "base_uri": "https://localhost:8080/",
          "height": 717
        },
        "id": "n3UOeBz0syJM",
        "outputId": "80151389-6645-4abc-f3cd-13a87765807d"
      },
      "execution_count": null,
      "outputs": [
        {
          "output_type": "display_data",
          "data": {
            "text/html": [
              "<html>\n",
              "<head><meta charset=\"utf-8\" /></head>\n",
              "<body>\n",
              "    <div>            <script src=\"https://cdnjs.cloudflare.com/ajax/libs/mathjax/2.7.5/MathJax.js?config=TeX-AMS-MML_SVG\"></script><script type=\"text/javascript\">if (window.MathJax) {MathJax.Hub.Config({SVG: {font: \"STIX-Web\"}});}</script>                <script type=\"text/javascript\">window.PlotlyConfig = {MathJaxConfig: 'local'};</script>\n",
              "        <script src=\"https://cdn.plot.ly/plotly-2.8.3.min.js\"></script>                <div id=\"dab4f79e-6d84-424c-8a22-08440113e5a1\" class=\"plotly-graph-div\" style=\"height:700px; width:100%;\"></div>            <script type=\"text/javascript\">                                    window.PLOTLYENV=window.PLOTLYENV || {};                                    if (document.getElementById(\"dab4f79e-6d84-424c-8a22-08440113e5a1\")) {                    Plotly.newPlot(                        \"dab4f79e-6d84-424c-8a22-08440113e5a1\",                        [{\"alignmentgroup\":\"True\",\"hovertemplate\":\"Category=%{x}<br>CategoryCount=%{y}<extra></extra>\",\"legendgroup\":\"Education\",\"marker\":{\"color\":\"#636efa\",\"pattern\":{\"shape\":\"\"}},\"name\":\"Education\",\"offsetgroup\":\"Education\",\"orientation\":\"v\",\"showlegend\":true,\"textposition\":\"auto\",\"x\":[\"Education\"],\"xaxis\":\"x\",\"y\":[46696],\"yaxis\":\"y\",\"type\":\"bar\"},{\"alignmentgroup\":\"True\",\"hovertemplate\":\"Category=%{x}<br>CategoryCount=%{y}<extra></extra>\",\"legendgroup\":\"Tools\",\"marker\":{\"color\":\"#EF553B\",\"pattern\":{\"shape\":\"\"}},\"name\":\"Tools\",\"offsetgroup\":\"Tools\",\"orientation\":\"v\",\"showlegend\":true,\"textposition\":\"auto\",\"x\":[\"Tools\"],\"xaxis\":\"x\",\"y\":[33969],\"yaxis\":\"y\",\"type\":\"bar\"},{\"alignmentgroup\":\"True\",\"hovertemplate\":\"Category=%{x}<br>CategoryCount=%{y}<extra></extra>\",\"legendgroup\":\"Books & Reference\",\"marker\":{\"color\":\"#00cc96\",\"pattern\":{\"shape\":\"\"}},\"name\":\"Books & Reference\",\"offsetgroup\":\"Books & Reference\",\"orientation\":\"v\",\"showlegend\":true,\"textposition\":\"auto\",\"x\":[\"Books & Reference\"],\"xaxis\":\"x\",\"y\":[29953],\"yaxis\":\"y\",\"type\":\"bar\"},{\"alignmentgroup\":\"True\",\"hovertemplate\":\"Category=%{x}<br>CategoryCount=%{y}<extra></extra>\",\"legendgroup\":\"Personalization\",\"marker\":{\"color\":\"#ab63fa\",\"pattern\":{\"shape\":\"\"}},\"name\":\"Personalization\",\"offsetgroup\":\"Personalization\",\"orientation\":\"v\",\"showlegend\":true,\"textposition\":\"auto\",\"x\":[\"Personalization\"],\"xaxis\":\"x\",\"y\":[29709],\"yaxis\":\"y\",\"type\":\"bar\"},{\"alignmentgroup\":\"True\",\"hovertemplate\":\"Category=%{x}<br>CategoryCount=%{y}<extra></extra>\",\"legendgroup\":\"Music & Audio\",\"marker\":{\"color\":\"#FFA15A\",\"pattern\":{\"shape\":\"\"}},\"name\":\"Music & Audio\",\"offsetgroup\":\"Music & Audio\",\"orientation\":\"v\",\"showlegend\":true,\"textposition\":\"auto\",\"x\":[\"Music & Audio\"],\"xaxis\":\"x\",\"y\":[28423],\"yaxis\":\"y\",\"type\":\"bar\"},{\"alignmentgroup\":\"True\",\"hovertemplate\":\"Category=%{x}<br>CategoryCount=%{y}<extra></extra>\",\"legendgroup\":\"Entertainment\",\"marker\":{\"color\":\"#19d3f3\",\"pattern\":{\"shape\":\"\"}},\"name\":\"Entertainment\",\"offsetgroup\":\"Entertainment\",\"orientation\":\"v\",\"showlegend\":true,\"textposition\":\"auto\",\"x\":[\"Entertainment\"],\"xaxis\":\"x\",\"y\":[22177],\"yaxis\":\"y\",\"type\":\"bar\"},{\"alignmentgroup\":\"True\",\"hovertemplate\":\"Category=%{x}<br>CategoryCount=%{y}<extra></extra>\",\"legendgroup\":\"Lifestyle\",\"marker\":{\"color\":\"#FF6692\",\"pattern\":{\"shape\":\"\"}},\"name\":\"Lifestyle\",\"offsetgroup\":\"Lifestyle\",\"orientation\":\"v\",\"showlegend\":true,\"textposition\":\"auto\",\"x\":[\"Lifestyle\"],\"xaxis\":\"x\",\"y\":[18915],\"yaxis\":\"y\",\"type\":\"bar\"},{\"alignmentgroup\":\"True\",\"hovertemplate\":\"Category=%{x}<br>CategoryCount=%{y}<extra></extra>\",\"legendgroup\":\"Business\",\"marker\":{\"color\":\"#B6E880\",\"pattern\":{\"shape\":\"\"}},\"name\":\"Business\",\"offsetgroup\":\"Business\",\"orientation\":\"v\",\"showlegend\":true,\"textposition\":\"auto\",\"x\":[\"Business\"],\"xaxis\":\"x\",\"y\":[16563],\"yaxis\":\"y\",\"type\":\"bar\"},{\"alignmentgroup\":\"True\",\"hovertemplate\":\"Category=%{x}<br>CategoryCount=%{y}<extra></extra>\",\"legendgroup\":\"Productivity\",\"marker\":{\"color\":\"#FF97FF\",\"pattern\":{\"shape\":\"\"}},\"name\":\"Productivity\",\"offsetgroup\":\"Productivity\",\"orientation\":\"v\",\"showlegend\":true,\"textposition\":\"auto\",\"x\":[\"Productivity\"],\"xaxis\":\"x\",\"y\":[14825],\"yaxis\":\"y\",\"type\":\"bar\"},{\"alignmentgroup\":\"True\",\"hovertemplate\":\"Category=%{x}<br>CategoryCount=%{y}<extra></extra>\",\"legendgroup\":\"Health & Fitness\",\"marker\":{\"color\":\"#FECB52\",\"pattern\":{\"shape\":\"\"}},\"name\":\"Health & Fitness\",\"offsetgroup\":\"Health & Fitness\",\"orientation\":\"v\",\"showlegend\":true,\"textposition\":\"auto\",\"x\":[\"Health & Fitness\"],\"xaxis\":\"x\",\"y\":[14248],\"yaxis\":\"y\",\"type\":\"bar\"},{\"alignmentgroup\":\"True\",\"hovertemplate\":\"Category=%{x}<br>CategoryCount=%{y}<extra></extra>\",\"legendgroup\":\"Puzzle\",\"marker\":{\"color\":\"#636efa\",\"pattern\":{\"shape\":\"\"}},\"name\":\"Puzzle\",\"offsetgroup\":\"Puzzle\",\"orientation\":\"v\",\"showlegend\":true,\"textposition\":\"auto\",\"x\":[\"Puzzle\"],\"xaxis\":\"x\",\"y\":[13745],\"yaxis\":\"y\",\"type\":\"bar\"},{\"alignmentgroup\":\"True\",\"hovertemplate\":\"Category=%{x}<br>CategoryCount=%{y}<extra></extra>\",\"legendgroup\":\"Travel & Local\",\"marker\":{\"color\":\"#EF553B\",\"pattern\":{\"shape\":\"\"}},\"name\":\"Travel & Local\",\"offsetgroup\":\"Travel & Local\",\"orientation\":\"v\",\"showlegend\":true,\"textposition\":\"auto\",\"x\":[\"Travel & Local\"],\"xaxis\":\"x\",\"y\":[12201],\"yaxis\":\"y\",\"type\":\"bar\"},{\"alignmentgroup\":\"True\",\"hovertemplate\":\"Category=%{x}<br>CategoryCount=%{y}<extra></extra>\",\"legendgroup\":\"Casual\",\"marker\":{\"color\":\"#00cc96\",\"pattern\":{\"shape\":\"\"}},\"name\":\"Casual\",\"offsetgroup\":\"Casual\",\"orientation\":\"v\",\"showlegend\":true,\"textposition\":\"auto\",\"x\":[\"Casual\"],\"xaxis\":\"x\",\"y\":[10767],\"yaxis\":\"y\",\"type\":\"bar\"},{\"alignmentgroup\":\"True\",\"hovertemplate\":\"Category=%{x}<br>CategoryCount=%{y}<extra></extra>\",\"legendgroup\":\"Photography\",\"marker\":{\"color\":\"#ab63fa\",\"pattern\":{\"shape\":\"\"}},\"name\":\"Photography\",\"offsetgroup\":\"Photography\",\"orientation\":\"v\",\"showlegend\":true,\"textposition\":\"auto\",\"x\":[\"Photography\"],\"xaxis\":\"x\",\"y\":[10560],\"yaxis\":\"y\",\"type\":\"bar\"},{\"alignmentgroup\":\"True\",\"hovertemplate\":\"Category=%{x}<br>CategoryCount=%{y}<extra></extra>\",\"legendgroup\":\"Sports\",\"marker\":{\"color\":\"#FFA15A\",\"pattern\":{\"shape\":\"\"}},\"name\":\"Sports\",\"offsetgroup\":\"Sports\",\"orientation\":\"v\",\"showlegend\":true,\"textposition\":\"auto\",\"x\":[\"Sports\"],\"xaxis\":\"x\",\"y\":[10107],\"yaxis\":\"y\",\"type\":\"bar\"}],                        {\"template\":{\"data\":{\"barpolar\":[{\"marker\":{\"line\":{\"color\":\"rgb(17,17,17)\",\"width\":0.5},\"pattern\":{\"fillmode\":\"overlay\",\"size\":10,\"solidity\":0.2}},\"type\":\"barpolar\"}],\"bar\":[{\"error_x\":{\"color\":\"#f2f5fa\"},\"error_y\":{\"color\":\"#f2f5fa\"},\"marker\":{\"line\":{\"color\":\"rgb(17,17,17)\",\"width\":0.5},\"pattern\":{\"fillmode\":\"overlay\",\"size\":10,\"solidity\":0.2}},\"type\":\"bar\"}],\"carpet\":[{\"aaxis\":{\"endlinecolor\":\"#A2B1C6\",\"gridcolor\":\"#506784\",\"linecolor\":\"#506784\",\"minorgridcolor\":\"#506784\",\"startlinecolor\":\"#A2B1C6\"},\"baxis\":{\"endlinecolor\":\"#A2B1C6\",\"gridcolor\":\"#506784\",\"linecolor\":\"#506784\",\"minorgridcolor\":\"#506784\",\"startlinecolor\":\"#A2B1C6\"},\"type\":\"carpet\"}],\"choropleth\":[{\"colorbar\":{\"outlinewidth\":0,\"ticks\":\"\"},\"type\":\"choropleth\"}],\"contourcarpet\":[{\"colorbar\":{\"outlinewidth\":0,\"ticks\":\"\"},\"type\":\"contourcarpet\"}],\"contour\":[{\"colorbar\":{\"outlinewidth\":0,\"ticks\":\"\"},\"colorscale\":[[0.0,\"#0d0887\"],[0.1111111111111111,\"#46039f\"],[0.2222222222222222,\"#7201a8\"],[0.3333333333333333,\"#9c179e\"],[0.4444444444444444,\"#bd3786\"],[0.5555555555555556,\"#d8576b\"],[0.6666666666666666,\"#ed7953\"],[0.7777777777777778,\"#fb9f3a\"],[0.8888888888888888,\"#fdca26\"],[1.0,\"#f0f921\"]],\"type\":\"contour\"}],\"heatmapgl\":[{\"colorbar\":{\"outlinewidth\":0,\"ticks\":\"\"},\"colorscale\":[[0.0,\"#0d0887\"],[0.1111111111111111,\"#46039f\"],[0.2222222222222222,\"#7201a8\"],[0.3333333333333333,\"#9c179e\"],[0.4444444444444444,\"#bd3786\"],[0.5555555555555556,\"#d8576b\"],[0.6666666666666666,\"#ed7953\"],[0.7777777777777778,\"#fb9f3a\"],[0.8888888888888888,\"#fdca26\"],[1.0,\"#f0f921\"]],\"type\":\"heatmapgl\"}],\"heatmap\":[{\"colorbar\":{\"outlinewidth\":0,\"ticks\":\"\"},\"colorscale\":[[0.0,\"#0d0887\"],[0.1111111111111111,\"#46039f\"],[0.2222222222222222,\"#7201a8\"],[0.3333333333333333,\"#9c179e\"],[0.4444444444444444,\"#bd3786\"],[0.5555555555555556,\"#d8576b\"],[0.6666666666666666,\"#ed7953\"],[0.7777777777777778,\"#fb9f3a\"],[0.8888888888888888,\"#fdca26\"],[1.0,\"#f0f921\"]],\"type\":\"heatmap\"}],\"histogram2dcontour\":[{\"colorbar\":{\"outlinewidth\":0,\"ticks\":\"\"},\"colorscale\":[[0.0,\"#0d0887\"],[0.1111111111111111,\"#46039f\"],[0.2222222222222222,\"#7201a8\"],[0.3333333333333333,\"#9c179e\"],[0.4444444444444444,\"#bd3786\"],[0.5555555555555556,\"#d8576b\"],[0.6666666666666666,\"#ed7953\"],[0.7777777777777778,\"#fb9f3a\"],[0.8888888888888888,\"#fdca26\"],[1.0,\"#f0f921\"]],\"type\":\"histogram2dcontour\"}],\"histogram2d\":[{\"colorbar\":{\"outlinewidth\":0,\"ticks\":\"\"},\"colorscale\":[[0.0,\"#0d0887\"],[0.1111111111111111,\"#46039f\"],[0.2222222222222222,\"#7201a8\"],[0.3333333333333333,\"#9c179e\"],[0.4444444444444444,\"#bd3786\"],[0.5555555555555556,\"#d8576b\"],[0.6666666666666666,\"#ed7953\"],[0.7777777777777778,\"#fb9f3a\"],[0.8888888888888888,\"#fdca26\"],[1.0,\"#f0f921\"]],\"type\":\"histogram2d\"}],\"histogram\":[{\"marker\":{\"pattern\":{\"fillmode\":\"overlay\",\"size\":10,\"solidity\":0.2}},\"type\":\"histogram\"}],\"mesh3d\":[{\"colorbar\":{\"outlinewidth\":0,\"ticks\":\"\"},\"type\":\"mesh3d\"}],\"parcoords\":[{\"line\":{\"colorbar\":{\"outlinewidth\":0,\"ticks\":\"\"}},\"type\":\"parcoords\"}],\"pie\":[{\"automargin\":true,\"type\":\"pie\"}],\"scatter3d\":[{\"line\":{\"colorbar\":{\"outlinewidth\":0,\"ticks\":\"\"}},\"marker\":{\"colorbar\":{\"outlinewidth\":0,\"ticks\":\"\"}},\"type\":\"scatter3d\"}],\"scattercarpet\":[{\"marker\":{\"colorbar\":{\"outlinewidth\":0,\"ticks\":\"\"}},\"type\":\"scattercarpet\"}],\"scattergeo\":[{\"marker\":{\"colorbar\":{\"outlinewidth\":0,\"ticks\":\"\"}},\"type\":\"scattergeo\"}],\"scattergl\":[{\"marker\":{\"line\":{\"color\":\"#283442\"}},\"type\":\"scattergl\"}],\"scattermapbox\":[{\"marker\":{\"colorbar\":{\"outlinewidth\":0,\"ticks\":\"\"}},\"type\":\"scattermapbox\"}],\"scatterpolargl\":[{\"marker\":{\"colorbar\":{\"outlinewidth\":0,\"ticks\":\"\"}},\"type\":\"scatterpolargl\"}],\"scatterpolar\":[{\"marker\":{\"colorbar\":{\"outlinewidth\":0,\"ticks\":\"\"}},\"type\":\"scatterpolar\"}],\"scatter\":[{\"marker\":{\"line\":{\"color\":\"#283442\"}},\"type\":\"scatter\"}],\"scatterternary\":[{\"marker\":{\"colorbar\":{\"outlinewidth\":0,\"ticks\":\"\"}},\"type\":\"scatterternary\"}],\"surface\":[{\"colorbar\":{\"outlinewidth\":0,\"ticks\":\"\"},\"colorscale\":[[0.0,\"#0d0887\"],[0.1111111111111111,\"#46039f\"],[0.2222222222222222,\"#7201a8\"],[0.3333333333333333,\"#9c179e\"],[0.4444444444444444,\"#bd3786\"],[0.5555555555555556,\"#d8576b\"],[0.6666666666666666,\"#ed7953\"],[0.7777777777777778,\"#fb9f3a\"],[0.8888888888888888,\"#fdca26\"],[1.0,\"#f0f921\"]],\"type\":\"surface\"}],\"table\":[{\"cells\":{\"fill\":{\"color\":\"#506784\"},\"line\":{\"color\":\"rgb(17,17,17)\"}},\"header\":{\"fill\":{\"color\":\"#2a3f5f\"},\"line\":{\"color\":\"rgb(17,17,17)\"}},\"type\":\"table\"}]},\"layout\":{\"annotationdefaults\":{\"arrowcolor\":\"#f2f5fa\",\"arrowhead\":0,\"arrowwidth\":1},\"autotypenumbers\":\"strict\",\"coloraxis\":{\"colorbar\":{\"outlinewidth\":0,\"ticks\":\"\"}},\"colorscale\":{\"diverging\":[[0,\"#8e0152\"],[0.1,\"#c51b7d\"],[0.2,\"#de77ae\"],[0.3,\"#f1b6da\"],[0.4,\"#fde0ef\"],[0.5,\"#f7f7f7\"],[0.6,\"#e6f5d0\"],[0.7,\"#b8e186\"],[0.8,\"#7fbc41\"],[0.9,\"#4d9221\"],[1,\"#276419\"]],\"sequential\":[[0.0,\"#0d0887\"],[0.1111111111111111,\"#46039f\"],[0.2222222222222222,\"#7201a8\"],[0.3333333333333333,\"#9c179e\"],[0.4444444444444444,\"#bd3786\"],[0.5555555555555556,\"#d8576b\"],[0.6666666666666666,\"#ed7953\"],[0.7777777777777778,\"#fb9f3a\"],[0.8888888888888888,\"#fdca26\"],[1.0,\"#f0f921\"]],\"sequentialminus\":[[0.0,\"#0d0887\"],[0.1111111111111111,\"#46039f\"],[0.2222222222222222,\"#7201a8\"],[0.3333333333333333,\"#9c179e\"],[0.4444444444444444,\"#bd3786\"],[0.5555555555555556,\"#d8576b\"],[0.6666666666666666,\"#ed7953\"],[0.7777777777777778,\"#fb9f3a\"],[0.8888888888888888,\"#fdca26\"],[1.0,\"#f0f921\"]]},\"colorway\":[\"#636efa\",\"#EF553B\",\"#00cc96\",\"#ab63fa\",\"#FFA15A\",\"#19d3f3\",\"#FF6692\",\"#B6E880\",\"#FF97FF\",\"#FECB52\"],\"font\":{\"color\":\"#f2f5fa\"},\"geo\":{\"bgcolor\":\"rgb(17,17,17)\",\"lakecolor\":\"rgb(17,17,17)\",\"landcolor\":\"rgb(17,17,17)\",\"showlakes\":true,\"showland\":true,\"subunitcolor\":\"#506784\"},\"hoverlabel\":{\"align\":\"left\"},\"hovermode\":\"closest\",\"mapbox\":{\"style\":\"dark\"},\"paper_bgcolor\":\"rgb(17,17,17)\",\"plot_bgcolor\":\"rgb(17,17,17)\",\"polar\":{\"angularaxis\":{\"gridcolor\":\"#506784\",\"linecolor\":\"#506784\",\"ticks\":\"\"},\"bgcolor\":\"rgb(17,17,17)\",\"radialaxis\":{\"gridcolor\":\"#506784\",\"linecolor\":\"#506784\",\"ticks\":\"\"}},\"scene\":{\"xaxis\":{\"backgroundcolor\":\"rgb(17,17,17)\",\"gridcolor\":\"#506784\",\"gridwidth\":2,\"linecolor\":\"#506784\",\"showbackground\":true,\"ticks\":\"\",\"zerolinecolor\":\"#C8D4E3\"},\"yaxis\":{\"backgroundcolor\":\"rgb(17,17,17)\",\"gridcolor\":\"#506784\",\"gridwidth\":2,\"linecolor\":\"#506784\",\"showbackground\":true,\"ticks\":\"\",\"zerolinecolor\":\"#C8D4E3\"},\"zaxis\":{\"backgroundcolor\":\"rgb(17,17,17)\",\"gridcolor\":\"#506784\",\"gridwidth\":2,\"linecolor\":\"#506784\",\"showbackground\":true,\"ticks\":\"\",\"zerolinecolor\":\"#C8D4E3\"}},\"shapedefaults\":{\"line\":{\"color\":\"#f2f5fa\"}},\"sliderdefaults\":{\"bgcolor\":\"#C8D4E3\",\"bordercolor\":\"rgb(17,17,17)\",\"borderwidth\":1,\"tickwidth\":0},\"ternary\":{\"aaxis\":{\"gridcolor\":\"#506784\",\"linecolor\":\"#506784\",\"ticks\":\"\"},\"baxis\":{\"gridcolor\":\"#506784\",\"linecolor\":\"#506784\",\"ticks\":\"\"},\"bgcolor\":\"rgb(17,17,17)\",\"caxis\":{\"gridcolor\":\"#506784\",\"linecolor\":\"#506784\",\"ticks\":\"\"}},\"title\":{\"x\":0.05},\"updatemenudefaults\":{\"bgcolor\":\"#506784\",\"borderwidth\":0},\"xaxis\":{\"automargin\":true,\"gridcolor\":\"#283442\",\"linecolor\":\"#506784\",\"ticks\":\"\",\"title\":{\"standoff\":15},\"zerolinecolor\":\"#283442\",\"zerolinewidth\":2},\"yaxis\":{\"automargin\":true,\"gridcolor\":\"#283442\",\"linecolor\":\"#506784\",\"ticks\":\"\",\"title\":{\"standoff\":15},\"zerolinecolor\":\"#283442\",\"zerolinewidth\":2}}},\"xaxis\":{\"anchor\":\"y\",\"domain\":[0.0,1.0],\"title\":{\"text\":\"Category\"},\"categoryorder\":\"array\",\"categoryarray\":[\"Education\",\"Tools\",\"Books & Reference\",\"Personalization\",\"Music & Audio\",\"Entertainment\",\"Lifestyle\",\"Business\",\"Productivity\",\"Health & Fitness\",\"Puzzle\",\"Travel & Local\",\"Casual\",\"Photography\",\"Sports\"]},\"yaxis\":{\"anchor\":\"x\",\"domain\":[0.0,1.0],\"title\":{\"text\":\"CategoryCount\"}},\"legend\":{\"title\":{\"text\":\"Category\"},\"tracegroupgap\":0},\"title\":{\"text\":\" Top 15 App categories \"},\"barmode\":\"relative\",\"height\":700,\"showlegend\":true},                        {\"responsive\": true}                    ).then(function(){\n",
              "                            \n",
              "var gd = document.getElementById('dab4f79e-6d84-424c-8a22-08440113e5a1');\n",
              "var x = new MutationObserver(function (mutations, observer) {{\n",
              "        var display = window.getComputedStyle(gd).display;\n",
              "        if (!display || display === 'none') {{\n",
              "            console.log([gd, 'removed!']);\n",
              "            Plotly.purge(gd);\n",
              "            observer.disconnect();\n",
              "        }}\n",
              "}});\n",
              "\n",
              "// Listen for the removal of the full notebook cells\n",
              "var notebookContainer = gd.closest('#notebook-container');\n",
              "if (notebookContainer) {{\n",
              "    x.observe(notebookContainer, {childList: true});\n",
              "}}\n",
              "\n",
              "// Listen for the clearing of the current output cell\n",
              "var outputEl = gd.closest('.output');\n",
              "if (outputEl) {{\n",
              "    x.observe(outputEl, {childList: true});\n",
              "}}\n",
              "\n",
              "                        })                };                            </script>        </div>\n",
              "</body>\n",
              "</html>"
            ]
          },
          "metadata": {}
        }
      ]
    },
    {
      "cell_type": "code",
      "source": [
        "dfAppInstalls   = df.select(df[\"App Name\"],df[\"Minimum Installs\"])\n",
        "dfAppInstalls  = dfAppInstalls.select('Minimum Installs','App Name').filter(dfAppInstalls[\"Minimum Installs\"] != \"0\").orderBy('Minimum Installs', ascending=False)\n",
        "dfAppInstalls  = dfAppInstalls.withColumn(\"Minimum Installs\", dfAppInstalls[\"Minimum Installs\"].cast(\"int\").alias(\"Installs1\"))\n",
        "dfAppInstalls = dfAppInstalls.dropna()\n",
        "dfAppInstalls = dfAppInstalls.filter(dfAppInstalls[\"Minimum Installs\"]>=1000000000).orderBy(\"Minimum Installs\",ascending=False).limit(100)\n",
        "dfAppInstalls1 = dfAppInstalls.distinct()\n",
        "dfAppInstalls1.show(20)"
      ],
      "metadata": {
        "colab": {
          "base_uri": "https://localhost:8080/"
        },
        "id": "4l6iHF85xsbU",
        "outputId": "355e3b23-4168-4870-81cb-380d8326eb9c"
      },
      "execution_count": null,
      "outputs": [
        {
          "output_type": "stream",
          "name": "stdout",
          "text": [
            "+----------------+--------------------+\n",
            "|Minimum Installs|            App Name|\n",
            "+----------------+--------------------+\n",
            "|      1000000000|           Instagram|\n",
            "|      1000000000|              TikTok|\n",
            "|      1000000000|      Subway Surfers|\n",
            "|      1000000000|            Snapchat|\n",
            "|      1000000000|    Candy Crush Saga|\n",
            "|      1000000000|Spotify: Listen t...|\n",
            "|      1000000000|       Facebook Lite|\n",
            "|      1000000000|SHAREit - Transfe...|\n",
            "|      1000000000|             Twitter|\n",
            "|      1000000000|             Netflix|\n",
            "|      1000000000|   Google Play Games|\n",
            "|      1000000000|Gboard - the Goog...|\n",
            "|      1000000000|Google Duo - High...|\n",
            "|      1000000000|Skype - free IM &...|\n",
            "|      1000000000|    Google Translate|\n",
            "|      1000000000|Microsoft Word: W...|\n",
            "|      1000000000|Files by Google: ...|\n",
            "|      1000000000|            Currents|\n",
            "|      1000000000|            Messages|\n",
            "|      1000000000|Android System We...|\n",
            "+----------------+--------------------+\n",
            "only showing top 20 rows\n",
            "\n"
          ]
        }
      ]
    },
    {
      "cell_type": "code",
      "source": [
        "dfAppInstallsP= dfAppInstalls.limit(100).toPandas()"
      ],
      "metadata": {
        "id": "zZ4-20jnyYUK"
      },
      "execution_count": null,
      "outputs": []
    },
    {
      "cell_type": "code",
      "source": [
        "fig = px.area(dfAppInstallsP, x=\"App Name\", y=\"Minimum Installs\", color=\"App Name\", line_group=\"App Name\",\n",
        "              template=list(plotly.io.templates.keys())[5],\n",
        "                title=\"Top Apps which has Installations greater than a Billion\")\n",
        "fig.show()"
      ],
      "metadata": {
        "colab": {
          "base_uri": "https://localhost:8080/",
          "height": 542
        },
        "id": "niSjIkAXyVuS",
        "outputId": "705ae954-4d1b-44af-bf66-6f58f943826b"
      },
      "execution_count": null,
      "outputs": [
        {
          "output_type": "display_data",
          "data": {
            "text/html": [
              "<html>\n",
              "<head><meta charset=\"utf-8\" /></head>\n",
              "<body>\n",
              "    <div>            <script src=\"https://cdnjs.cloudflare.com/ajax/libs/mathjax/2.7.5/MathJax.js?config=TeX-AMS-MML_SVG\"></script><script type=\"text/javascript\">if (window.MathJax) {MathJax.Hub.Config({SVG: {font: \"STIX-Web\"}});}</script>                <script type=\"text/javascript\">window.PlotlyConfig = {MathJaxConfig: 'local'};</script>\n",
              "        <script src=\"https://cdn.plot.ly/plotly-2.8.3.min.js\"></script>                <div id=\"d15aeb38-b7e0-4392-b24b-45b8754b8bde\" class=\"plotly-graph-div\" style=\"height:525px; width:100%;\"></div>            <script type=\"text/javascript\">                                    window.PLOTLYENV=window.PLOTLYENV || {};                                    if (document.getElementById(\"d15aeb38-b7e0-4392-b24b-45b8754b8bde\")) {                    Plotly.newPlot(                        \"d15aeb38-b7e0-4392-b24b-45b8754b8bde\",                        [{\"hovertemplate\":\"App Name=%{x}<br>Minimum Installs=%{y}<extra></extra>\",\"legendgroup\":\"Instagram\",\"line\":{\"color\":\"#636efa\"},\"marker\":{\"symbol\":\"circle\"},\"mode\":\"lines\",\"name\":\"Instagram\",\"orientation\":\"v\",\"showlegend\":true,\"stackgroup\":\"1\",\"x\":[\"Instagram\"],\"xaxis\":\"x\",\"y\":[1000000000],\"yaxis\":\"y\",\"type\":\"scatter\"},{\"hovertemplate\":\"App Name=%{x}<br>Minimum Installs=%{y}<extra></extra>\",\"legendgroup\":\"TikTok\",\"line\":{\"color\":\"#EF553B\"},\"marker\":{\"symbol\":\"circle\"},\"mode\":\"lines\",\"name\":\"TikTok\",\"orientation\":\"v\",\"showlegend\":true,\"stackgroup\":\"1\",\"x\":[\"TikTok\",\"TikTok\"],\"xaxis\":\"x\",\"y\":[1000000000,1000000000],\"yaxis\":\"y\",\"type\":\"scatter\"},{\"hovertemplate\":\"App Name=%{x}<br>Minimum Installs=%{y}<extra></extra>\",\"legendgroup\":\"Subway Surfers\",\"line\":{\"color\":\"#00cc96\"},\"marker\":{\"symbol\":\"circle\"},\"mode\":\"lines\",\"name\":\"Subway Surfers\",\"orientation\":\"v\",\"showlegend\":true,\"stackgroup\":\"1\",\"x\":[\"Subway Surfers\"],\"xaxis\":\"x\",\"y\":[1000000000],\"yaxis\":\"y\",\"type\":\"scatter\"},{\"hovertemplate\":\"App Name=%{x}<br>Minimum Installs=%{y}<extra></extra>\",\"legendgroup\":\"Snapchat\",\"line\":{\"color\":\"#ab63fa\"},\"marker\":{\"symbol\":\"circle\"},\"mode\":\"lines\",\"name\":\"Snapchat\",\"orientation\":\"v\",\"showlegend\":true,\"stackgroup\":\"1\",\"x\":[\"Snapchat\",\"Snapchat\"],\"xaxis\":\"x\",\"y\":[1000000000,1000000000],\"yaxis\":\"y\",\"type\":\"scatter\"},{\"hovertemplate\":\"App Name=%{x}<br>Minimum Installs=%{y}<extra></extra>\",\"legendgroup\":\"Candy Crush Saga\",\"line\":{\"color\":\"#FFA15A\"},\"marker\":{\"symbol\":\"circle\"},\"mode\":\"lines\",\"name\":\"Candy Crush Saga\",\"orientation\":\"v\",\"showlegend\":true,\"stackgroup\":\"1\",\"x\":[\"Candy Crush Saga\"],\"xaxis\":\"x\",\"y\":[1000000000],\"yaxis\":\"y\",\"type\":\"scatter\"},{\"hovertemplate\":\"App Name=%{x}<br>Minimum Installs=%{y}<extra></extra>\",\"legendgroup\":\"Spotify: Listen to podcasts & find music you love\",\"line\":{\"color\":\"#19d3f3\"},\"marker\":{\"symbol\":\"circle\"},\"mode\":\"lines\",\"name\":\"Spotify: Listen to podcasts & find music you love\",\"orientation\":\"v\",\"showlegend\":true,\"stackgroup\":\"1\",\"x\":[\"Spotify: Listen to podcasts & find music you love\",\"Spotify: Listen to podcasts & find music you love\"],\"xaxis\":\"x\",\"y\":[1000000000,1000000000],\"yaxis\":\"y\",\"type\":\"scatter\"},{\"hovertemplate\":\"App Name=%{x}<br>Minimum Installs=%{y}<extra></extra>\",\"legendgroup\":\"Facebook Lite\",\"line\":{\"color\":\"#FF6692\"},\"marker\":{\"symbol\":\"circle\"},\"mode\":\"lines\",\"name\":\"Facebook Lite\",\"orientation\":\"v\",\"showlegend\":true,\"stackgroup\":\"1\",\"x\":[\"Facebook Lite\"],\"xaxis\":\"x\",\"y\":[1000000000],\"yaxis\":\"y\",\"type\":\"scatter\"},{\"hovertemplate\":\"App Name=%{x}<br>Minimum Installs=%{y}<extra></extra>\",\"legendgroup\":\"SHAREit - Transfer & Share\",\"line\":{\"color\":\"#B6E880\"},\"marker\":{\"symbol\":\"circle\"},\"mode\":\"lines\",\"name\":\"SHAREit - Transfer & Share\",\"orientation\":\"v\",\"showlegend\":true,\"stackgroup\":\"1\",\"x\":[\"SHAREit - Transfer & Share\",\"SHAREit - Transfer & Share\"],\"xaxis\":\"x\",\"y\":[1000000000,1000000000],\"yaxis\":\"y\",\"type\":\"scatter\"},{\"hovertemplate\":\"App Name=%{x}<br>Minimum Installs=%{y}<extra></extra>\",\"legendgroup\":\"Twitter\",\"line\":{\"color\":\"#FF97FF\"},\"marker\":{\"symbol\":\"circle\"},\"mode\":\"lines\",\"name\":\"Twitter\",\"orientation\":\"v\",\"showlegend\":true,\"stackgroup\":\"1\",\"x\":[\"Twitter\",\"Twitter\"],\"xaxis\":\"x\",\"y\":[1000000000,1000000000],\"yaxis\":\"y\",\"type\":\"scatter\"},{\"hovertemplate\":\"App Name=%{x}<br>Minimum Installs=%{y}<extra></extra>\",\"legendgroup\":\"Netflix\",\"line\":{\"color\":\"#FECB52\"},\"marker\":{\"symbol\":\"circle\"},\"mode\":\"lines\",\"name\":\"Netflix\",\"orientation\":\"v\",\"showlegend\":true,\"stackgroup\":\"1\",\"x\":[\"Netflix\",\"Netflix\"],\"xaxis\":\"x\",\"y\":[1000000000,1000000000],\"yaxis\":\"y\",\"type\":\"scatter\"},{\"hovertemplate\":\"App Name=%{x}<br>Minimum Installs=%{y}<extra></extra>\",\"legendgroup\":\"Google Play Games\",\"line\":{\"color\":\"#636efa\"},\"marker\":{\"symbol\":\"circle\"},\"mode\":\"lines\",\"name\":\"Google Play Games\",\"orientation\":\"v\",\"showlegend\":true,\"stackgroup\":\"1\",\"x\":[\"Google Play Games\"],\"xaxis\":\"x\",\"y\":[1000000000],\"yaxis\":\"y\",\"type\":\"scatter\"},{\"hovertemplate\":\"App Name=%{x}<br>Minimum Installs=%{y}<extra></extra>\",\"legendgroup\":\"Gboard - the Google Keyboard\",\"line\":{\"color\":\"#EF553B\"},\"marker\":{\"symbol\":\"circle\"},\"mode\":\"lines\",\"name\":\"Gboard - the Google Keyboard\",\"orientation\":\"v\",\"showlegend\":true,\"stackgroup\":\"1\",\"x\":[\"Gboard - the Google Keyboard\"],\"xaxis\":\"x\",\"y\":[1000000000],\"yaxis\":\"y\",\"type\":\"scatter\"},{\"hovertemplate\":\"App Name=%{x}<br>Minimum Installs=%{y}<extra></extra>\",\"legendgroup\":\"Google Duo - High Quality Video Calls\",\"line\":{\"color\":\"#00cc96\"},\"marker\":{\"symbol\":\"circle\"},\"mode\":\"lines\",\"name\":\"Google Duo - High Quality Video Calls\",\"orientation\":\"v\",\"showlegend\":true,\"stackgroup\":\"1\",\"x\":[\"Google Duo - High Quality Video Calls\"],\"xaxis\":\"x\",\"y\":[1000000000],\"yaxis\":\"y\",\"type\":\"scatter\"},{\"hovertemplate\":\"App Name=%{x}<br>Minimum Installs=%{y}<extra></extra>\",\"legendgroup\":\"Skype - free IM & video calls\",\"line\":{\"color\":\"#ab63fa\"},\"marker\":{\"symbol\":\"circle\"},\"mode\":\"lines\",\"name\":\"Skype - free IM & video calls\",\"orientation\":\"v\",\"showlegend\":true,\"stackgroup\":\"1\",\"x\":[\"Skype - free IM & video calls\"],\"xaxis\":\"x\",\"y\":[1000000000],\"yaxis\":\"y\",\"type\":\"scatter\"},{\"hovertemplate\":\"App Name=%{x}<br>Minimum Installs=%{y}<extra></extra>\",\"legendgroup\":\"Google Translate\",\"line\":{\"color\":\"#FFA15A\"},\"marker\":{\"symbol\":\"circle\"},\"mode\":\"lines\",\"name\":\"Google Translate\",\"orientation\":\"v\",\"showlegend\":true,\"stackgroup\":\"1\",\"x\":[\"Google Translate\"],\"xaxis\":\"x\",\"y\":[1000000000],\"yaxis\":\"y\",\"type\":\"scatter\"},{\"hovertemplate\":\"App Name=%{x}<br>Minimum Installs=%{y}<extra></extra>\",\"legendgroup\":\"Microsoft Word: Write, Edit & Share Docs on the Go\",\"line\":{\"color\":\"#19d3f3\"},\"marker\":{\"symbol\":\"circle\"},\"mode\":\"lines\",\"name\":\"Microsoft Word: Write, Edit & Share Docs on the Go\",\"orientation\":\"v\",\"showlegend\":true,\"stackgroup\":\"1\",\"x\":[\"Microsoft Word: Write, Edit & Share Docs on the Go\"],\"xaxis\":\"x\",\"y\":[1000000000],\"yaxis\":\"y\",\"type\":\"scatter\"},{\"hovertemplate\":\"App Name=%{x}<br>Minimum Installs=%{y}<extra></extra>\",\"legendgroup\":\"Files by Google: Clean up space on your phone\",\"line\":{\"color\":\"#FF6692\"},\"marker\":{\"symbol\":\"circle\"},\"mode\":\"lines\",\"name\":\"Files by Google: Clean up space on your phone\",\"orientation\":\"v\",\"showlegend\":true,\"stackgroup\":\"1\",\"x\":[\"Files by Google: Clean up space on your phone\"],\"xaxis\":\"x\",\"y\":[1000000000],\"yaxis\":\"y\",\"type\":\"scatter\"},{\"hovertemplate\":\"App Name=%{x}<br>Minimum Installs=%{y}<extra></extra>\",\"legendgroup\":\"Currents\",\"line\":{\"color\":\"#B6E880\"},\"marker\":{\"symbol\":\"circle\"},\"mode\":\"lines\",\"name\":\"Currents\",\"orientation\":\"v\",\"showlegend\":true,\"stackgroup\":\"1\",\"x\":[\"Currents\"],\"xaxis\":\"x\",\"y\":[1000000000],\"yaxis\":\"y\",\"type\":\"scatter\"},{\"hovertemplate\":\"App Name=%{x}<br>Minimum Installs=%{y}<extra></extra>\",\"legendgroup\":\"Messages\",\"line\":{\"color\":\"#FF97FF\"},\"marker\":{\"symbol\":\"circle\"},\"mode\":\"lines\",\"name\":\"Messages\",\"orientation\":\"v\",\"showlegend\":true,\"stackgroup\":\"1\",\"x\":[\"Messages\"],\"xaxis\":\"x\",\"y\":[1000000000],\"yaxis\":\"y\",\"type\":\"scatter\"},{\"hovertemplate\":\"App Name=%{x}<br>Minimum Installs=%{y}<extra></extra>\",\"legendgroup\":\"Android System WebView\",\"line\":{\"color\":\"#FECB52\"},\"marker\":{\"symbol\":\"circle\"},\"mode\":\"lines\",\"name\":\"Android System WebView\",\"orientation\":\"v\",\"showlegend\":true,\"stackgroup\":\"1\",\"x\":[\"Android System WebView\"],\"xaxis\":\"x\",\"y\":[1000000000],\"yaxis\":\"y\",\"type\":\"scatter\"},{\"hovertemplate\":\"App Name=%{x}<br>Minimum Installs=%{y}<extra></extra>\",\"legendgroup\":\"Hangouts\",\"line\":{\"color\":\"#636efa\"},\"marker\":{\"symbol\":\"circle\"},\"mode\":\"lines\",\"name\":\"Hangouts\",\"orientation\":\"v\",\"showlegend\":true,\"stackgroup\":\"1\",\"x\":[\"Hangouts\"],\"xaxis\":\"x\",\"y\":[1000000000],\"yaxis\":\"y\",\"type\":\"scatter\"},{\"hovertemplate\":\"App Name=%{x}<br>Minimum Installs=%{y}<extra></extra>\",\"legendgroup\":\"Samsung Internet Browser\",\"line\":{\"color\":\"#EF553B\"},\"marker\":{\"symbol\":\"circle\"},\"mode\":\"lines\",\"name\":\"Samsung Internet Browser\",\"orientation\":\"v\",\"showlegend\":true,\"stackgroup\":\"1\",\"x\":[\"Samsung Internet Browser\"],\"xaxis\":\"x\",\"y\":[1000000000],\"yaxis\":\"y\",\"type\":\"scatter\"},{\"hovertemplate\":\"App Name=%{x}<br>Minimum Installs=%{y}<extra></extra>\",\"legendgroup\":\"Microsoft Excel: View, Edit, & Create Spreadsheets\",\"line\":{\"color\":\"#00cc96\"},\"marker\":{\"symbol\":\"circle\"},\"mode\":\"lines\",\"name\":\"Microsoft Excel: View, Edit, & Create Spreadsheets\",\"orientation\":\"v\",\"showlegend\":true,\"stackgroup\":\"1\",\"x\":[\"Microsoft Excel: View, Edit, & Create Spreadsheets\"],\"xaxis\":\"x\",\"y\":[1000000000],\"yaxis\":\"y\",\"type\":\"scatter\"},{\"hovertemplate\":\"App Name=%{x}<br>Minimum Installs=%{y}<extra></extra>\",\"legendgroup\":\"YouTube Music - Stream Songs & Music Videos\",\"line\":{\"color\":\"#ab63fa\"},\"marker\":{\"symbol\":\"circle\"},\"mode\":\"lines\",\"name\":\"YouTube Music - Stream Songs & Music Videos\",\"orientation\":\"v\",\"showlegend\":true,\"stackgroup\":\"1\",\"x\":[\"YouTube Music - Stream Songs & Music Videos\"],\"xaxis\":\"x\",\"y\":[1000000000],\"yaxis\":\"y\",\"type\":\"scatter\"},{\"hovertemplate\":\"App Name=%{x}<br>Minimum Installs=%{y}<extra></extra>\",\"legendgroup\":\"Android Auto - Google Maps, Media & Messaging\",\"line\":{\"color\":\"#FFA15A\"},\"marker\":{\"symbol\":\"circle\"},\"mode\":\"lines\",\"name\":\"Android Auto - Google Maps, Media & Messaging\",\"orientation\":\"v\",\"showlegend\":true,\"stackgroup\":\"1\",\"x\":[\"Android Auto - Google Maps, Media & Messaging\"],\"xaxis\":\"x\",\"y\":[1000000000],\"yaxis\":\"y\",\"type\":\"scatter\"},{\"hovertemplate\":\"App Name=%{x}<br>Minimum Installs=%{y}<extra></extra>\",\"legendgroup\":\"Microsoft OneDrive\",\"line\":{\"color\":\"#19d3f3\"},\"marker\":{\"symbol\":\"circle\"},\"mode\":\"lines\",\"name\":\"Microsoft OneDrive\",\"orientation\":\"v\",\"showlegend\":true,\"stackgroup\":\"1\",\"x\":[\"Microsoft OneDrive\"],\"xaxis\":\"x\",\"y\":[1000000000],\"yaxis\":\"y\",\"type\":\"scatter\"},{\"hovertemplate\":\"App Name=%{x}<br>Minimum Installs=%{y}<extra></extra>\",\"legendgroup\":\"Samsung Gallery\",\"line\":{\"color\":\"#FF6692\"},\"marker\":{\"symbol\":\"circle\"},\"mode\":\"lines\",\"name\":\"Samsung Gallery\",\"orientation\":\"v\",\"showlegend\":true,\"stackgroup\":\"1\",\"x\":[\"Samsung Gallery\"],\"xaxis\":\"x\",\"y\":[1000000000],\"yaxis\":\"y\",\"type\":\"scatter\"},{\"hovertemplate\":\"App Name=%{x}<br>Minimum Installs=%{y}<extra></extra>\",\"legendgroup\":\"Samsung Email\",\"line\":{\"color\":\"#B6E880\"},\"marker\":{\"symbol\":\"circle\"},\"mode\":\"lines\",\"name\":\"Samsung Email\",\"orientation\":\"v\",\"showlegend\":true,\"stackgroup\":\"1\",\"x\":[\"Samsung Email\"],\"xaxis\":\"x\",\"y\":[1000000000],\"yaxis\":\"y\",\"type\":\"scatter\"},{\"hovertemplate\":\"App Name=%{x}<br>Minimum Installs=%{y}<extra></extra>\",\"legendgroup\":\"Microsoft PowerPoint: Slideshows and Presentations\",\"line\":{\"color\":\"#FF97FF\"},\"marker\":{\"symbol\":\"circle\"},\"mode\":\"lines\",\"name\":\"Microsoft PowerPoint: Slideshows and Presentations\",\"orientation\":\"v\",\"showlegend\":true,\"stackgroup\":\"1\",\"x\":[\"Microsoft PowerPoint: Slideshows and Presentations\"],\"xaxis\":\"x\",\"y\":[1000000000],\"yaxis\":\"y\",\"type\":\"scatter\"},{\"hovertemplate\":\"App Name=%{x}<br>Minimum Installs=%{y}<extra></extra>\",\"legendgroup\":\"Dropbox: Cloud Storage, Photo Backup, File Manager\",\"line\":{\"color\":\"#FECB52\"},\"marker\":{\"symbol\":\"circle\"},\"mode\":\"lines\",\"name\":\"Dropbox: Cloud Storage, Photo Backup, File Manager\",\"orientation\":\"v\",\"showlegend\":true,\"stackgroup\":\"1\",\"x\":[\"Dropbox: Cloud Storage, Photo Backup, File Manager\",\"Dropbox: Cloud Storage, Photo Backup, File Manager\"],\"xaxis\":\"x\",\"y\":[1000000000,1000000000],\"yaxis\":\"y\",\"type\":\"scatter\"},{\"hovertemplate\":\"App Name=%{x}<br>Minimum Installs=%{y}<extra></extra>\",\"legendgroup\":\"Google Street View\",\"line\":{\"color\":\"#636efa\"},\"marker\":{\"symbol\":\"circle\"},\"mode\":\"lines\",\"name\":\"Google Street View\",\"orientation\":\"v\",\"showlegend\":true,\"stackgroup\":\"1\",\"x\":[\"Google Street View\"],\"xaxis\":\"x\",\"y\":[1000000000],\"yaxis\":\"y\",\"type\":\"scatter\"},{\"hovertemplate\":\"App Name=%{x}<br>Minimum Installs=%{y}<extra></extra>\",\"legendgroup\":\"Google Calendar\",\"line\":{\"color\":\"#EF553B\"},\"marker\":{\"symbol\":\"circle\"},\"mode\":\"lines\",\"name\":\"Google Calendar\",\"orientation\":\"v\",\"showlegend\":true,\"stackgroup\":\"1\",\"x\":[\"Google Calendar\"],\"xaxis\":\"x\",\"y\":[1000000000],\"yaxis\":\"y\",\"type\":\"scatter\"},{\"hovertemplate\":\"App Name=%{x}<br>Minimum Installs=%{y}<extra></extra>\",\"legendgroup\":\"Google News - Top world & local news headlines\",\"line\":{\"color\":\"#00cc96\"},\"marker\":{\"symbol\":\"circle\"},\"mode\":\"lines\",\"name\":\"Google News - Top world & local news headlines\",\"orientation\":\"v\",\"showlegend\":true,\"stackgroup\":\"1\",\"x\":[\"Google News - Top world & local news headlines\"],\"xaxis\":\"x\",\"y\":[1000000000],\"yaxis\":\"y\",\"type\":\"scatter\"},{\"hovertemplate\":\"App Name=%{x}<br>Minimum Installs=%{y}<extra></extra>\",\"legendgroup\":\"Google Play Books - Ebooks, Audiobooks, and Comics\",\"line\":{\"color\":\"#ab63fa\"},\"marker\":{\"symbol\":\"circle\"},\"mode\":\"lines\",\"name\":\"Google Play Books - Ebooks, Audiobooks, and Comics\",\"orientation\":\"v\",\"showlegend\":true,\"stackgroup\":\"1\",\"x\":[\"Google Play Books - Ebooks, Audiobooks, and Comics\"],\"xaxis\":\"x\",\"y\":[1000000000],\"yaxis\":\"y\",\"type\":\"scatter\"},{\"hovertemplate\":\"App Name=%{x}<br>Minimum Installs=%{y}<extra></extra>\",\"legendgroup\":\"Google Docs\",\"line\":{\"color\":\"#FFA15A\"},\"marker\":{\"symbol\":\"circle\"},\"mode\":\"lines\",\"name\":\"Google Docs\",\"orientation\":\"v\",\"showlegend\":true,\"stackgroup\":\"1\",\"x\":[\"Google Docs\"],\"xaxis\":\"x\",\"y\":[1000000000],\"yaxis\":\"y\",\"type\":\"scatter\"},{\"hovertemplate\":\"App Name=%{x}<br>Minimum Installs=%{y}<extra></extra>\",\"legendgroup\":\"Google Keep - Notes and Lists\",\"line\":{\"color\":\"#19d3f3\"},\"marker\":{\"symbol\":\"circle\"},\"mode\":\"lines\",\"name\":\"Google Keep - Notes and Lists\",\"orientation\":\"v\",\"showlegend\":true,\"stackgroup\":\"1\",\"x\":[\"Google Keep - Notes and Lists\"],\"xaxis\":\"x\",\"y\":[1000000000],\"yaxis\":\"y\",\"type\":\"scatter\"},{\"hovertemplate\":\"App Name=%{x}<br>Minimum Installs=%{y}<extra></extra>\",\"legendgroup\":\"Samsung Push Service\",\"line\":{\"color\":\"#FF6692\"},\"marker\":{\"symbol\":\"circle\"},\"mode\":\"lines\",\"name\":\"Samsung Push Service\",\"orientation\":\"v\",\"showlegend\":true,\"stackgroup\":\"1\",\"x\":[\"Samsung Push Service\"],\"xaxis\":\"x\",\"y\":[1000000000],\"yaxis\":\"y\",\"type\":\"scatter\"},{\"hovertemplate\":\"App Name=%{x}<br>Minimum Installs=%{y}<extra></extra>\",\"legendgroup\":\"Briefing\",\"line\":{\"color\":\"#B6E880\"},\"marker\":{\"symbol\":\"circle\"},\"mode\":\"lines\",\"name\":\"Briefing\",\"orientation\":\"v\",\"showlegend\":true,\"stackgroup\":\"1\",\"x\":[\"Briefing\"],\"xaxis\":\"x\",\"y\":[1000000000],\"yaxis\":\"y\",\"type\":\"scatter\"},{\"hovertemplate\":\"App Name=%{x}<br>Minimum Installs=%{y}<extra></extra>\",\"legendgroup\":\"Carrier Services\",\"line\":{\"color\":\"#FF97FF\"},\"marker\":{\"symbol\":\"circle\"},\"mode\":\"lines\",\"name\":\"Carrier Services\",\"orientation\":\"v\",\"showlegend\":true,\"stackgroup\":\"1\",\"x\":[\"Carrier Services\"],\"xaxis\":\"x\",\"y\":[1000000000],\"yaxis\":\"y\",\"type\":\"scatter\"},{\"hovertemplate\":\"App Name=%{x}<br>Minimum Installs=%{y}<extra></extra>\",\"legendgroup\":\"Samsung Notes\",\"line\":{\"color\":\"#FECB52\"},\"marker\":{\"symbol\":\"circle\"},\"mode\":\"lines\",\"name\":\"Samsung Notes\",\"orientation\":\"v\",\"showlegend\":true,\"stackgroup\":\"1\",\"x\":[\"Samsung Notes\"],\"xaxis\":\"x\",\"y\":[1000000000],\"yaxis\":\"y\",\"type\":\"scatter\"},{\"hovertemplate\":\"App Name=%{x}<br>Minimum Installs=%{y}<extra></extra>\",\"legendgroup\":\"Clock\",\"line\":{\"color\":\"#636efa\"},\"marker\":{\"symbol\":\"circle\"},\"mode\":\"lines\",\"name\":\"Clock\",\"orientation\":\"v\",\"showlegend\":true,\"stackgroup\":\"1\",\"x\":[\"Clock\"],\"xaxis\":\"x\",\"y\":[1000000000],\"yaxis\":\"y\",\"type\":\"scatter\"},{\"hovertemplate\":\"App Name=%{x}<br>Minimum Installs=%{y}<extra></extra>\",\"legendgroup\":\"Samsung Print Service Plugin\",\"line\":{\"color\":\"#EF553B\"},\"marker\":{\"symbol\":\"circle\"},\"mode\":\"lines\",\"name\":\"Samsung Print Service Plugin\",\"orientation\":\"v\",\"showlegend\":true,\"stackgroup\":\"1\",\"x\":[\"Samsung Print Service Plugin\"],\"xaxis\":\"x\",\"y\":[1000000000],\"yaxis\":\"y\",\"type\":\"scatter\"},{\"hovertemplate\":\"App Name=%{x}<br>Minimum Installs=%{y}<extra></extra>\",\"legendgroup\":\"Device Care\",\"line\":{\"color\":\"#00cc96\"},\"marker\":{\"symbol\":\"circle\"},\"mode\":\"lines\",\"name\":\"Device Care\",\"orientation\":\"v\",\"showlegend\":true,\"stackgroup\":\"1\",\"x\":[\"Device Care\"],\"xaxis\":\"x\",\"y\":[1000000000],\"yaxis\":\"y\",\"type\":\"scatter\"},{\"hovertemplate\":\"App Name=%{x}<br>Minimum Installs=%{y}<extra></extra>\",\"legendgroup\":\"Google Play Services for AR\",\"line\":{\"color\":\"#ab63fa\"},\"marker\":{\"symbol\":\"circle\"},\"mode\":\"lines\",\"name\":\"Google Play Services for AR\",\"orientation\":\"v\",\"showlegend\":true,\"stackgroup\":\"1\",\"x\":[\"Google Play Services for AR\"],\"xaxis\":\"x\",\"y\":[1000000000],\"yaxis\":\"y\",\"type\":\"scatter\"},{\"hovertemplate\":\"App Name=%{x}<br>Minimum Installs=%{y}<extra></extra>\",\"legendgroup\":\"ANT Radio Service\",\"line\":{\"color\":\"#FFA15A\"},\"marker\":{\"symbol\":\"circle\"},\"mode\":\"lines\",\"name\":\"ANT Radio Service\",\"orientation\":\"v\",\"showlegend\":true,\"stackgroup\":\"1\",\"x\":[\"ANT Radio Service\",\"ANT Radio Service\"],\"xaxis\":\"x\",\"y\":[1000000000,1000000000],\"yaxis\":\"y\",\"type\":\"scatter\"},{\"hovertemplate\":\"App Name=%{x}<br>Minimum Installs=%{y}<extra></extra>\",\"legendgroup\":\"Samsung Security Policy Update\",\"line\":{\"color\":\"#19d3f3\"},\"marker\":{\"symbol\":\"circle\"},\"mode\":\"lines\",\"name\":\"Samsung Security Policy Update\",\"orientation\":\"v\",\"showlegend\":true,\"stackgroup\":\"1\",\"x\":[\"Samsung Security Policy Update\"],\"xaxis\":\"x\",\"y\":[1000000000],\"yaxis\":\"y\",\"type\":\"scatter\"},{\"hovertemplate\":\"App Name=%{x}<br>Minimum Installs=%{y}<extra></extra>\",\"legendgroup\":\"ANT+ Plugins Service\",\"line\":{\"color\":\"#FF6692\"},\"marker\":{\"symbol\":\"circle\"},\"mode\":\"lines\",\"name\":\"ANT+ Plugins Service\",\"orientation\":\"v\",\"showlegend\":true,\"stackgroup\":\"1\",\"x\":[\"ANT+ Plugins Service\",\"ANT+ Plugins Service\"],\"xaxis\":\"x\",\"y\":[1000000000,1000000000],\"yaxis\":\"y\",\"type\":\"scatter\"},{\"hovertemplate\":\"App Name=%{x}<br>Minimum Installs=%{y}<extra></extra>\",\"legendgroup\":\"Samsung Calculator\",\"line\":{\"color\":\"#B6E880\"},\"marker\":{\"symbol\":\"circle\"},\"mode\":\"lines\",\"name\":\"Samsung Calculator\",\"orientation\":\"v\",\"showlegend\":true,\"stackgroup\":\"1\",\"x\":[\"Samsung Calculator\"],\"xaxis\":\"x\",\"y\":[1000000000],\"yaxis\":\"y\",\"type\":\"scatter\"},{\"hovertemplate\":\"App Name=%{x}<br>Minimum Installs=%{y}<extra></extra>\",\"legendgroup\":\"Samsung Health\",\"line\":{\"color\":\"#FF97FF\"},\"marker\":{\"symbol\":\"circle\"},\"mode\":\"lines\",\"name\":\"Samsung Health\",\"orientation\":\"v\",\"showlegend\":true,\"stackgroup\":\"1\",\"x\":[\"Samsung Health\"],\"xaxis\":\"x\",\"y\":[1000000000],\"yaxis\":\"y\",\"type\":\"scatter\"},{\"hovertemplate\":\"App Name=%{x}<br>Minimum Installs=%{y}<extra></extra>\",\"legendgroup\":\"Samsung My Files\",\"line\":{\"color\":\"#FECB52\"},\"marker\":{\"symbol\":\"circle\"},\"mode\":\"lines\",\"name\":\"Samsung My Files\",\"orientation\":\"v\",\"showlegend\":true,\"stackgroup\":\"1\",\"x\":[\"Samsung My Files\"],\"xaxis\":\"x\",\"y\":[1000000000],\"yaxis\":\"y\",\"type\":\"scatter\"},{\"hovertemplate\":\"App Name=%{x}<br>Minimum Installs=%{y}<extra></extra>\",\"legendgroup\":\"Secure Folder\",\"line\":{\"color\":\"#636efa\"},\"marker\":{\"symbol\":\"circle\"},\"mode\":\"lines\",\"name\":\"Secure Folder\",\"orientation\":\"v\",\"showlegend\":true,\"stackgroup\":\"1\",\"x\":[\"Secure Folder\"],\"xaxis\":\"x\",\"y\":[1000000000],\"yaxis\":\"y\",\"type\":\"scatter\"},{\"hovertemplate\":\"App Name=%{x}<br>Minimum Installs=%{y}<extra></extra>\",\"legendgroup\":\"Samsung Voice Recorder\",\"line\":{\"color\":\"#EF553B\"},\"marker\":{\"symbol\":\"circle\"},\"mode\":\"lines\",\"name\":\"Samsung Voice Recorder\",\"orientation\":\"v\",\"showlegend\":true,\"stackgroup\":\"1\",\"x\":[\"Samsung Voice Recorder\"],\"xaxis\":\"x\",\"y\":[1000000000],\"yaxis\":\"y\",\"type\":\"scatter\"},{\"hovertemplate\":\"App Name=%{x}<br>Minimum Installs=%{y}<extra></extra>\",\"legendgroup\":\"Samsung Experience Service\",\"line\":{\"color\":\"#00cc96\"},\"marker\":{\"symbol\":\"circle\"},\"mode\":\"lines\",\"name\":\"Samsung Experience Service\",\"orientation\":\"v\",\"showlegend\":true,\"stackgroup\":\"1\",\"x\":[\"Samsung Experience Service\"],\"xaxis\":\"x\",\"y\":[1000000000],\"yaxis\":\"y\",\"type\":\"scatter\"}],                        {\"template\":{\"data\":{\"barpolar\":[{\"marker\":{\"line\":{\"color\":\"rgb(17,17,17)\",\"width\":0.5},\"pattern\":{\"fillmode\":\"overlay\",\"size\":10,\"solidity\":0.2}},\"type\":\"barpolar\"}],\"bar\":[{\"error_x\":{\"color\":\"#f2f5fa\"},\"error_y\":{\"color\":\"#f2f5fa\"},\"marker\":{\"line\":{\"color\":\"rgb(17,17,17)\",\"width\":0.5},\"pattern\":{\"fillmode\":\"overlay\",\"size\":10,\"solidity\":0.2}},\"type\":\"bar\"}],\"carpet\":[{\"aaxis\":{\"endlinecolor\":\"#A2B1C6\",\"gridcolor\":\"#506784\",\"linecolor\":\"#506784\",\"minorgridcolor\":\"#506784\",\"startlinecolor\":\"#A2B1C6\"},\"baxis\":{\"endlinecolor\":\"#A2B1C6\",\"gridcolor\":\"#506784\",\"linecolor\":\"#506784\",\"minorgridcolor\":\"#506784\",\"startlinecolor\":\"#A2B1C6\"},\"type\":\"carpet\"}],\"choropleth\":[{\"colorbar\":{\"outlinewidth\":0,\"ticks\":\"\"},\"type\":\"choropleth\"}],\"contourcarpet\":[{\"colorbar\":{\"outlinewidth\":0,\"ticks\":\"\"},\"type\":\"contourcarpet\"}],\"contour\":[{\"colorbar\":{\"outlinewidth\":0,\"ticks\":\"\"},\"colorscale\":[[0.0,\"#0d0887\"],[0.1111111111111111,\"#46039f\"],[0.2222222222222222,\"#7201a8\"],[0.3333333333333333,\"#9c179e\"],[0.4444444444444444,\"#bd3786\"],[0.5555555555555556,\"#d8576b\"],[0.6666666666666666,\"#ed7953\"],[0.7777777777777778,\"#fb9f3a\"],[0.8888888888888888,\"#fdca26\"],[1.0,\"#f0f921\"]],\"type\":\"contour\"}],\"heatmapgl\":[{\"colorbar\":{\"outlinewidth\":0,\"ticks\":\"\"},\"colorscale\":[[0.0,\"#0d0887\"],[0.1111111111111111,\"#46039f\"],[0.2222222222222222,\"#7201a8\"],[0.3333333333333333,\"#9c179e\"],[0.4444444444444444,\"#bd3786\"],[0.5555555555555556,\"#d8576b\"],[0.6666666666666666,\"#ed7953\"],[0.7777777777777778,\"#fb9f3a\"],[0.8888888888888888,\"#fdca26\"],[1.0,\"#f0f921\"]],\"type\":\"heatmapgl\"}],\"heatmap\":[{\"colorbar\":{\"outlinewidth\":0,\"ticks\":\"\"},\"colorscale\":[[0.0,\"#0d0887\"],[0.1111111111111111,\"#46039f\"],[0.2222222222222222,\"#7201a8\"],[0.3333333333333333,\"#9c179e\"],[0.4444444444444444,\"#bd3786\"],[0.5555555555555556,\"#d8576b\"],[0.6666666666666666,\"#ed7953\"],[0.7777777777777778,\"#fb9f3a\"],[0.8888888888888888,\"#fdca26\"],[1.0,\"#f0f921\"]],\"type\":\"heatmap\"}],\"histogram2dcontour\":[{\"colorbar\":{\"outlinewidth\":0,\"ticks\":\"\"},\"colorscale\":[[0.0,\"#0d0887\"],[0.1111111111111111,\"#46039f\"],[0.2222222222222222,\"#7201a8\"],[0.3333333333333333,\"#9c179e\"],[0.4444444444444444,\"#bd3786\"],[0.5555555555555556,\"#d8576b\"],[0.6666666666666666,\"#ed7953\"],[0.7777777777777778,\"#fb9f3a\"],[0.8888888888888888,\"#fdca26\"],[1.0,\"#f0f921\"]],\"type\":\"histogram2dcontour\"}],\"histogram2d\":[{\"colorbar\":{\"outlinewidth\":0,\"ticks\":\"\"},\"colorscale\":[[0.0,\"#0d0887\"],[0.1111111111111111,\"#46039f\"],[0.2222222222222222,\"#7201a8\"],[0.3333333333333333,\"#9c179e\"],[0.4444444444444444,\"#bd3786\"],[0.5555555555555556,\"#d8576b\"],[0.6666666666666666,\"#ed7953\"],[0.7777777777777778,\"#fb9f3a\"],[0.8888888888888888,\"#fdca26\"],[1.0,\"#f0f921\"]],\"type\":\"histogram2d\"}],\"histogram\":[{\"marker\":{\"pattern\":{\"fillmode\":\"overlay\",\"size\":10,\"solidity\":0.2}},\"type\":\"histogram\"}],\"mesh3d\":[{\"colorbar\":{\"outlinewidth\":0,\"ticks\":\"\"},\"type\":\"mesh3d\"}],\"parcoords\":[{\"line\":{\"colorbar\":{\"outlinewidth\":0,\"ticks\":\"\"}},\"type\":\"parcoords\"}],\"pie\":[{\"automargin\":true,\"type\":\"pie\"}],\"scatter3d\":[{\"line\":{\"colorbar\":{\"outlinewidth\":0,\"ticks\":\"\"}},\"marker\":{\"colorbar\":{\"outlinewidth\":0,\"ticks\":\"\"}},\"type\":\"scatter3d\"}],\"scattercarpet\":[{\"marker\":{\"colorbar\":{\"outlinewidth\":0,\"ticks\":\"\"}},\"type\":\"scattercarpet\"}],\"scattergeo\":[{\"marker\":{\"colorbar\":{\"outlinewidth\":0,\"ticks\":\"\"}},\"type\":\"scattergeo\"}],\"scattergl\":[{\"marker\":{\"line\":{\"color\":\"#283442\"}},\"type\":\"scattergl\"}],\"scattermapbox\":[{\"marker\":{\"colorbar\":{\"outlinewidth\":0,\"ticks\":\"\"}},\"type\":\"scattermapbox\"}],\"scatterpolargl\":[{\"marker\":{\"colorbar\":{\"outlinewidth\":0,\"ticks\":\"\"}},\"type\":\"scatterpolargl\"}],\"scatterpolar\":[{\"marker\":{\"colorbar\":{\"outlinewidth\":0,\"ticks\":\"\"}},\"type\":\"scatterpolar\"}],\"scatter\":[{\"marker\":{\"line\":{\"color\":\"#283442\"}},\"type\":\"scatter\"}],\"scatterternary\":[{\"marker\":{\"colorbar\":{\"outlinewidth\":0,\"ticks\":\"\"}},\"type\":\"scatterternary\"}],\"surface\":[{\"colorbar\":{\"outlinewidth\":0,\"ticks\":\"\"},\"colorscale\":[[0.0,\"#0d0887\"],[0.1111111111111111,\"#46039f\"],[0.2222222222222222,\"#7201a8\"],[0.3333333333333333,\"#9c179e\"],[0.4444444444444444,\"#bd3786\"],[0.5555555555555556,\"#d8576b\"],[0.6666666666666666,\"#ed7953\"],[0.7777777777777778,\"#fb9f3a\"],[0.8888888888888888,\"#fdca26\"],[1.0,\"#f0f921\"]],\"type\":\"surface\"}],\"table\":[{\"cells\":{\"fill\":{\"color\":\"#506784\"},\"line\":{\"color\":\"rgb(17,17,17)\"}},\"header\":{\"fill\":{\"color\":\"#2a3f5f\"},\"line\":{\"color\":\"rgb(17,17,17)\"}},\"type\":\"table\"}]},\"layout\":{\"annotationdefaults\":{\"arrowcolor\":\"#f2f5fa\",\"arrowhead\":0,\"arrowwidth\":1},\"autotypenumbers\":\"strict\",\"coloraxis\":{\"colorbar\":{\"outlinewidth\":0,\"ticks\":\"\"}},\"colorscale\":{\"diverging\":[[0,\"#8e0152\"],[0.1,\"#c51b7d\"],[0.2,\"#de77ae\"],[0.3,\"#f1b6da\"],[0.4,\"#fde0ef\"],[0.5,\"#f7f7f7\"],[0.6,\"#e6f5d0\"],[0.7,\"#b8e186\"],[0.8,\"#7fbc41\"],[0.9,\"#4d9221\"],[1,\"#276419\"]],\"sequential\":[[0.0,\"#0d0887\"],[0.1111111111111111,\"#46039f\"],[0.2222222222222222,\"#7201a8\"],[0.3333333333333333,\"#9c179e\"],[0.4444444444444444,\"#bd3786\"],[0.5555555555555556,\"#d8576b\"],[0.6666666666666666,\"#ed7953\"],[0.7777777777777778,\"#fb9f3a\"],[0.8888888888888888,\"#fdca26\"],[1.0,\"#f0f921\"]],\"sequentialminus\":[[0.0,\"#0d0887\"],[0.1111111111111111,\"#46039f\"],[0.2222222222222222,\"#7201a8\"],[0.3333333333333333,\"#9c179e\"],[0.4444444444444444,\"#bd3786\"],[0.5555555555555556,\"#d8576b\"],[0.6666666666666666,\"#ed7953\"],[0.7777777777777778,\"#fb9f3a\"],[0.8888888888888888,\"#fdca26\"],[1.0,\"#f0f921\"]]},\"colorway\":[\"#636efa\",\"#EF553B\",\"#00cc96\",\"#ab63fa\",\"#FFA15A\",\"#19d3f3\",\"#FF6692\",\"#B6E880\",\"#FF97FF\",\"#FECB52\"],\"font\":{\"color\":\"#f2f5fa\"},\"geo\":{\"bgcolor\":\"rgb(17,17,17)\",\"lakecolor\":\"rgb(17,17,17)\",\"landcolor\":\"rgb(17,17,17)\",\"showlakes\":true,\"showland\":true,\"subunitcolor\":\"#506784\"},\"hoverlabel\":{\"align\":\"left\"},\"hovermode\":\"closest\",\"mapbox\":{\"style\":\"dark\"},\"paper_bgcolor\":\"rgb(17,17,17)\",\"plot_bgcolor\":\"rgb(17,17,17)\",\"polar\":{\"angularaxis\":{\"gridcolor\":\"#506784\",\"linecolor\":\"#506784\",\"ticks\":\"\"},\"bgcolor\":\"rgb(17,17,17)\",\"radialaxis\":{\"gridcolor\":\"#506784\",\"linecolor\":\"#506784\",\"ticks\":\"\"}},\"scene\":{\"xaxis\":{\"backgroundcolor\":\"rgb(17,17,17)\",\"gridcolor\":\"#506784\",\"gridwidth\":2,\"linecolor\":\"#506784\",\"showbackground\":true,\"ticks\":\"\",\"zerolinecolor\":\"#C8D4E3\"},\"yaxis\":{\"backgroundcolor\":\"rgb(17,17,17)\",\"gridcolor\":\"#506784\",\"gridwidth\":2,\"linecolor\":\"#506784\",\"showbackground\":true,\"ticks\":\"\",\"zerolinecolor\":\"#C8D4E3\"},\"zaxis\":{\"backgroundcolor\":\"rgb(17,17,17)\",\"gridcolor\":\"#506784\",\"gridwidth\":2,\"linecolor\":\"#506784\",\"showbackground\":true,\"ticks\":\"\",\"zerolinecolor\":\"#C8D4E3\"}},\"shapedefaults\":{\"line\":{\"color\":\"#f2f5fa\"}},\"sliderdefaults\":{\"bgcolor\":\"#C8D4E3\",\"bordercolor\":\"rgb(17,17,17)\",\"borderwidth\":1,\"tickwidth\":0},\"ternary\":{\"aaxis\":{\"gridcolor\":\"#506784\",\"linecolor\":\"#506784\",\"ticks\":\"\"},\"baxis\":{\"gridcolor\":\"#506784\",\"linecolor\":\"#506784\",\"ticks\":\"\"},\"bgcolor\":\"rgb(17,17,17)\",\"caxis\":{\"gridcolor\":\"#506784\",\"linecolor\":\"#506784\",\"ticks\":\"\"}},\"title\":{\"x\":0.05},\"updatemenudefaults\":{\"bgcolor\":\"#506784\",\"borderwidth\":0},\"xaxis\":{\"automargin\":true,\"gridcolor\":\"#283442\",\"linecolor\":\"#506784\",\"ticks\":\"\",\"title\":{\"standoff\":15},\"zerolinecolor\":\"#283442\",\"zerolinewidth\":2},\"yaxis\":{\"automargin\":true,\"gridcolor\":\"#283442\",\"linecolor\":\"#506784\",\"ticks\":\"\",\"title\":{\"standoff\":15},\"zerolinecolor\":\"#283442\",\"zerolinewidth\":2}}},\"xaxis\":{\"anchor\":\"y\",\"domain\":[0.0,1.0],\"title\":{\"text\":\"App Name\"},\"categoryorder\":\"array\",\"categoryarray\":[\"Instagram\",\"TikTok\",\"Subway Surfers\",\"Snapchat\",\"Candy Crush Saga\",\"Spotify: Listen to podcasts & find music you love\",\"Facebook Lite\",\"SHAREit - Transfer & Share\",\"Twitter\",\"Netflix\",\"Google Play Games\",\"Gboard - the Google Keyboard\",\"Google Duo - High Quality Video Calls\",\"Skype - free IM & video calls\",\"Google Translate\",\"Microsoft Word: Write, Edit & Share Docs on the Go\",\"Files by Google: Clean up space on your phone\",\"Currents\",\"Messages\",\"Android System WebView\",\"Hangouts\",\"Samsung Internet Browser\",\"Microsoft Excel: View, Edit, & Create Spreadsheets\",\"YouTube Music - Stream Songs & Music Videos\",\"Android Auto - Google Maps, Media & Messaging\",\"Microsoft OneDrive\",\"Samsung Gallery\",\"Samsung Email\",\"Microsoft PowerPoint: Slideshows and Presentations\",\"Dropbox: Cloud Storage, Photo Backup, File Manager\",\"Google Street View\",\"Google Calendar\",\"Google News - Top world & local news headlines\",\"Google Play Books - Ebooks, Audiobooks, and Comics\",\"Google Docs\",\"Google Keep - Notes and Lists\",\"Samsung Push Service\",\"Briefing\",\"Carrier Services\",\"Samsung Notes\",\"Clock\",\"Samsung Print Service Plugin\",\"Device Care\",\"Google Play Services for AR\",\"ANT Radio Service\",\"Samsung Security Policy Update\",\"ANT+ Plugins Service\",\"Samsung Calculator\",\"Samsung Health\",\"Samsung My Files\",\"Secure Folder\",\"Samsung Voice Recorder\",\"Samsung Experience Service\"]},\"yaxis\":{\"anchor\":\"x\",\"domain\":[0.0,1.0],\"title\":{\"text\":\"Minimum Installs\"}},\"legend\":{\"title\":{\"text\":\"App Name\"},\"tracegroupgap\":0},\"title\":{\"text\":\"Top Apps which has Installations greater than a Billion\"}},                        {\"responsive\": true}                    ).then(function(){\n",
              "                            \n",
              "var gd = document.getElementById('d15aeb38-b7e0-4392-b24b-45b8754b8bde');\n",
              "var x = new MutationObserver(function (mutations, observer) {{\n",
              "        var display = window.getComputedStyle(gd).display;\n",
              "        if (!display || display === 'none') {{\n",
              "            console.log([gd, 'removed!']);\n",
              "            Plotly.purge(gd);\n",
              "            observer.disconnect();\n",
              "        }}\n",
              "}});\n",
              "\n",
              "// Listen for the removal of the full notebook cells\n",
              "var notebookContainer = gd.closest('#notebook-container');\n",
              "if (notebookContainer) {{\n",
              "    x.observe(notebookContainer, {childList: true});\n",
              "}}\n",
              "\n",
              "// Listen for the clearing of the current output cell\n",
              "var outputEl = gd.closest('.output');\n",
              "if (outputEl) {{\n",
              "    x.observe(outputEl, {childList: true});\n",
              "}}\n",
              "\n",
              "                        })                };                            </script>        </div>\n",
              "</body>\n",
              "</html>"
            ]
          },
          "metadata": {}
        }
      ]
    },
    {
      "cell_type": "code",
      "source": [
        "dfAppReview   = df.select(df[\"App Name\"],df[\"Reviews\"])\n",
        "dfAppReview2  = dfAppReview.select('Reviews','App Name').filter(dfAppReview.Reviews != \"N/A\").orderBy('Reviews', ascending=False)\n",
        "dfAppReview3  = dfAppReview2.withColumn(\"Reviews\", dfAppReview2[\"Reviews\"].cast(\"int\").alias(\"Reviews\"))\n",
        "dfAppReviewCt = dfAppReview3.dropna()\n",
        "dfAppReviewCt = dfAppReviewCt.orderBy(\"Reviews\",ascending=False).limit(10)\n",
        "dfAppReviewCt1 = dfAppReviewCt.distinct()\n",
        "dfAppReviewCt1.show(20)"
      ],
      "metadata": {
        "colab": {
          "base_uri": "https://localhost:8080/"
        },
        "id": "vgy7F1j0e73s",
        "outputId": "6cf007f3-a6fb-4ef0-acd4-3a6eb56ec3b1"
      },
      "execution_count": null,
      "outputs": [
        {
          "output_type": "stream",
          "name": "stdout",
          "text": [
            "+--------+--------------------+\n",
            "| Reviews|            App Name|\n",
            "+--------+--------------------+\n",
            "|52377198|Garena Free Fire ...|\n",
            "|41525718|  WhatsApp Messenger|\n",
            "|39985223|           Instagram|\n",
            "|37998715|             YouTube|\n",
            "|35408357|            Facebook|\n",
            "|22436297|      Clash of Clans|\n",
            "|21987741|Messenger – Text ...|\n",
            "|21986907|Messenger – Text ...|\n",
            "|17992452|PUBG MOBILE - Tra...|\n",
            "|16163054|              TikTok|\n",
            "+--------+--------------------+\n",
            "\n"
          ]
        }
      ]
    },
    {
      "cell_type": "code",
      "source": [
        "dfAppReviewCtP=dfAppReviewCt.limit(5).toPandas()"
      ],
      "metadata": {
        "id": "GPghirH6o5Kf"
      },
      "execution_count": null,
      "outputs": []
    },
    {
      "cell_type": "code",
      "source": [
        "fig = px.funnel(dfAppReviewCtP, x='Reviews', y='App Name',\n",
        "                template=list(plotly.io.templates.keys())[5],\n",
        "                title=\"Top 5 Apps which has highest number of Reviews\")\n",
        "\n",
        "fig.show()"
      ],
      "metadata": {
        "colab": {
          "base_uri": "https://localhost:8080/",
          "height": 542
        },
        "id": "gF7J-RLroL-C",
        "outputId": "4d9238cd-8493-4fd7-aafd-59528f20fe02"
      },
      "execution_count": null,
      "outputs": [
        {
          "output_type": "display_data",
          "data": {
            "text/html": [
              "<html>\n",
              "<head><meta charset=\"utf-8\" /></head>\n",
              "<body>\n",
              "    <div>            <script src=\"https://cdnjs.cloudflare.com/ajax/libs/mathjax/2.7.5/MathJax.js?config=TeX-AMS-MML_SVG\"></script><script type=\"text/javascript\">if (window.MathJax) {MathJax.Hub.Config({SVG: {font: \"STIX-Web\"}});}</script>                <script type=\"text/javascript\">window.PlotlyConfig = {MathJaxConfig: 'local'};</script>\n",
              "        <script src=\"https://cdn.plot.ly/plotly-2.8.3.min.js\"></script>                <div id=\"d7a51089-1268-4679-b4c3-31387bf12d94\" class=\"plotly-graph-div\" style=\"height:525px; width:100%;\"></div>            <script type=\"text/javascript\">                                    window.PLOTLYENV=window.PLOTLYENV || {};                                    if (document.getElementById(\"d7a51089-1268-4679-b4c3-31387bf12d94\")) {                    Plotly.newPlot(                        \"d7a51089-1268-4679-b4c3-31387bf12d94\",                        [{\"hovertemplate\":\"Reviews=%{x}<br>App Name=%{y}<extra></extra>\",\"legendgroup\":\"\",\"marker\":{\"color\":\"#636efa\"},\"name\":\"\",\"orientation\":\"h\",\"showlegend\":false,\"x\":[52377198,41525718,39985223,37998715,35408357],\"xaxis\":\"x\",\"y\":[\"Garena Free Fire - Rampage\",\"WhatsApp Messenger\",\"Instagram\",\"YouTube\",\"Facebook\"],\"yaxis\":\"y\",\"type\":\"funnel\"}],                        {\"template\":{\"data\":{\"barpolar\":[{\"marker\":{\"line\":{\"color\":\"rgb(17,17,17)\",\"width\":0.5},\"pattern\":{\"fillmode\":\"overlay\",\"size\":10,\"solidity\":0.2}},\"type\":\"barpolar\"}],\"bar\":[{\"error_x\":{\"color\":\"#f2f5fa\"},\"error_y\":{\"color\":\"#f2f5fa\"},\"marker\":{\"line\":{\"color\":\"rgb(17,17,17)\",\"width\":0.5},\"pattern\":{\"fillmode\":\"overlay\",\"size\":10,\"solidity\":0.2}},\"type\":\"bar\"}],\"carpet\":[{\"aaxis\":{\"endlinecolor\":\"#A2B1C6\",\"gridcolor\":\"#506784\",\"linecolor\":\"#506784\",\"minorgridcolor\":\"#506784\",\"startlinecolor\":\"#A2B1C6\"},\"baxis\":{\"endlinecolor\":\"#A2B1C6\",\"gridcolor\":\"#506784\",\"linecolor\":\"#506784\",\"minorgridcolor\":\"#506784\",\"startlinecolor\":\"#A2B1C6\"},\"type\":\"carpet\"}],\"choropleth\":[{\"colorbar\":{\"outlinewidth\":0,\"ticks\":\"\"},\"type\":\"choropleth\"}],\"contourcarpet\":[{\"colorbar\":{\"outlinewidth\":0,\"ticks\":\"\"},\"type\":\"contourcarpet\"}],\"contour\":[{\"colorbar\":{\"outlinewidth\":0,\"ticks\":\"\"},\"colorscale\":[[0.0,\"#0d0887\"],[0.1111111111111111,\"#46039f\"],[0.2222222222222222,\"#7201a8\"],[0.3333333333333333,\"#9c179e\"],[0.4444444444444444,\"#bd3786\"],[0.5555555555555556,\"#d8576b\"],[0.6666666666666666,\"#ed7953\"],[0.7777777777777778,\"#fb9f3a\"],[0.8888888888888888,\"#fdca26\"],[1.0,\"#f0f921\"]],\"type\":\"contour\"}],\"heatmapgl\":[{\"colorbar\":{\"outlinewidth\":0,\"ticks\":\"\"},\"colorscale\":[[0.0,\"#0d0887\"],[0.1111111111111111,\"#46039f\"],[0.2222222222222222,\"#7201a8\"],[0.3333333333333333,\"#9c179e\"],[0.4444444444444444,\"#bd3786\"],[0.5555555555555556,\"#d8576b\"],[0.6666666666666666,\"#ed7953\"],[0.7777777777777778,\"#fb9f3a\"],[0.8888888888888888,\"#fdca26\"],[1.0,\"#f0f921\"]],\"type\":\"heatmapgl\"}],\"heatmap\":[{\"colorbar\":{\"outlinewidth\":0,\"ticks\":\"\"},\"colorscale\":[[0.0,\"#0d0887\"],[0.1111111111111111,\"#46039f\"],[0.2222222222222222,\"#7201a8\"],[0.3333333333333333,\"#9c179e\"],[0.4444444444444444,\"#bd3786\"],[0.5555555555555556,\"#d8576b\"],[0.6666666666666666,\"#ed7953\"],[0.7777777777777778,\"#fb9f3a\"],[0.8888888888888888,\"#fdca26\"],[1.0,\"#f0f921\"]],\"type\":\"heatmap\"}],\"histogram2dcontour\":[{\"colorbar\":{\"outlinewidth\":0,\"ticks\":\"\"},\"colorscale\":[[0.0,\"#0d0887\"],[0.1111111111111111,\"#46039f\"],[0.2222222222222222,\"#7201a8\"],[0.3333333333333333,\"#9c179e\"],[0.4444444444444444,\"#bd3786\"],[0.5555555555555556,\"#d8576b\"],[0.6666666666666666,\"#ed7953\"],[0.7777777777777778,\"#fb9f3a\"],[0.8888888888888888,\"#fdca26\"],[1.0,\"#f0f921\"]],\"type\":\"histogram2dcontour\"}],\"histogram2d\":[{\"colorbar\":{\"outlinewidth\":0,\"ticks\":\"\"},\"colorscale\":[[0.0,\"#0d0887\"],[0.1111111111111111,\"#46039f\"],[0.2222222222222222,\"#7201a8\"],[0.3333333333333333,\"#9c179e\"],[0.4444444444444444,\"#bd3786\"],[0.5555555555555556,\"#d8576b\"],[0.6666666666666666,\"#ed7953\"],[0.7777777777777778,\"#fb9f3a\"],[0.8888888888888888,\"#fdca26\"],[1.0,\"#f0f921\"]],\"type\":\"histogram2d\"}],\"histogram\":[{\"marker\":{\"pattern\":{\"fillmode\":\"overlay\",\"size\":10,\"solidity\":0.2}},\"type\":\"histogram\"}],\"mesh3d\":[{\"colorbar\":{\"outlinewidth\":0,\"ticks\":\"\"},\"type\":\"mesh3d\"}],\"parcoords\":[{\"line\":{\"colorbar\":{\"outlinewidth\":0,\"ticks\":\"\"}},\"type\":\"parcoords\"}],\"pie\":[{\"automargin\":true,\"type\":\"pie\"}],\"scatter3d\":[{\"line\":{\"colorbar\":{\"outlinewidth\":0,\"ticks\":\"\"}},\"marker\":{\"colorbar\":{\"outlinewidth\":0,\"ticks\":\"\"}},\"type\":\"scatter3d\"}],\"scattercarpet\":[{\"marker\":{\"colorbar\":{\"outlinewidth\":0,\"ticks\":\"\"}},\"type\":\"scattercarpet\"}],\"scattergeo\":[{\"marker\":{\"colorbar\":{\"outlinewidth\":0,\"ticks\":\"\"}},\"type\":\"scattergeo\"}],\"scattergl\":[{\"marker\":{\"line\":{\"color\":\"#283442\"}},\"type\":\"scattergl\"}],\"scattermapbox\":[{\"marker\":{\"colorbar\":{\"outlinewidth\":0,\"ticks\":\"\"}},\"type\":\"scattermapbox\"}],\"scatterpolargl\":[{\"marker\":{\"colorbar\":{\"outlinewidth\":0,\"ticks\":\"\"}},\"type\":\"scatterpolargl\"}],\"scatterpolar\":[{\"marker\":{\"colorbar\":{\"outlinewidth\":0,\"ticks\":\"\"}},\"type\":\"scatterpolar\"}],\"scatter\":[{\"marker\":{\"line\":{\"color\":\"#283442\"}},\"type\":\"scatter\"}],\"scatterternary\":[{\"marker\":{\"colorbar\":{\"outlinewidth\":0,\"ticks\":\"\"}},\"type\":\"scatterternary\"}],\"surface\":[{\"colorbar\":{\"outlinewidth\":0,\"ticks\":\"\"},\"colorscale\":[[0.0,\"#0d0887\"],[0.1111111111111111,\"#46039f\"],[0.2222222222222222,\"#7201a8\"],[0.3333333333333333,\"#9c179e\"],[0.4444444444444444,\"#bd3786\"],[0.5555555555555556,\"#d8576b\"],[0.6666666666666666,\"#ed7953\"],[0.7777777777777778,\"#fb9f3a\"],[0.8888888888888888,\"#fdca26\"],[1.0,\"#f0f921\"]],\"type\":\"surface\"}],\"table\":[{\"cells\":{\"fill\":{\"color\":\"#506784\"},\"line\":{\"color\":\"rgb(17,17,17)\"}},\"header\":{\"fill\":{\"color\":\"#2a3f5f\"},\"line\":{\"color\":\"rgb(17,17,17)\"}},\"type\":\"table\"}]},\"layout\":{\"annotationdefaults\":{\"arrowcolor\":\"#f2f5fa\",\"arrowhead\":0,\"arrowwidth\":1},\"autotypenumbers\":\"strict\",\"coloraxis\":{\"colorbar\":{\"outlinewidth\":0,\"ticks\":\"\"}},\"colorscale\":{\"diverging\":[[0,\"#8e0152\"],[0.1,\"#c51b7d\"],[0.2,\"#de77ae\"],[0.3,\"#f1b6da\"],[0.4,\"#fde0ef\"],[0.5,\"#f7f7f7\"],[0.6,\"#e6f5d0\"],[0.7,\"#b8e186\"],[0.8,\"#7fbc41\"],[0.9,\"#4d9221\"],[1,\"#276419\"]],\"sequential\":[[0.0,\"#0d0887\"],[0.1111111111111111,\"#46039f\"],[0.2222222222222222,\"#7201a8\"],[0.3333333333333333,\"#9c179e\"],[0.4444444444444444,\"#bd3786\"],[0.5555555555555556,\"#d8576b\"],[0.6666666666666666,\"#ed7953\"],[0.7777777777777778,\"#fb9f3a\"],[0.8888888888888888,\"#fdca26\"],[1.0,\"#f0f921\"]],\"sequentialminus\":[[0.0,\"#0d0887\"],[0.1111111111111111,\"#46039f\"],[0.2222222222222222,\"#7201a8\"],[0.3333333333333333,\"#9c179e\"],[0.4444444444444444,\"#bd3786\"],[0.5555555555555556,\"#d8576b\"],[0.6666666666666666,\"#ed7953\"],[0.7777777777777778,\"#fb9f3a\"],[0.8888888888888888,\"#fdca26\"],[1.0,\"#f0f921\"]]},\"colorway\":[\"#636efa\",\"#EF553B\",\"#00cc96\",\"#ab63fa\",\"#FFA15A\",\"#19d3f3\",\"#FF6692\",\"#B6E880\",\"#FF97FF\",\"#FECB52\"],\"font\":{\"color\":\"#f2f5fa\"},\"geo\":{\"bgcolor\":\"rgb(17,17,17)\",\"lakecolor\":\"rgb(17,17,17)\",\"landcolor\":\"rgb(17,17,17)\",\"showlakes\":true,\"showland\":true,\"subunitcolor\":\"#506784\"},\"hoverlabel\":{\"align\":\"left\"},\"hovermode\":\"closest\",\"mapbox\":{\"style\":\"dark\"},\"paper_bgcolor\":\"rgb(17,17,17)\",\"plot_bgcolor\":\"rgb(17,17,17)\",\"polar\":{\"angularaxis\":{\"gridcolor\":\"#506784\",\"linecolor\":\"#506784\",\"ticks\":\"\"},\"bgcolor\":\"rgb(17,17,17)\",\"radialaxis\":{\"gridcolor\":\"#506784\",\"linecolor\":\"#506784\",\"ticks\":\"\"}},\"scene\":{\"xaxis\":{\"backgroundcolor\":\"rgb(17,17,17)\",\"gridcolor\":\"#506784\",\"gridwidth\":2,\"linecolor\":\"#506784\",\"showbackground\":true,\"ticks\":\"\",\"zerolinecolor\":\"#C8D4E3\"},\"yaxis\":{\"backgroundcolor\":\"rgb(17,17,17)\",\"gridcolor\":\"#506784\",\"gridwidth\":2,\"linecolor\":\"#506784\",\"showbackground\":true,\"ticks\":\"\",\"zerolinecolor\":\"#C8D4E3\"},\"zaxis\":{\"backgroundcolor\":\"rgb(17,17,17)\",\"gridcolor\":\"#506784\",\"gridwidth\":2,\"linecolor\":\"#506784\",\"showbackground\":true,\"ticks\":\"\",\"zerolinecolor\":\"#C8D4E3\"}},\"shapedefaults\":{\"line\":{\"color\":\"#f2f5fa\"}},\"sliderdefaults\":{\"bgcolor\":\"#C8D4E3\",\"bordercolor\":\"rgb(17,17,17)\",\"borderwidth\":1,\"tickwidth\":0},\"ternary\":{\"aaxis\":{\"gridcolor\":\"#506784\",\"linecolor\":\"#506784\",\"ticks\":\"\"},\"baxis\":{\"gridcolor\":\"#506784\",\"linecolor\":\"#506784\",\"ticks\":\"\"},\"bgcolor\":\"rgb(17,17,17)\",\"caxis\":{\"gridcolor\":\"#506784\",\"linecolor\":\"#506784\",\"ticks\":\"\"}},\"title\":{\"x\":0.05},\"updatemenudefaults\":{\"bgcolor\":\"#506784\",\"borderwidth\":0},\"xaxis\":{\"automargin\":true,\"gridcolor\":\"#283442\",\"linecolor\":\"#506784\",\"ticks\":\"\",\"title\":{\"standoff\":15},\"zerolinecolor\":\"#283442\",\"zerolinewidth\":2},\"yaxis\":{\"automargin\":true,\"gridcolor\":\"#283442\",\"linecolor\":\"#506784\",\"ticks\":\"\",\"title\":{\"standoff\":15},\"zerolinecolor\":\"#283442\",\"zerolinewidth\":2}}},\"xaxis\":{\"anchor\":\"y\",\"domain\":[0.0,1.0],\"title\":{\"text\":\"Reviews\"}},\"yaxis\":{\"anchor\":\"x\",\"domain\":[0.0,1.0],\"title\":{\"text\":\"App Name\"}},\"legend\":{\"tracegroupgap\":0},\"title\":{\"text\":\"Top 5 Apps which has highest number of Reviews\"}},                        {\"responsive\": true}                    ).then(function(){\n",
              "                            \n",
              "var gd = document.getElementById('d7a51089-1268-4679-b4c3-31387bf12d94');\n",
              "var x = new MutationObserver(function (mutations, observer) {{\n",
              "        var display = window.getComputedStyle(gd).display;\n",
              "        if (!display || display === 'none') {{\n",
              "            console.log([gd, 'removed!']);\n",
              "            Plotly.purge(gd);\n",
              "            observer.disconnect();\n",
              "        }}\n",
              "}});\n",
              "\n",
              "// Listen for the removal of the full notebook cells\n",
              "var notebookContainer = gd.closest('#notebook-container');\n",
              "if (notebookContainer) {{\n",
              "    x.observe(notebookContainer, {childList: true});\n",
              "}}\n",
              "\n",
              "// Listen for the clearing of the current output cell\n",
              "var outputEl = gd.closest('.output');\n",
              "if (outputEl) {{\n",
              "    x.observe(outputEl, {childList: true});\n",
              "}}\n",
              "\n",
              "                        })                };                            </script>        </div>\n",
              "</body>\n",
              "</html>"
            ]
          },
          "metadata": {}
        }
      ]
    },
    {
      "cell_type": "code",
      "source": [
        "dfAppReview2.show(100)"
      ],
      "metadata": {
        "colab": {
          "base_uri": "https://localhost:8080/"
        },
        "id": "93TXc_NEfyuN",
        "outputId": "9c1a7d80-0600-4f17-ac69-bf16910aa5e4"
      },
      "execution_count": null,
      "outputs": [
        {
          "output_type": "stream",
          "name": "stdout",
          "text": [
            "+--------------------+--------------------+\n",
            "|             Reviews|            App Name|\n",
            "+--------------------+--------------------+\n",
            "|very professional\"\"\"|Couple Dual Photo...|\n",
            "|tricks to be the ...|Woodworking Proje...|\n",
            "|                free|Step Tracker - Pe...|\n",
            "|You Can Always Be...|Success Quotes Wa...|\n",
            "|                TRUE|\"Yanosik: \"\"anti-...|\n",
            "|                Rose| Rosa Live Wallpaper|\n",
            "|Quiz: guess the p...|\"\"\"Тайны Микромир...|\n",
            "|                  Q8|🚗 Wallpapers for...|\n",
            "|Puzzle\"\" is educa...|Learn Days and Mo...|\n",
            "|               Photo|\"world heritage a...|\n",
            "|Personalize these...|Speed Boat Racing...|\n",
            "|Personalize these...|Bike Mayhem Mount...|\n",
            "|Mozart's Lullaby ...|  \"Колыбельная \"\"Спи|\n",
            "|It is simple and ...|           Flowering|\n",
            "|                9999|Racing Car Drivin...|\n",
            "|                9999|   Galaxy Battleship|\n",
            "|                9997|English to Urdu D...|\n",
            "|               99952|    Basketball Mania|\n",
            "|                9992|        Lucky Looter|\n",
            "|                9991|Launcher Live Ico...|\n",
            "|                9991|  Super Falling Fred|\n",
            "|                 999|        Ahl el zeker|\n",
            "|                 999|WSB-TV Channel 2 ...|\n",
            "|                 999|Smart Bus Wash Se...|\n",
            "|                 999|Keep Bounce: Boun...|\n",
            "|                 999|Animal Cars Kids ...|\n",
            "|                 999|Baby Panda's Magi...|\n",
            "|                 999|Orange et moi Bur...|\n",
            "|                 999|             FitShow|\n",
            "|                 999|     Stealth Fitness|\n",
            "|                 999|        Daily Hadith|\n",
            "|                 999|Stylish Name Make...|\n",
            "|                 999|All Bank Balance ...|\n",
            "|                 999|Pipedrive – Sales...|\n",
            "|                 999|Modern Car Parkin...|\n",
            "|                 999|Cubik's - Rubik's...|\n",
            "|                 999|Den Remote Contro...|\n",
            "|                 999|Pipedrive – Sales...|\n",
            "|                 999|Smart Bus Wash Se...|\n",
            "|                 999|          Go To Town|\n",
            "|                 999|Castle Jigsaw Puz...|\n",
            "|                9988|New Funny Sticker...|\n",
            "|                9987|Days Bygone - Cas...|\n",
            "|                9987|RVR1960 - Reina V...|\n",
            "|                9987|            FreeCall|\n",
            "|                9986|            Farm Bay|\n",
            "|                9986|Blackstone Myster...|\n",
            "|               99857| Miga Town: My World|\n",
            "|                9984|            FreeCall|\n",
            "|               99833|Yatra - Flights, ...|\n",
            "|                9983|Home Designer - M...|\n",
            "|                9981|             Omantel|\n",
            "|               99804|          Dictionary|\n",
            "|                 998|Pool Party Gunner...|\n",
            "|                 998| 로보카폴리 구조본부|\n",
            "|                 998|Sheikh Sudais Qur...|\n",
            "|                 998|crane game - DOKO...|\n",
            "|                 998|GT Racing Bike Dr...|\n",
            "|                 998|           SouGov.br|\n",
            "|                 998|Find The Differen...|\n",
            "|                 998|BLE Scanner (Scan...|\n",
            "|                 998|  DailyRoads Voyager|\n",
            "|                 998|Manhunt – Gay Cha...|\n",
            "|                 998|Baby Hazel Spring...|\n",
            "|                 998|Hide Images,Video...|\n",
            "|                 998|Pakistani Milli N...|\n",
            "|                 998|Mubawab - Immobil...|\n",
            "|                 998|Meditation Timer ...|\n",
            "|                 998|Rockland Trust Mo...|\n",
            "|                 998|Pink 2 GO SMS PRO...|\n",
            "|                 998|Kitten Cat Craft-...|\n",
            "|                 998|My pony mod for MCPE|\n",
            "|                 998|Metal Sniffer: Me...|\n",
            "|                 998|Sherdil - The Off...|\n",
            "|                 998|Neon Pink Galaxy ...|\n",
            "|                 998|           Joywear 2|\n",
            "|                 998|Escape Game: Arab...|\n",
            "|                 998| DSLR Remote Control|\n",
            "|                 998| DSLR Remote Control|\n",
            "|               99798|      Trench Assault|\n",
            "|               99791|Kitten Cat Simula...|\n",
            "|               99790|   DeathRun Portable|\n",
            "|                9979|Smart IR Remote -...|\n",
            "|                9979|Police Highway Ch...|\n",
            "|                9978|Wehear - Audioboo...|\n",
            "|                9974|First War On The ...|\n",
            "|               99734|Mafia42 - Free So...|\n",
            "|                9973|             ZY Play|\n",
            "|               99719|Dangerous Fellows...|\n",
            "|                9970|      Contract Demon|\n",
            "|                 997|DoYouStream - Fil...|\n",
            "|                 997|Wordy: Hunt & Col...|\n",
            "|                 997|Defender Heroes P...|\n",
            "|                 997|Mobile Network Se...|\n",
            "|                 997|Yukon Russian – C...|\n",
            "|                 997|XUI CM12.x/CM13 T...|\n",
            "|                 997|           580 Words|\n",
            "|                 997|Family Board Game...|\n",
            "|                 997|Wonderwall - Wall...|\n",
            "|                 997|      cBook 直讀中文|\n",
            "+--------------------+--------------------+\n",
            "only showing top 100 rows\n",
            "\n"
          ]
        }
      ]
    },
    {
      "cell_type": "code",
      "source": [
        "dfCateFree= df.select(df[\"Category\"],df[\"Free\"])"
      ],
      "metadata": {
        "id": "WZV0jq4v1cI2"
      },
      "execution_count": null,
      "outputs": []
    },
    {
      "cell_type": "code",
      "source": [
        "from pyspark.sql.functions import count, avg\n",
        "dfCateFree=dfCateFree.groupBy(\"Category\", \"Free\").agg( count(\"*\").alias(\"Count\"))"
      ],
      "metadata": {
        "id": "2khv1UTk1yaF"
      },
      "execution_count": null,
      "outputs": []
    },
    {
      "cell_type": "code",
      "source": [
        "dfCateFree= dfCateFree.filter((dfCateFree.Free == \"TRUE\")|(dfCateFree.Free == \"FALSE\"))"
      ],
      "metadata": {
        "id": "pPGRFElE2BMj"
      },
      "execution_count": null,
      "outputs": []
    },
    {
      "cell_type": "code",
      "source": [
        "dfCateFreeP=dfCateFree.toPandas()\n",
        "dfCateFreeP = dfCateFreeP.pivot('Category', 'Free', 'Count').fillna(0).reset_index()"
      ],
      "metadata": {
        "id": "JIrXAMTs2Ggj"
      },
      "execution_count": null,
      "outputs": []
    },
    {
      "cell_type": "code",
      "source": [
        "dfCateFreeP.set_index('Category').plot(kind='bar', stacked=True, figsize=(18,9))\n",
        "plt.xlabel(\"Category\", fontsize=15)\n",
        "plt.ylabel(\"Count\", fontsize=15)\n",
        "plt.title(\"Count of applications in each category differentiated by their type(Free or Paid)\")\n",
        "plt.show()"
      ],
      "metadata": {
        "colab": {
          "base_uri": "https://localhost:8080/",
          "height": 544
        },
        "id": "NKLcY9PO2O4E",
        "outputId": "7eb17526-76ac-4a17-d8ba-319ea6e7379a"
      },
      "execution_count": null,
      "outputs": [
        {
          "output_type": "display_data",
          "data": {
            "text/plain": [
              "<Figure size 1296x648 with 1 Axes>"
            ],
            "image/png": "[encoded data removed]"
          },
          "metadata": {
            "needs_background": "light"
          }
        }
      ]
    },
    {
      "cell_type": "code",
      "source": [
        "\n",
        "dfFree = df.select('Free').groupBy('Free').agg(F.count('Free').alias('FreeCount')).orderBy('FreeCount', ascending=False)"
      ],
      "metadata": {
        "id": "efKuL4Kc3A4v"
      },
      "execution_count": null,
      "outputs": []
    },
    {
      "cell_type": "code",
      "source": [
        "dfFreeP=dfFree.limit(2).toPandas()\n",
        "dfFreeP['FreeCount'] = dfFreeP['FreeCount'].astype(int)"
      ],
      "metadata": {
        "id": "so3wtvDs3Hr9"
      },
      "execution_count": null,
      "outputs": []
    },
    {
      "cell_type": "code",
      "source": [
        "fig = px.pie(dfFreeP, values='FreeCount', \n",
        "    template=list(plotly.io.templates.keys())[5],\n",
        "    title='Free Vs Paid Apps')\n",
        "fig.show()"
      ],
      "metadata": {
        "colab": {
          "base_uri": "https://localhost:8080/",
          "height": 542
        },
        "id": "KWeQwG_N3U7F",
        "outputId": "18e812b0-41c3-437d-ef5e-dcf12b1bf0f4"
      },
      "execution_count": null,
      "outputs": [
        {
          "output_type": "display_data",
          "data": {
            "text/html": [
              "<html>\n",
              "<head><meta charset=\"utf-8\" /></head>\n",
              "<body>\n",
              "    <div>            <script src=\"https://cdnjs.cloudflare.com/ajax/libs/mathjax/2.7.5/MathJax.js?config=TeX-AMS-MML_SVG\"></script><script type=\"text/javascript\">if (window.MathJax) {MathJax.Hub.Config({SVG: {font: \"STIX-Web\"}});}</script>                <script type=\"text/javascript\">window.PlotlyConfig = {MathJaxConfig: 'local'};</script>\n",
              "        <script src=\"https://cdn.plot.ly/plotly-2.8.3.min.js\"></script>                <div id=\"2862cf93-b688-415c-abe2-811641f1731a\" class=\"plotly-graph-div\" style=\"height:525px; width:100%;\"></div>            <script type=\"text/javascript\">                                    window.PLOTLYENV=window.PLOTLYENV || {};                                    if (document.getElementById(\"2862cf93-b688-415c-abe2-811641f1731a\")) {                    Plotly.newPlot(                        \"2862cf93-b688-415c-abe2-811641f1731a\",                        [{\"domain\":{\"x\":[0.0,1.0],\"y\":[0.0,1.0]},\"hovertemplate\":\"FreeCount=%{value}<extra></extra>\",\"legendgroup\":\"\",\"name\":\"\",\"showlegend\":false,\"values\":[422457,28236],\"type\":\"pie\"}],                        {\"template\":{\"data\":{\"barpolar\":[{\"marker\":{\"line\":{\"color\":\"rgb(17,17,17)\",\"width\":0.5},\"pattern\":{\"fillmode\":\"overlay\",\"size\":10,\"solidity\":0.2}},\"type\":\"barpolar\"}],\"bar\":[{\"error_x\":{\"color\":\"#f2f5fa\"},\"error_y\":{\"color\":\"#f2f5fa\"},\"marker\":{\"line\":{\"color\":\"rgb(17,17,17)\",\"width\":0.5},\"pattern\":{\"fillmode\":\"overlay\",\"size\":10,\"solidity\":0.2}},\"type\":\"bar\"}],\"carpet\":[{\"aaxis\":{\"endlinecolor\":\"#A2B1C6\",\"gridcolor\":\"#506784\",\"linecolor\":\"#506784\",\"minorgridcolor\":\"#506784\",\"startlinecolor\":\"#A2B1C6\"},\"baxis\":{\"endlinecolor\":\"#A2B1C6\",\"gridcolor\":\"#506784\",\"linecolor\":\"#506784\",\"minorgridcolor\":\"#506784\",\"startlinecolor\":\"#A2B1C6\"},\"type\":\"carpet\"}],\"choropleth\":[{\"colorbar\":{\"outlinewidth\":0,\"ticks\":\"\"},\"type\":\"choropleth\"}],\"contourcarpet\":[{\"colorbar\":{\"outlinewidth\":0,\"ticks\":\"\"},\"type\":\"contourcarpet\"}],\"contour\":[{\"colorbar\":{\"outlinewidth\":0,\"ticks\":\"\"},\"colorscale\":[[0.0,\"#0d0887\"],[0.1111111111111111,\"#46039f\"],[0.2222222222222222,\"#7201a8\"],[0.3333333333333333,\"#9c179e\"],[0.4444444444444444,\"#bd3786\"],[0.5555555555555556,\"#d8576b\"],[0.6666666666666666,\"#ed7953\"],[0.7777777777777778,\"#fb9f3a\"],[0.8888888888888888,\"#fdca26\"],[1.0,\"#f0f921\"]],\"type\":\"contour\"}],\"heatmapgl\":[{\"colorbar\":{\"outlinewidth\":0,\"ticks\":\"\"},\"colorscale\":[[0.0,\"#0d0887\"],[0.1111111111111111,\"#46039f\"],[0.2222222222222222,\"#7201a8\"],[0.3333333333333333,\"#9c179e\"],[0.4444444444444444,\"#bd3786\"],[0.5555555555555556,\"#d8576b\"],[0.6666666666666666,\"#ed7953\"],[0.7777777777777778,\"#fb9f3a\"],[0.8888888888888888,\"#fdca26\"],[1.0,\"#f0f921\"]],\"type\":\"heatmapgl\"}],\"heatmap\":[{\"colorbar\":{\"outlinewidth\":0,\"ticks\":\"\"},\"colorscale\":[[0.0,\"#0d0887\"],[0.1111111111111111,\"#46039f\"],[0.2222222222222222,\"#7201a8\"],[0.3333333333333333,\"#9c179e\"],[0.4444444444444444,\"#bd3786\"],[0.5555555555555556,\"#d8576b\"],[0.6666666666666666,\"#ed7953\"],[0.7777777777777778,\"#fb9f3a\"],[0.8888888888888888,\"#fdca26\"],[1.0,\"#f0f921\"]],\"type\":\"heatmap\"}],\"histogram2dcontour\":[{\"colorbar\":{\"outlinewidth\":0,\"ticks\":\"\"},\"colorscale\":[[0.0,\"#0d0887\"],[0.1111111111111111,\"#46039f\"],[0.2222222222222222,\"#7201a8\"],[0.3333333333333333,\"#9c179e\"],[0.4444444444444444,\"#bd3786\"],[0.5555555555555556,\"#d8576b\"],[0.6666666666666666,\"#ed7953\"],[0.7777777777777778,\"#fb9f3a\"],[0.8888888888888888,\"#fdca26\"],[1.0,\"#f0f921\"]],\"type\":\"histogram2dcontour\"}],\"histogram2d\":[{\"colorbar\":{\"outlinewidth\":0,\"ticks\":\"\"},\"colorscale\":[[0.0,\"#0d0887\"],[0.1111111111111111,\"#46039f\"],[0.2222222222222222,\"#7201a8\"],[0.3333333333333333,\"#9c179e\"],[0.4444444444444444,\"#bd3786\"],[0.5555555555555556,\"#d8576b\"],[0.6666666666666666,\"#ed7953\"],[0.7777777777777778,\"#fb9f3a\"],[0.8888888888888888,\"#fdca26\"],[1.0,\"#f0f921\"]],\"type\":\"histogram2d\"}],\"histogram\":[{\"marker\":{\"pattern\":{\"fillmode\":\"overlay\",\"size\":10,\"solidity\":0.2}},\"type\":\"histogram\"}],\"mesh3d\":[{\"colorbar\":{\"outlinewidth\":0,\"ticks\":\"\"},\"type\":\"mesh3d\"}],\"parcoords\":[{\"line\":{\"colorbar\":{\"outlinewidth\":0,\"ticks\":\"\"}},\"type\":\"parcoords\"}],\"pie\":[{\"automargin\":true,\"type\":\"pie\"}],\"scatter3d\":[{\"line\":{\"colorbar\":{\"outlinewidth\":0,\"ticks\":\"\"}},\"marker\":{\"colorbar\":{\"outlinewidth\":0,\"ticks\":\"\"}},\"type\":\"scatter3d\"}],\"scattercarpet\":[{\"marker\":{\"colorbar\":{\"outlinewidth\":0,\"ticks\":\"\"}},\"type\":\"scattercarpet\"}],\"scattergeo\":[{\"marker\":{\"colorbar\":{\"outlinewidth\":0,\"ticks\":\"\"}},\"type\":\"scattergeo\"}],\"scattergl\":[{\"marker\":{\"line\":{\"color\":\"#283442\"}},\"type\":\"scattergl\"}],\"scattermapbox\":[{\"marker\":{\"colorbar\":{\"outlinewidth\":0,\"ticks\":\"\"}},\"type\":\"scattermapbox\"}],\"scatterpolargl\":[{\"marker\":{\"colorbar\":{\"outlinewidth\":0,\"ticks\":\"\"}},\"type\":\"scatterpolargl\"}],\"scatterpolar\":[{\"marker\":{\"colorbar\":{\"outlinewidth\":0,\"ticks\":\"\"}},\"type\":\"scatterpolar\"}],\"scatter\":[{\"marker\":{\"line\":{\"color\":\"#283442\"}},\"type\":\"scatter\"}],\"scatterternary\":[{\"marker\":{\"colorbar\":{\"outlinewidth\":0,\"ticks\":\"\"}},\"type\":\"scatterternary\"}],\"surface\":[{\"colorbar\":{\"outlinewidth\":0,\"ticks\":\"\"},\"colorscale\":[[0.0,\"#0d0887\"],[0.1111111111111111,\"#46039f\"],[0.2222222222222222,\"#7201a8\"],[0.3333333333333333,\"#9c179e\"],[0.4444444444444444,\"#bd3786\"],[0.5555555555555556,\"#d8576b\"],[0.6666666666666666,\"#ed7953\"],[0.7777777777777778,\"#fb9f3a\"],[0.8888888888888888,\"#fdca26\"],[1.0,\"#f0f921\"]],\"type\":\"surface\"}],\"table\":[{\"cells\":{\"fill\":{\"color\":\"#506784\"},\"line\":{\"color\":\"rgb(17,17,17)\"}},\"header\":{\"fill\":{\"color\":\"#2a3f5f\"},\"line\":{\"color\":\"rgb(17,17,17)\"}},\"type\":\"table\"}]},\"layout\":{\"annotationdefaults\":{\"arrowcolor\":\"#f2f5fa\",\"arrowhead\":0,\"arrowwidth\":1},\"autotypenumbers\":\"strict\",\"coloraxis\":{\"colorbar\":{\"outlinewidth\":0,\"ticks\":\"\"}},\"colorscale\":{\"diverging\":[[0,\"#8e0152\"],[0.1,\"#c51b7d\"],[0.2,\"#de77ae\"],[0.3,\"#f1b6da\"],[0.4,\"#fde0ef\"],[0.5,\"#f7f7f7\"],[0.6,\"#e6f5d0\"],[0.7,\"#b8e186\"],[0.8,\"#7fbc41\"],[0.9,\"#4d9221\"],[1,\"#276419\"]],\"sequential\":[[0.0,\"#0d0887\"],[0.1111111111111111,\"#46039f\"],[0.2222222222222222,\"#7201a8\"],[0.3333333333333333,\"#9c179e\"],[0.4444444444444444,\"#bd3786\"],[0.5555555555555556,\"#d8576b\"],[0.6666666666666666,\"#ed7953\"],[0.7777777777777778,\"#fb9f3a\"],[0.8888888888888888,\"#fdca26\"],[1.0,\"#f0f921\"]],\"sequentialminus\":[[0.0,\"#0d0887\"],[0.1111111111111111,\"#46039f\"],[0.2222222222222222,\"#7201a8\"],[0.3333333333333333,\"#9c179e\"],[0.4444444444444444,\"#bd3786\"],[0.5555555555555556,\"#d8576b\"],[0.6666666666666666,\"#ed7953\"],[0.7777777777777778,\"#fb9f3a\"],[0.8888888888888888,\"#fdca26\"],[1.0,\"#f0f921\"]]},\"colorway\":[\"#636efa\",\"#EF553B\",\"#00cc96\",\"#ab63fa\",\"#FFA15A\",\"#19d3f3\",\"#FF6692\",\"#B6E880\",\"#FF97FF\",\"#FECB52\"],\"font\":{\"color\":\"#f2f5fa\"},\"geo\":{\"bgcolor\":\"rgb(17,17,17)\",\"lakecolor\":\"rgb(17,17,17)\",\"landcolor\":\"rgb(17,17,17)\",\"showlakes\":true,\"showland\":true,\"subunitcolor\":\"#506784\"},\"hoverlabel\":{\"align\":\"left\"},\"hovermode\":\"closest\",\"mapbox\":{\"style\":\"dark\"},\"paper_bgcolor\":\"rgb(17,17,17)\",\"plot_bgcolor\":\"rgb(17,17,17)\",\"polar\":{\"angularaxis\":{\"gridcolor\":\"#506784\",\"linecolor\":\"#506784\",\"ticks\":\"\"},\"bgcolor\":\"rgb(17,17,17)\",\"radialaxis\":{\"gridcolor\":\"#506784\",\"linecolor\":\"#506784\",\"ticks\":\"\"}},\"scene\":{\"xaxis\":{\"backgroundcolor\":\"rgb(17,17,17)\",\"gridcolor\":\"#506784\",\"gridwidth\":2,\"linecolor\":\"#506784\",\"showbackground\":true,\"ticks\":\"\",\"zerolinecolor\":\"#C8D4E3\"},\"yaxis\":{\"backgroundcolor\":\"rgb(17,17,17)\",\"gridcolor\":\"#506784\",\"gridwidth\":2,\"linecolor\":\"#506784\",\"showbackground\":true,\"ticks\":\"\",\"zerolinecolor\":\"#C8D4E3\"},\"zaxis\":{\"backgroundcolor\":\"rgb(17,17,17)\",\"gridcolor\":\"#506784\",\"gridwidth\":2,\"linecolor\":\"#506784\",\"showbackground\":true,\"ticks\":\"\",\"zerolinecolor\":\"#C8D4E3\"}},\"shapedefaults\":{\"line\":{\"color\":\"#f2f5fa\"}},\"sliderdefaults\":{\"bgcolor\":\"#C8D4E3\",\"bordercolor\":\"rgb(17,17,17)\",\"borderwidth\":1,\"tickwidth\":0},\"ternary\":{\"aaxis\":{\"gridcolor\":\"#506784\",\"linecolor\":\"#506784\",\"ticks\":\"\"},\"baxis\":{\"gridcolor\":\"#506784\",\"linecolor\":\"#506784\",\"ticks\":\"\"},\"bgcolor\":\"rgb(17,17,17)\",\"caxis\":{\"gridcolor\":\"#506784\",\"linecolor\":\"#506784\",\"ticks\":\"\"}},\"title\":{\"x\":0.05},\"updatemenudefaults\":{\"bgcolor\":\"#506784\",\"borderwidth\":0},\"xaxis\":{\"automargin\":true,\"gridcolor\":\"#283442\",\"linecolor\":\"#506784\",\"ticks\":\"\",\"title\":{\"standoff\":15},\"zerolinecolor\":\"#283442\",\"zerolinewidth\":2},\"yaxis\":{\"automargin\":true,\"gridcolor\":\"#283442\",\"linecolor\":\"#506784\",\"ticks\":\"\",\"title\":{\"standoff\":15},\"zerolinecolor\":\"#283442\",\"zerolinewidth\":2}}},\"legend\":{\"tracegroupgap\":0},\"title\":{\"text\":\"Free Vs Paid Apps\"}},                        {\"responsive\": true}                    ).then(function(){\n",
              "                            \n",
              "var gd = document.getElementById('2862cf93-b688-415c-abe2-811641f1731a');\n",
              "var x = new MutationObserver(function (mutations, observer) {{\n",
              "        var display = window.getComputedStyle(gd).display;\n",
              "        if (!display || display === 'none') {{\n",
              "            console.log([gd, 'removed!']);\n",
              "            Plotly.purge(gd);\n",
              "            observer.disconnect();\n",
              "        }}\n",
              "}});\n",
              "\n",
              "// Listen for the removal of the full notebook cells\n",
              "var notebookContainer = gd.closest('#notebook-container');\n",
              "if (notebookContainer) {{\n",
              "    x.observe(notebookContainer, {childList: true});\n",
              "}}\n",
              "\n",
              "// Listen for the clearing of the current output cell\n",
              "var outputEl = gd.closest('.output');\n",
              "if (outputEl) {{\n",
              "    x.observe(outputEl, {childList: true});\n",
              "}}\n",
              "\n",
              "                        })                };                            </script>        </div>\n",
              "</body>\n",
              "</html>"
            ]
          },
          "metadata": {}
        }
      ]
    },
    {
      "cell_type": "code",
      "source": [
        "dfRating= df.withColumn(\"Rating\", df[\"Rating\"].cast(\"float\").alias(\"Rating\"))"
      ],
      "metadata": {
        "id": "w8Gn1nI6tlx9"
      },
      "execution_count": null,
      "outputs": []
    },
    {
      "cell_type": "code",
      "source": [
        "dfRating = dfRating.withColumn(\"Rating\", F.round(dfRating[\"Rating\"], 1))"
      ],
      "metadata": {
        "id": "jVz6ANOItwub"
      },
      "execution_count": null,
      "outputs": []
    },
    {
      "cell_type": "code",
      "source": [
        "dfRating = dfRating.select('Rating').filter(dfRating.Rating != \"0.0\").filter(dfRating.Rating <= \"5.0\").groupBy('Rating').agg(F.count('Rating').alias('RatingCount')).orderBy('RatingCount', ascending=False)"
      ],
      "metadata": {
        "id": "UTh-CX6pvDkA"
      },
      "execution_count": null,
      "outputs": []
    },
    {
      "cell_type": "code",
      "source": [
        "dfRatingP= dfRating.toPandas()"
      ],
      "metadata": {
        "id": "FTCEDEp60dTj"
      },
      "execution_count": null,
      "outputs": []
    },
    {
      "cell_type": "code",
      "source": [
        "dfRatingP['Rating'].describe()"
      ],
      "metadata": {
        "colab": {
          "base_uri": "https://localhost:8080/"
        },
        "id": "AugFM7U70jby",
        "outputId": "d66bec35-b5db-4b5e-cf00-df4b92b23b61"
      },
      "execution_count": null,
      "outputs": [
        {
          "output_type": "execute_result",
          "data": {
            "text/plain": [
              "count    41.000000\n",
              "mean      3.000000\n",
              "std       1.197915\n",
              "min       1.000000\n",
              "25%       2.000000\n",
              "50%       3.000000\n",
              "75%       4.000000\n",
              "max       5.000000\n",
              "Name: Rating, dtype: float64"
            ]
          },
          "metadata": {},
          "execution_count": 71
        }
      ]
    },
    {
      "cell_type": "code",
      "source": [
        "fig = px.scatter(\n",
        "    dfRatingP,\n",
        "    title=\"Rating Distribution \",\n",
        "    x=\"Rating\", \n",
        "    y=\"RatingCount\", \n",
        "    color=\"Rating\",\n",
        "    template=\"plotly_dark\"\n",
        ")\n",
        "fig.update_layout(showlegend= False)\n",
        "fig.show()"
      ],
      "metadata": {
        "colab": {
          "base_uri": "https://localhost:8080/",
          "height": 542
        },
        "id": "G1vghqm50vls",
        "outputId": "4d143322-bf3d-4495-d64c-ae178e6b3ed1"
      },
      "execution_count": null,
      "outputs": [
        {
          "output_type": "display_data",
          "data": {
            "text/html": [
              "<html>\n",
              "<head><meta charset=\"utf-8\" /></head>\n",
              "<body>\n",
              "    <div>            <script src=\"https://cdnjs.cloudflare.com/ajax/libs/mathjax/2.7.5/MathJax.js?config=TeX-AMS-MML_SVG\"></script><script type=\"text/javascript\">if (window.MathJax) {MathJax.Hub.Config({SVG: {font: \"STIX-Web\"}});}</script>                <script type=\"text/javascript\">window.PlotlyConfig = {MathJaxConfig: 'local'};</script>\n",
              "        <script src=\"https://cdn.plot.ly/plotly-2.8.3.min.js\"></script>                <div id=\"4aa81e34-3d7a-4ea7-93a5-62c7840368ff\" class=\"plotly-graph-div\" style=\"height:525px; width:100%;\"></div>            <script type=\"text/javascript\">                                    window.PLOTLYENV=window.PLOTLYENV || {};                                    if (document.getElementById(\"4aa81e34-3d7a-4ea7-93a5-62c7840368ff\")) {                    Plotly.newPlot(                        \"4aa81e34-3d7a-4ea7-93a5-62c7840368ff\",                        [{\"hovertemplate\":\"Rating=%{marker.color}<br>RatingCount=%{y}<extra></extra>\",\"legendgroup\":\"\",\"marker\":{\"color\":[4.300000190734863,4.400000095367432,4.199999809265137,4.5,4.599999904632568,4.099999904632568,4.0,4.699999809265137,3.9000000953674316,3.799999952316284,4.800000190734863,3.700000047683716,3.5999999046325684,5.0,3.5,3.4000000953674316,4.900000095367432,3.299999952316284,3.200000047683716,3.0,3.0999999046325684,2.9000000953674316,2.799999952316284,2.700000047683716,2.5999999046325684,2.5,2.4000000953674316,2.299999952316284,2.200000047683716,2.0,2.0999999046325684,1.899999976158142,1.7999999523162842,1.7000000476837158,1.600000023841858,1.5,1.399999976158142,1.2999999523162842,1.0,1.2000000476837158,1.100000023841858],\"coloraxis\":\"coloraxis\",\"symbol\":\"circle\"},\"mode\":\"markers\",\"name\":\"\",\"orientation\":\"v\",\"showlegend\":false,\"x\":[4.300000190734863,4.400000095367432,4.199999809265137,4.5,4.599999904632568,4.099999904632568,4.0,4.699999809265137,3.9000000953674316,3.799999952316284,4.800000190734863,3.700000047683716,3.5999999046325684,5.0,3.5,3.4000000953674316,4.900000095367432,3.299999952316284,3.200000047683716,3.0,3.0999999046325684,2.9000000953674316,2.799999952316284,2.700000047683716,2.5999999046325684,2.5,2.4000000953674316,2.299999952316284,2.200000047683716,2.0,2.0999999046325684,1.899999976158142,1.7999999523162842,1.7000000476837158,1.600000023841858,1.5,1.399999976158142,1.2999999523162842,1.0,1.2000000476837158,1.100000023841858],\"xaxis\":\"x\",\"y\":[29134,27646,25773,24824,23062,22763,21152,17690,17375,16229,13235,12422,10091,9186,8756,7183,6887,6551,4892,4072,3868,2836,2821,2242,2021,1542,1371,1198,979,848,794,603,545,370,335,235,173,120,94,64,43],\"yaxis\":\"y\",\"type\":\"scatter\"}],                        {\"template\":{\"data\":{\"barpolar\":[{\"marker\":{\"line\":{\"color\":\"rgb(17,17,17)\",\"width\":0.5},\"pattern\":{\"fillmode\":\"overlay\",\"size\":10,\"solidity\":0.2}},\"type\":\"barpolar\"}],\"bar\":[{\"error_x\":{\"color\":\"#f2f5fa\"},\"error_y\":{\"color\":\"#f2f5fa\"},\"marker\":{\"line\":{\"color\":\"rgb(17,17,17)\",\"width\":0.5},\"pattern\":{\"fillmode\":\"overlay\",\"size\":10,\"solidity\":0.2}},\"type\":\"bar\"}],\"carpet\":[{\"aaxis\":{\"endlinecolor\":\"#A2B1C6\",\"gridcolor\":\"#506784\",\"linecolor\":\"#506784\",\"minorgridcolor\":\"#506784\",\"startlinecolor\":\"#A2B1C6\"},\"baxis\":{\"endlinecolor\":\"#A2B1C6\",\"gridcolor\":\"#506784\",\"linecolor\":\"#506784\",\"minorgridcolor\":\"#506784\",\"startlinecolor\":\"#A2B1C6\"},\"type\":\"carpet\"}],\"choropleth\":[{\"colorbar\":{\"outlinewidth\":0,\"ticks\":\"\"},\"type\":\"choropleth\"}],\"contourcarpet\":[{\"colorbar\":{\"outlinewidth\":0,\"ticks\":\"\"},\"type\":\"contourcarpet\"}],\"contour\":[{\"colorbar\":{\"outlinewidth\":0,\"ticks\":\"\"},\"colorscale\":[[0.0,\"#0d0887\"],[0.1111111111111111,\"#46039f\"],[0.2222222222222222,\"#7201a8\"],[0.3333333333333333,\"#9c179e\"],[0.4444444444444444,\"#bd3786\"],[0.5555555555555556,\"#d8576b\"],[0.6666666666666666,\"#ed7953\"],[0.7777777777777778,\"#fb9f3a\"],[0.8888888888888888,\"#fdca26\"],[1.0,\"#f0f921\"]],\"type\":\"contour\"}],\"heatmapgl\":[{\"colorbar\":{\"outlinewidth\":0,\"ticks\":\"\"},\"colorscale\":[[0.0,\"#0d0887\"],[0.1111111111111111,\"#46039f\"],[0.2222222222222222,\"#7201a8\"],[0.3333333333333333,\"#9c179e\"],[0.4444444444444444,\"#bd3786\"],[0.5555555555555556,\"#d8576b\"],[0.6666666666666666,\"#ed7953\"],[0.7777777777777778,\"#fb9f3a\"],[0.8888888888888888,\"#fdca26\"],[1.0,\"#f0f921\"]],\"type\":\"heatmapgl\"}],\"heatmap\":[{\"colorbar\":{\"outlinewidth\":0,\"ticks\":\"\"},\"colorscale\":[[0.0,\"#0d0887\"],[0.1111111111111111,\"#46039f\"],[0.2222222222222222,\"#7201a8\"],[0.3333333333333333,\"#9c179e\"],[0.4444444444444444,\"#bd3786\"],[0.5555555555555556,\"#d8576b\"],[0.6666666666666666,\"#ed7953\"],[0.7777777777777778,\"#fb9f3a\"],[0.8888888888888888,\"#fdca26\"],[1.0,\"#f0f921\"]],\"type\":\"heatmap\"}],\"histogram2dcontour\":[{\"colorbar\":{\"outlinewidth\":0,\"ticks\":\"\"},\"colorscale\":[[0.0,\"#0d0887\"],[0.1111111111111111,\"#46039f\"],[0.2222222222222222,\"#7201a8\"],[0.3333333333333333,\"#9c179e\"],[0.4444444444444444,\"#bd3786\"],[0.5555555555555556,\"#d8576b\"],[0.6666666666666666,\"#ed7953\"],[0.7777777777777778,\"#fb9f3a\"],[0.8888888888888888,\"#fdca26\"],[1.0,\"#f0f921\"]],\"type\":\"histogram2dcontour\"}],\"histogram2d\":[{\"colorbar\":{\"outlinewidth\":0,\"ticks\":\"\"},\"colorscale\":[[0.0,\"#0d0887\"],[0.1111111111111111,\"#46039f\"],[0.2222222222222222,\"#7201a8\"],[0.3333333333333333,\"#9c179e\"],[0.4444444444444444,\"#bd3786\"],[0.5555555555555556,\"#d8576b\"],[0.6666666666666666,\"#ed7953\"],[0.7777777777777778,\"#fb9f3a\"],[0.8888888888888888,\"#fdca26\"],[1.0,\"#f0f921\"]],\"type\":\"histogram2d\"}],\"histogram\":[{\"marker\":{\"pattern\":{\"fillmode\":\"overlay\",\"size\":10,\"solidity\":0.2}},\"type\":\"histogram\"}],\"mesh3d\":[{\"colorbar\":{\"outlinewidth\":0,\"ticks\":\"\"},\"type\":\"mesh3d\"}],\"parcoords\":[{\"line\":{\"colorbar\":{\"outlinewidth\":0,\"ticks\":\"\"}},\"type\":\"parcoords\"}],\"pie\":[{\"automargin\":true,\"type\":\"pie\"}],\"scatter3d\":[{\"line\":{\"colorbar\":{\"outlinewidth\":0,\"ticks\":\"\"}},\"marker\":{\"colorbar\":{\"outlinewidth\":0,\"ticks\":\"\"}},\"type\":\"scatter3d\"}],\"scattercarpet\":[{\"marker\":{\"colorbar\":{\"outlinewidth\":0,\"ticks\":\"\"}},\"type\":\"scattercarpet\"}],\"scattergeo\":[{\"marker\":{\"colorbar\":{\"outlinewidth\":0,\"ticks\":\"\"}},\"type\":\"scattergeo\"}],\"scattergl\":[{\"marker\":{\"line\":{\"color\":\"#283442\"}},\"type\":\"scattergl\"}],\"scattermapbox\":[{\"marker\":{\"colorbar\":{\"outlinewidth\":0,\"ticks\":\"\"}},\"type\":\"scattermapbox\"}],\"scatterpolargl\":[{\"marker\":{\"colorbar\":{\"outlinewidth\":0,\"ticks\":\"\"}},\"type\":\"scatterpolargl\"}],\"scatterpolar\":[{\"marker\":{\"colorbar\":{\"outlinewidth\":0,\"ticks\":\"\"}},\"type\":\"scatterpolar\"}],\"scatter\":[{\"marker\":{\"line\":{\"color\":\"#283442\"}},\"type\":\"scatter\"}],\"scatterternary\":[{\"marker\":{\"colorbar\":{\"outlinewidth\":0,\"ticks\":\"\"}},\"type\":\"scatterternary\"}],\"surface\":[{\"colorbar\":{\"outlinewidth\":0,\"ticks\":\"\"},\"colorscale\":[[0.0,\"#0d0887\"],[0.1111111111111111,\"#46039f\"],[0.2222222222222222,\"#7201a8\"],[0.3333333333333333,\"#9c179e\"],[0.4444444444444444,\"#bd3786\"],[0.5555555555555556,\"#d8576b\"],[0.6666666666666666,\"#ed7953\"],[0.7777777777777778,\"#fb9f3a\"],[0.8888888888888888,\"#fdca26\"],[1.0,\"#f0f921\"]],\"type\":\"surface\"}],\"table\":[{\"cells\":{\"fill\":{\"color\":\"#506784\"},\"line\":{\"color\":\"rgb(17,17,17)\"}},\"header\":{\"fill\":{\"color\":\"#2a3f5f\"},\"line\":{\"color\":\"rgb(17,17,17)\"}},\"type\":\"table\"}]},\"layout\":{\"annotationdefaults\":{\"arrowcolor\":\"#f2f5fa\",\"arrowhead\":0,\"arrowwidth\":1},\"autotypenumbers\":\"strict\",\"coloraxis\":{\"colorbar\":{\"outlinewidth\":0,\"ticks\":\"\"}},\"colorscale\":{\"diverging\":[[0,\"#8e0152\"],[0.1,\"#c51b7d\"],[0.2,\"#de77ae\"],[0.3,\"#f1b6da\"],[0.4,\"#fde0ef\"],[0.5,\"#f7f7f7\"],[0.6,\"#e6f5d0\"],[0.7,\"#b8e186\"],[0.8,\"#7fbc41\"],[0.9,\"#4d9221\"],[1,\"#276419\"]],\"sequential\":[[0.0,\"#0d0887\"],[0.1111111111111111,\"#46039f\"],[0.2222222222222222,\"#7201a8\"],[0.3333333333333333,\"#9c179e\"],[0.4444444444444444,\"#bd3786\"],[0.5555555555555556,\"#d8576b\"],[0.6666666666666666,\"#ed7953\"],[0.7777777777777778,\"#fb9f3a\"],[0.8888888888888888,\"#fdca26\"],[1.0,\"#f0f921\"]],\"sequentialminus\":[[0.0,\"#0d0887\"],[0.1111111111111111,\"#46039f\"],[0.2222222222222222,\"#7201a8\"],[0.3333333333333333,\"#9c179e\"],[0.4444444444444444,\"#bd3786\"],[0.5555555555555556,\"#d8576b\"],[0.6666666666666666,\"#ed7953\"],[0.7777777777777778,\"#fb9f3a\"],[0.8888888888888888,\"#fdca26\"],[1.0,\"#f0f921\"]]},\"colorway\":[\"#636efa\",\"#EF553B\",\"#00cc96\",\"#ab63fa\",\"#FFA15A\",\"#19d3f3\",\"#FF6692\",\"#B6E880\",\"#FF97FF\",\"#FECB52\"],\"font\":{\"color\":\"#f2f5fa\"},\"geo\":{\"bgcolor\":\"rgb(17,17,17)\",\"lakecolor\":\"rgb(17,17,17)\",\"landcolor\":\"rgb(17,17,17)\",\"showlakes\":true,\"showland\":true,\"subunitcolor\":\"#506784\"},\"hoverlabel\":{\"align\":\"left\"},\"hovermode\":\"closest\",\"mapbox\":{\"style\":\"dark\"},\"paper_bgcolor\":\"rgb(17,17,17)\",\"plot_bgcolor\":\"rgb(17,17,17)\",\"polar\":{\"angularaxis\":{\"gridcolor\":\"#506784\",\"linecolor\":\"#506784\",\"ticks\":\"\"},\"bgcolor\":\"rgb(17,17,17)\",\"radialaxis\":{\"gridcolor\":\"#506784\",\"linecolor\":\"#506784\",\"ticks\":\"\"}},\"scene\":{\"xaxis\":{\"backgroundcolor\":\"rgb(17,17,17)\",\"gridcolor\":\"#506784\",\"gridwidth\":2,\"linecolor\":\"#506784\",\"showbackground\":true,\"ticks\":\"\",\"zerolinecolor\":\"#C8D4E3\"},\"yaxis\":{\"backgroundcolor\":\"rgb(17,17,17)\",\"gridcolor\":\"#506784\",\"gridwidth\":2,\"linecolor\":\"#506784\",\"showbackground\":true,\"ticks\":\"\",\"zerolinecolor\":\"#C8D4E3\"},\"zaxis\":{\"backgroundcolor\":\"rgb(17,17,17)\",\"gridcolor\":\"#506784\",\"gridwidth\":2,\"linecolor\":\"#506784\",\"showbackground\":true,\"ticks\":\"\",\"zerolinecolor\":\"#C8D4E3\"}},\"shapedefaults\":{\"line\":{\"color\":\"#f2f5fa\"}},\"sliderdefaults\":{\"bgcolor\":\"#C8D4E3\",\"bordercolor\":\"rgb(17,17,17)\",\"borderwidth\":1,\"tickwidth\":0},\"ternary\":{\"aaxis\":{\"gridcolor\":\"#506784\",\"linecolor\":\"#506784\",\"ticks\":\"\"},\"baxis\":{\"gridcolor\":\"#506784\",\"linecolor\":\"#506784\",\"ticks\":\"\"},\"bgcolor\":\"rgb(17,17,17)\",\"caxis\":{\"gridcolor\":\"#506784\",\"linecolor\":\"#506784\",\"ticks\":\"\"}},\"title\":{\"x\":0.05},\"updatemenudefaults\":{\"bgcolor\":\"#506784\",\"borderwidth\":0},\"xaxis\":{\"automargin\":true,\"gridcolor\":\"#283442\",\"linecolor\":\"#506784\",\"ticks\":\"\",\"title\":{\"standoff\":15},\"zerolinecolor\":\"#283442\",\"zerolinewidth\":2},\"yaxis\":{\"automargin\":true,\"gridcolor\":\"#283442\",\"linecolor\":\"#506784\",\"ticks\":\"\",\"title\":{\"standoff\":15},\"zerolinecolor\":\"#283442\",\"zerolinewidth\":2}}},\"xaxis\":{\"anchor\":\"y\",\"domain\":[0.0,1.0],\"title\":{\"text\":\"Rating\"}},\"yaxis\":{\"anchor\":\"x\",\"domain\":[0.0,1.0],\"title\":{\"text\":\"RatingCount\"}},\"coloraxis\":{\"colorbar\":{\"title\":{\"text\":\"Rating\"}},\"colorscale\":[[0.0,\"#0d0887\"],[0.1111111111111111,\"#46039f\"],[0.2222222222222222,\"#7201a8\"],[0.3333333333333333,\"#9c179e\"],[0.4444444444444444,\"#bd3786\"],[0.5555555555555556,\"#d8576b\"],[0.6666666666666666,\"#ed7953\"],[0.7777777777777778,\"#fb9f3a\"],[0.8888888888888888,\"#fdca26\"],[1.0,\"#f0f921\"]]},\"legend\":{\"tracegroupgap\":0},\"title\":{\"text\":\"Rating Distribution \"},\"showlegend\":false},                        {\"responsive\": true}                    ).then(function(){\n",
              "                            \n",
              "var gd = document.getElementById('4aa81e34-3d7a-4ea7-93a5-62c7840368ff');\n",
              "var x = new MutationObserver(function (mutations, observer) {{\n",
              "        var display = window.getComputedStyle(gd).display;\n",
              "        if (!display || display === 'none') {{\n",
              "            console.log([gd, 'removed!']);\n",
              "            Plotly.purge(gd);\n",
              "            observer.disconnect();\n",
              "        }}\n",
              "}});\n",
              "\n",
              "// Listen for the removal of the full notebook cells\n",
              "var notebookContainer = gd.closest('#notebook-container');\n",
              "if (notebookContainer) {{\n",
              "    x.observe(notebookContainer, {childList: true});\n",
              "}}\n",
              "\n",
              "// Listen for the clearing of the current output cell\n",
              "var outputEl = gd.closest('.output');\n",
              "if (outputEl) {{\n",
              "    x.observe(outputEl, {childList: true});\n",
              "}}\n",
              "\n",
              "                        })                };                            </script>        </div>\n",
              "</body>\n",
              "</html>"
            ]
          },
          "metadata": {}
        }
      ]
    },
    {
      "cell_type": "code",
      "source": [
        "dfAppInstalls   = df.select(df[\"App Name\"],df[\"Minimum Installs\"])\n",
        "dfAppInstalls  = dfAppInstalls.select('Minimum Installs','App Name').filter(dfAppInstalls[\"Minimum Installs\"] != \"0\").orderBy('Minimum Installs', ascending=False)\n",
        "dfAppInstalls  = dfAppInstalls.withColumn(\"Minimum Installs\", dfAppInstalls[\"Minimum Installs\"].cast(\"int\").alias(\"Installs1\"))\n",
        "dfAppInstalls = dfAppInstalls.dropna()\n",
        "dfAppInstalls = dfAppInstalls.filter(dfAppInstalls[\"Minimum Installs\"]>=1000000000).orderBy(\"Minimum Installs\",ascending=False).limit(100)\n",
        "dfAppInstalls.show(20)"
      ],
      "metadata": {
        "colab": {
          "base_uri": "https://localhost:8080/"
        },
        "id": "IZvsBaMAQWA_",
        "outputId": "dfc4c770-f6b9-4954-d78e-5e53a954fd6a"
      },
      "execution_count": null,
      "outputs": [
        {
          "output_type": "stream",
          "name": "stdout",
          "text": [
            "+----------------+--------------------+\n",
            "|Minimum Installs|            App Name|\n",
            "+----------------+--------------------+\n",
            "|      1000000000|           Instagram|\n",
            "|      1000000000|              TikTok|\n",
            "|      1000000000|              TikTok|\n",
            "|      1000000000|      Subway Surfers|\n",
            "|      1000000000|            Snapchat|\n",
            "|      1000000000|            Snapchat|\n",
            "|      1000000000|    Candy Crush Saga|\n",
            "|      1000000000|Spotify: Listen t...|\n",
            "|      1000000000|Spotify: Listen t...|\n",
            "|      1000000000|       Facebook Lite|\n",
            "|      1000000000|SHAREit - Transfe...|\n",
            "|      1000000000|SHAREit - Transfe...|\n",
            "|      1000000000|             Twitter|\n",
            "|      1000000000|             Twitter|\n",
            "|      1000000000|             Netflix|\n",
            "|      1000000000|             Netflix|\n",
            "|      1000000000|   Google Play Games|\n",
            "|      1000000000|Gboard - the Goog...|\n",
            "|      1000000000|Google Duo - High...|\n",
            "|      1000000000|Skype - free IM &...|\n",
            "+----------------+--------------------+\n",
            "only showing top 20 rows\n",
            "\n"
          ]
        }
      ]
    },
    {
      "cell_type": "code",
      "source": [
        "dfAppInstallsP= dfAppInstalls.limit(100).toPandas()\n",
        "fig = px.area(dfAppInstallsP, x=\"App Name\", y=\"Minimum Installs\", color=\"App Name\", line_group=\"App Name\",\n",
        "              template=list(plotly.io.templates.keys())[5],\n",
        "                title=\"Top Apps which has Installations greater than a Billion\")\n",
        "fig.show()"
      ],
      "metadata": {
        "colab": {
          "base_uri": "https://localhost:8080/",
          "height": 542
        },
        "id": "8Kb_N4M-7-_m",
        "outputId": "45ee429e-1d72-49fb-bad6-a2b2c2a67694"
      },
      "execution_count": null,
      "outputs": [
        {
          "output_type": "display_data",
          "data": {
            "text/html": [
              "<html>\n",
              "<head><meta charset=\"utf-8\" /></head>\n",
              "<body>\n",
              "    <div>            <script src=\"https://cdnjs.cloudflare.com/ajax/libs/mathjax/2.7.5/MathJax.js?config=TeX-AMS-MML_SVG\"></script><script type=\"text/javascript\">if (window.MathJax) {MathJax.Hub.Config({SVG: {font: \"STIX-Web\"}});}</script>                <script type=\"text/javascript\">window.PlotlyConfig = {MathJaxConfig: 'local'};</script>\n",
              "        <script src=\"https://cdn.plot.ly/plotly-2.8.3.min.js\"></script>                <div id=\"d501fb69-cd3f-4c0a-99b2-14e9240e4f0c\" class=\"plotly-graph-div\" style=\"height:525px; width:100%;\"></div>            <script type=\"text/javascript\">                                    window.PLOTLYENV=window.PLOTLYENV || {};                                    if (document.getElementById(\"d501fb69-cd3f-4c0a-99b2-14e9240e4f0c\")) {                    Plotly.newPlot(                        \"d501fb69-cd3f-4c0a-99b2-14e9240e4f0c\",                        [{\"hovertemplate\":\"App Name=%{x}<br>Minimum Installs=%{y}<extra></extra>\",\"legendgroup\":\"Instagram\",\"line\":{\"color\":\"#636efa\"},\"marker\":{\"symbol\":\"circle\"},\"mode\":\"lines\",\"name\":\"Instagram\",\"orientation\":\"v\",\"showlegend\":true,\"stackgroup\":\"1\",\"x\":[\"Instagram\"],\"xaxis\":\"x\",\"y\":[1000000000],\"yaxis\":\"y\",\"type\":\"scatter\"},{\"hovertemplate\":\"App Name=%{x}<br>Minimum Installs=%{y}<extra></extra>\",\"legendgroup\":\"TikTok\",\"line\":{\"color\":\"#EF553B\"},\"marker\":{\"symbol\":\"circle\"},\"mode\":\"lines\",\"name\":\"TikTok\",\"orientation\":\"v\",\"showlegend\":true,\"stackgroup\":\"1\",\"x\":[\"TikTok\",\"TikTok\"],\"xaxis\":\"x\",\"y\":[1000000000,1000000000],\"yaxis\":\"y\",\"type\":\"scatter\"},{\"hovertemplate\":\"App Name=%{x}<br>Minimum Installs=%{y}<extra></extra>\",\"legendgroup\":\"Subway Surfers\",\"line\":{\"color\":\"#00cc96\"},\"marker\":{\"symbol\":\"circle\"},\"mode\":\"lines\",\"name\":\"Subway Surfers\",\"orientation\":\"v\",\"showlegend\":true,\"stackgroup\":\"1\",\"x\":[\"Subway Surfers\"],\"xaxis\":\"x\",\"y\":[1000000000],\"yaxis\":\"y\",\"type\":\"scatter\"},{\"hovertemplate\":\"App Name=%{x}<br>Minimum Installs=%{y}<extra></extra>\",\"legendgroup\":\"Snapchat\",\"line\":{\"color\":\"#ab63fa\"},\"marker\":{\"symbol\":\"circle\"},\"mode\":\"lines\",\"name\":\"Snapchat\",\"orientation\":\"v\",\"showlegend\":true,\"stackgroup\":\"1\",\"x\":[\"Snapchat\",\"Snapchat\"],\"xaxis\":\"x\",\"y\":[1000000000,1000000000],\"yaxis\":\"y\",\"type\":\"scatter\"},{\"hovertemplate\":\"App Name=%{x}<br>Minimum Installs=%{y}<extra></extra>\",\"legendgroup\":\"Candy Crush Saga\",\"line\":{\"color\":\"#FFA15A\"},\"marker\":{\"symbol\":\"circle\"},\"mode\":\"lines\",\"name\":\"Candy Crush Saga\",\"orientation\":\"v\",\"showlegend\":true,\"stackgroup\":\"1\",\"x\":[\"Candy Crush Saga\"],\"xaxis\":\"x\",\"y\":[1000000000],\"yaxis\":\"y\",\"type\":\"scatter\"},{\"hovertemplate\":\"App Name=%{x}<br>Minimum Installs=%{y}<extra></extra>\",\"legendgroup\":\"Spotify: Listen to podcasts & find music you love\",\"line\":{\"color\":\"#19d3f3\"},\"marker\":{\"symbol\":\"circle\"},\"mode\":\"lines\",\"name\":\"Spotify: Listen to podcasts & find music you love\",\"orientation\":\"v\",\"showlegend\":true,\"stackgroup\":\"1\",\"x\":[\"Spotify: Listen to podcasts & find music you love\",\"Spotify: Listen to podcasts & find music you love\"],\"xaxis\":\"x\",\"y\":[1000000000,1000000000],\"yaxis\":\"y\",\"type\":\"scatter\"},{\"hovertemplate\":\"App Name=%{x}<br>Minimum Installs=%{y}<extra></extra>\",\"legendgroup\":\"Facebook Lite\",\"line\":{\"color\":\"#FF6692\"},\"marker\":{\"symbol\":\"circle\"},\"mode\":\"lines\",\"name\":\"Facebook Lite\",\"orientation\":\"v\",\"showlegend\":true,\"stackgroup\":\"1\",\"x\":[\"Facebook Lite\"],\"xaxis\":\"x\",\"y\":[1000000000],\"yaxis\":\"y\",\"type\":\"scatter\"},{\"hovertemplate\":\"App Name=%{x}<br>Minimum Installs=%{y}<extra></extra>\",\"legendgroup\":\"SHAREit - Transfer & Share\",\"line\":{\"color\":\"#B6E880\"},\"marker\":{\"symbol\":\"circle\"},\"mode\":\"lines\",\"name\":\"SHAREit - Transfer & Share\",\"orientation\":\"v\",\"showlegend\":true,\"stackgroup\":\"1\",\"x\":[\"SHAREit - Transfer & Share\",\"SHAREit - Transfer & Share\"],\"xaxis\":\"x\",\"y\":[1000000000,1000000000],\"yaxis\":\"y\",\"type\":\"scatter\"},{\"hovertemplate\":\"App Name=%{x}<br>Minimum Installs=%{y}<extra></extra>\",\"legendgroup\":\"Twitter\",\"line\":{\"color\":\"#FF97FF\"},\"marker\":{\"symbol\":\"circle\"},\"mode\":\"lines\",\"name\":\"Twitter\",\"orientation\":\"v\",\"showlegend\":true,\"stackgroup\":\"1\",\"x\":[\"Twitter\",\"Twitter\"],\"xaxis\":\"x\",\"y\":[1000000000,1000000000],\"yaxis\":\"y\",\"type\":\"scatter\"},{\"hovertemplate\":\"App Name=%{x}<br>Minimum Installs=%{y}<extra></extra>\",\"legendgroup\":\"Netflix\",\"line\":{\"color\":\"#FECB52\"},\"marker\":{\"symbol\":\"circle\"},\"mode\":\"lines\",\"name\":\"Netflix\",\"orientation\":\"v\",\"showlegend\":true,\"stackgroup\":\"1\",\"x\":[\"Netflix\",\"Netflix\"],\"xaxis\":\"x\",\"y\":[1000000000,1000000000],\"yaxis\":\"y\",\"type\":\"scatter\"},{\"hovertemplate\":\"App Name=%{x}<br>Minimum Installs=%{y}<extra></extra>\",\"legendgroup\":\"Google Play Games\",\"line\":{\"color\":\"#636efa\"},\"marker\":{\"symbol\":\"circle\"},\"mode\":\"lines\",\"name\":\"Google Play Games\",\"orientation\":\"v\",\"showlegend\":true,\"stackgroup\":\"1\",\"x\":[\"Google Play Games\"],\"xaxis\":\"x\",\"y\":[1000000000],\"yaxis\":\"y\",\"type\":\"scatter\"},{\"hovertemplate\":\"App Name=%{x}<br>Minimum Installs=%{y}<extra></extra>\",\"legendgroup\":\"Gboard - the Google Keyboard\",\"line\":{\"color\":\"#EF553B\"},\"marker\":{\"symbol\":\"circle\"},\"mode\":\"lines\",\"name\":\"Gboard - the Google Keyboard\",\"orientation\":\"v\",\"showlegend\":true,\"stackgroup\":\"1\",\"x\":[\"Gboard - the Google Keyboard\"],\"xaxis\":\"x\",\"y\":[1000000000],\"yaxis\":\"y\",\"type\":\"scatter\"},{\"hovertemplate\":\"App Name=%{x}<br>Minimum Installs=%{y}<extra></extra>\",\"legendgroup\":\"Google Duo - High Quality Video Calls\",\"line\":{\"color\":\"#00cc96\"},\"marker\":{\"symbol\":\"circle\"},\"mode\":\"lines\",\"name\":\"Google Duo - High Quality Video Calls\",\"orientation\":\"v\",\"showlegend\":true,\"stackgroup\":\"1\",\"x\":[\"Google Duo - High Quality Video Calls\"],\"xaxis\":\"x\",\"y\":[1000000000],\"yaxis\":\"y\",\"type\":\"scatter\"},{\"hovertemplate\":\"App Name=%{x}<br>Minimum Installs=%{y}<extra></extra>\",\"legendgroup\":\"Skype - free IM & video calls\",\"line\":{\"color\":\"#ab63fa\"},\"marker\":{\"symbol\":\"circle\"},\"mode\":\"lines\",\"name\":\"Skype - free IM & video calls\",\"orientation\":\"v\",\"showlegend\":true,\"stackgroup\":\"1\",\"x\":[\"Skype - free IM & video calls\"],\"xaxis\":\"x\",\"y\":[1000000000],\"yaxis\":\"y\",\"type\":\"scatter\"},{\"hovertemplate\":\"App Name=%{x}<br>Minimum Installs=%{y}<extra></extra>\",\"legendgroup\":\"Google Translate\",\"line\":{\"color\":\"#FFA15A\"},\"marker\":{\"symbol\":\"circle\"},\"mode\":\"lines\",\"name\":\"Google Translate\",\"orientation\":\"v\",\"showlegend\":true,\"stackgroup\":\"1\",\"x\":[\"Google Translate\"],\"xaxis\":\"x\",\"y\":[1000000000],\"yaxis\":\"y\",\"type\":\"scatter\"},{\"hovertemplate\":\"App Name=%{x}<br>Minimum Installs=%{y}<extra></extra>\",\"legendgroup\":\"Microsoft Word: Write, Edit & Share Docs on the Go\",\"line\":{\"color\":\"#19d3f3\"},\"marker\":{\"symbol\":\"circle\"},\"mode\":\"lines\",\"name\":\"Microsoft Word: Write, Edit & Share Docs on the Go\",\"orientation\":\"v\",\"showlegend\":true,\"stackgroup\":\"1\",\"x\":[\"Microsoft Word: Write, Edit & Share Docs on the Go\"],\"xaxis\":\"x\",\"y\":[1000000000],\"yaxis\":\"y\",\"type\":\"scatter\"},{\"hovertemplate\":\"App Name=%{x}<br>Minimum Installs=%{y}<extra></extra>\",\"legendgroup\":\"Files by Google: Clean up space on your phone\",\"line\":{\"color\":\"#FF6692\"},\"marker\":{\"symbol\":\"circle\"},\"mode\":\"lines\",\"name\":\"Files by Google: Clean up space on your phone\",\"orientation\":\"v\",\"showlegend\":true,\"stackgroup\":\"1\",\"x\":[\"Files by Google: Clean up space on your phone\"],\"xaxis\":\"x\",\"y\":[1000000000],\"yaxis\":\"y\",\"type\":\"scatter\"},{\"hovertemplate\":\"App Name=%{x}<br>Minimum Installs=%{y}<extra></extra>\",\"legendgroup\":\"Currents\",\"line\":{\"color\":\"#B6E880\"},\"marker\":{\"symbol\":\"circle\"},\"mode\":\"lines\",\"name\":\"Currents\",\"orientation\":\"v\",\"showlegend\":true,\"stackgroup\":\"1\",\"x\":[\"Currents\"],\"xaxis\":\"x\",\"y\":[1000000000],\"yaxis\":\"y\",\"type\":\"scatter\"},{\"hovertemplate\":\"App Name=%{x}<br>Minimum Installs=%{y}<extra></extra>\",\"legendgroup\":\"Messages\",\"line\":{\"color\":\"#FF97FF\"},\"marker\":{\"symbol\":\"circle\"},\"mode\":\"lines\",\"name\":\"Messages\",\"orientation\":\"v\",\"showlegend\":true,\"stackgroup\":\"1\",\"x\":[\"Messages\"],\"xaxis\":\"x\",\"y\":[1000000000],\"yaxis\":\"y\",\"type\":\"scatter\"},{\"hovertemplate\":\"App Name=%{x}<br>Minimum Installs=%{y}<extra></extra>\",\"legendgroup\":\"Android System WebView\",\"line\":{\"color\":\"#FECB52\"},\"marker\":{\"symbol\":\"circle\"},\"mode\":\"lines\",\"name\":\"Android System WebView\",\"orientation\":\"v\",\"showlegend\":true,\"stackgroup\":\"1\",\"x\":[\"Android System WebView\"],\"xaxis\":\"x\",\"y\":[1000000000],\"yaxis\":\"y\",\"type\":\"scatter\"},{\"hovertemplate\":\"App Name=%{x}<br>Minimum Installs=%{y}<extra></extra>\",\"legendgroup\":\"Hangouts\",\"line\":{\"color\":\"#636efa\"},\"marker\":{\"symbol\":\"circle\"},\"mode\":\"lines\",\"name\":\"Hangouts\",\"orientation\":\"v\",\"showlegend\":true,\"stackgroup\":\"1\",\"x\":[\"Hangouts\"],\"xaxis\":\"x\",\"y\":[1000000000],\"yaxis\":\"y\",\"type\":\"scatter\"},{\"hovertemplate\":\"App Name=%{x}<br>Minimum Installs=%{y}<extra></extra>\",\"legendgroup\":\"Samsung Internet Browser\",\"line\":{\"color\":\"#EF553B\"},\"marker\":{\"symbol\":\"circle\"},\"mode\":\"lines\",\"name\":\"Samsung Internet Browser\",\"orientation\":\"v\",\"showlegend\":true,\"stackgroup\":\"1\",\"x\":[\"Samsung Internet Browser\"],\"xaxis\":\"x\",\"y\":[1000000000],\"yaxis\":\"y\",\"type\":\"scatter\"},{\"hovertemplate\":\"App Name=%{x}<br>Minimum Installs=%{y}<extra></extra>\",\"legendgroup\":\"Microsoft Excel: View, Edit, & Create Spreadsheets\",\"line\":{\"color\":\"#00cc96\"},\"marker\":{\"symbol\":\"circle\"},\"mode\":\"lines\",\"name\":\"Microsoft Excel: View, Edit, & Create Spreadsheets\",\"orientation\":\"v\",\"showlegend\":true,\"stackgroup\":\"1\",\"x\":[\"Microsoft Excel: View, Edit, & Create Spreadsheets\"],\"xaxis\":\"x\",\"y\":[1000000000],\"yaxis\":\"y\",\"type\":\"scatter\"},{\"hovertemplate\":\"App Name=%{x}<br>Minimum Installs=%{y}<extra></extra>\",\"legendgroup\":\"YouTube Music - Stream Songs & Music Videos\",\"line\":{\"color\":\"#ab63fa\"},\"marker\":{\"symbol\":\"circle\"},\"mode\":\"lines\",\"name\":\"YouTube Music - Stream Songs & Music Videos\",\"orientation\":\"v\",\"showlegend\":true,\"stackgroup\":\"1\",\"x\":[\"YouTube Music - Stream Songs & Music Videos\"],\"xaxis\":\"x\",\"y\":[1000000000],\"yaxis\":\"y\",\"type\":\"scatter\"},{\"hovertemplate\":\"App Name=%{x}<br>Minimum Installs=%{y}<extra></extra>\",\"legendgroup\":\"Android Auto - Google Maps, Media & Messaging\",\"line\":{\"color\":\"#FFA15A\"},\"marker\":{\"symbol\":\"circle\"},\"mode\":\"lines\",\"name\":\"Android Auto - Google Maps, Media & Messaging\",\"orientation\":\"v\",\"showlegend\":true,\"stackgroup\":\"1\",\"x\":[\"Android Auto - Google Maps, Media & Messaging\"],\"xaxis\":\"x\",\"y\":[1000000000],\"yaxis\":\"y\",\"type\":\"scatter\"},{\"hovertemplate\":\"App Name=%{x}<br>Minimum Installs=%{y}<extra></extra>\",\"legendgroup\":\"Microsoft OneDrive\",\"line\":{\"color\":\"#19d3f3\"},\"marker\":{\"symbol\":\"circle\"},\"mode\":\"lines\",\"name\":\"Microsoft OneDrive\",\"orientation\":\"v\",\"showlegend\":true,\"stackgroup\":\"1\",\"x\":[\"Microsoft OneDrive\"],\"xaxis\":\"x\",\"y\":[1000000000],\"yaxis\":\"y\",\"type\":\"scatter\"},{\"hovertemplate\":\"App Name=%{x}<br>Minimum Installs=%{y}<extra></extra>\",\"legendgroup\":\"Samsung Gallery\",\"line\":{\"color\":\"#FF6692\"},\"marker\":{\"symbol\":\"circle\"},\"mode\":\"lines\",\"name\":\"Samsung Gallery\",\"orientation\":\"v\",\"showlegend\":true,\"stackgroup\":\"1\",\"x\":[\"Samsung Gallery\"],\"xaxis\":\"x\",\"y\":[1000000000],\"yaxis\":\"y\",\"type\":\"scatter\"},{\"hovertemplate\":\"App Name=%{x}<br>Minimum Installs=%{y}<extra></extra>\",\"legendgroup\":\"Samsung Email\",\"line\":{\"color\":\"#B6E880\"},\"marker\":{\"symbol\":\"circle\"},\"mode\":\"lines\",\"name\":\"Samsung Email\",\"orientation\":\"v\",\"showlegend\":true,\"stackgroup\":\"1\",\"x\":[\"Samsung Email\"],\"xaxis\":\"x\",\"y\":[1000000000],\"yaxis\":\"y\",\"type\":\"scatter\"},{\"hovertemplate\":\"App Name=%{x}<br>Minimum Installs=%{y}<extra></extra>\",\"legendgroup\":\"Microsoft PowerPoint: Slideshows and Presentations\",\"line\":{\"color\":\"#FF97FF\"},\"marker\":{\"symbol\":\"circle\"},\"mode\":\"lines\",\"name\":\"Microsoft PowerPoint: Slideshows and Presentations\",\"orientation\":\"v\",\"showlegend\":true,\"stackgroup\":\"1\",\"x\":[\"Microsoft PowerPoint: Slideshows and Presentations\"],\"xaxis\":\"x\",\"y\":[1000000000],\"yaxis\":\"y\",\"type\":\"scatter\"},{\"hovertemplate\":\"App Name=%{x}<br>Minimum Installs=%{y}<extra></extra>\",\"legendgroup\":\"Dropbox: Cloud Storage, Photo Backup, File Manager\",\"line\":{\"color\":\"#FECB52\"},\"marker\":{\"symbol\":\"circle\"},\"mode\":\"lines\",\"name\":\"Dropbox: Cloud Storage, Photo Backup, File Manager\",\"orientation\":\"v\",\"showlegend\":true,\"stackgroup\":\"1\",\"x\":[\"Dropbox: Cloud Storage, Photo Backup, File Manager\",\"Dropbox: Cloud Storage, Photo Backup, File Manager\"],\"xaxis\":\"x\",\"y\":[1000000000,1000000000],\"yaxis\":\"y\",\"type\":\"scatter\"},{\"hovertemplate\":\"App Name=%{x}<br>Minimum Installs=%{y}<extra></extra>\",\"legendgroup\":\"Google Street View\",\"line\":{\"color\":\"#636efa\"},\"marker\":{\"symbol\":\"circle\"},\"mode\":\"lines\",\"name\":\"Google Street View\",\"orientation\":\"v\",\"showlegend\":true,\"stackgroup\":\"1\",\"x\":[\"Google Street View\"],\"xaxis\":\"x\",\"y\":[1000000000],\"yaxis\":\"y\",\"type\":\"scatter\"},{\"hovertemplate\":\"App Name=%{x}<br>Minimum Installs=%{y}<extra></extra>\",\"legendgroup\":\"Google Calendar\",\"line\":{\"color\":\"#EF553B\"},\"marker\":{\"symbol\":\"circle\"},\"mode\":\"lines\",\"name\":\"Google Calendar\",\"orientation\":\"v\",\"showlegend\":true,\"stackgroup\":\"1\",\"x\":[\"Google Calendar\"],\"xaxis\":\"x\",\"y\":[1000000000],\"yaxis\":\"y\",\"type\":\"scatter\"},{\"hovertemplate\":\"App Name=%{x}<br>Minimum Installs=%{y}<extra></extra>\",\"legendgroup\":\"Google News - Top world & local news headlines\",\"line\":{\"color\":\"#00cc96\"},\"marker\":{\"symbol\":\"circle\"},\"mode\":\"lines\",\"name\":\"Google News - Top world & local news headlines\",\"orientation\":\"v\",\"showlegend\":true,\"stackgroup\":\"1\",\"x\":[\"Google News - Top world & local news headlines\"],\"xaxis\":\"x\",\"y\":[1000000000],\"yaxis\":\"y\",\"type\":\"scatter\"},{\"hovertemplate\":\"App Name=%{x}<br>Minimum Installs=%{y}<extra></extra>\",\"legendgroup\":\"Google Play Books - Ebooks, Audiobooks, and Comics\",\"line\":{\"color\":\"#ab63fa\"},\"marker\":{\"symbol\":\"circle\"},\"mode\":\"lines\",\"name\":\"Google Play Books - Ebooks, Audiobooks, and Comics\",\"orientation\":\"v\",\"showlegend\":true,\"stackgroup\":\"1\",\"x\":[\"Google Play Books - Ebooks, Audiobooks, and Comics\"],\"xaxis\":\"x\",\"y\":[1000000000],\"yaxis\":\"y\",\"type\":\"scatter\"},{\"hovertemplate\":\"App Name=%{x}<br>Minimum Installs=%{y}<extra></extra>\",\"legendgroup\":\"Google Docs\",\"line\":{\"color\":\"#FFA15A\"},\"marker\":{\"symbol\":\"circle\"},\"mode\":\"lines\",\"name\":\"Google Docs\",\"orientation\":\"v\",\"showlegend\":true,\"stackgroup\":\"1\",\"x\":[\"Google Docs\"],\"xaxis\":\"x\",\"y\":[1000000000],\"yaxis\":\"y\",\"type\":\"scatter\"},{\"hovertemplate\":\"App Name=%{x}<br>Minimum Installs=%{y}<extra></extra>\",\"legendgroup\":\"Google Keep - Notes and Lists\",\"line\":{\"color\":\"#19d3f3\"},\"marker\":{\"symbol\":\"circle\"},\"mode\":\"lines\",\"name\":\"Google Keep - Notes and Lists\",\"orientation\":\"v\",\"showlegend\":true,\"stackgroup\":\"1\",\"x\":[\"Google Keep - Notes and Lists\"],\"xaxis\":\"x\",\"y\":[1000000000],\"yaxis\":\"y\",\"type\":\"scatter\"},{\"hovertemplate\":\"App Name=%{x}<br>Minimum Installs=%{y}<extra></extra>\",\"legendgroup\":\"Samsung Push Service\",\"line\":{\"color\":\"#FF6692\"},\"marker\":{\"symbol\":\"circle\"},\"mode\":\"lines\",\"name\":\"Samsung Push Service\",\"orientation\":\"v\",\"showlegend\":true,\"stackgroup\":\"1\",\"x\":[\"Samsung Push Service\"],\"xaxis\":\"x\",\"y\":[1000000000],\"yaxis\":\"y\",\"type\":\"scatter\"},{\"hovertemplate\":\"App Name=%{x}<br>Minimum Installs=%{y}<extra></extra>\",\"legendgroup\":\"Briefing\",\"line\":{\"color\":\"#B6E880\"},\"marker\":{\"symbol\":\"circle\"},\"mode\":\"lines\",\"name\":\"Briefing\",\"orientation\":\"v\",\"showlegend\":true,\"stackgroup\":\"1\",\"x\":[\"Briefing\"],\"xaxis\":\"x\",\"y\":[1000000000],\"yaxis\":\"y\",\"type\":\"scatter\"},{\"hovertemplate\":\"App Name=%{x}<br>Minimum Installs=%{y}<extra></extra>\",\"legendgroup\":\"Carrier Services\",\"line\":{\"color\":\"#FF97FF\"},\"marker\":{\"symbol\":\"circle\"},\"mode\":\"lines\",\"name\":\"Carrier Services\",\"orientation\":\"v\",\"showlegend\":true,\"stackgroup\":\"1\",\"x\":[\"Carrier Services\"],\"xaxis\":\"x\",\"y\":[1000000000],\"yaxis\":\"y\",\"type\":\"scatter\"},{\"hovertemplate\":\"App Name=%{x}<br>Minimum Installs=%{y}<extra></extra>\",\"legendgroup\":\"Samsung Notes\",\"line\":{\"color\":\"#FECB52\"},\"marker\":{\"symbol\":\"circle\"},\"mode\":\"lines\",\"name\":\"Samsung Notes\",\"orientation\":\"v\",\"showlegend\":true,\"stackgroup\":\"1\",\"x\":[\"Samsung Notes\"],\"xaxis\":\"x\",\"y\":[1000000000],\"yaxis\":\"y\",\"type\":\"scatter\"},{\"hovertemplate\":\"App Name=%{x}<br>Minimum Installs=%{y}<extra></extra>\",\"legendgroup\":\"Clock\",\"line\":{\"color\":\"#636efa\"},\"marker\":{\"symbol\":\"circle\"},\"mode\":\"lines\",\"name\":\"Clock\",\"orientation\":\"v\",\"showlegend\":true,\"stackgroup\":\"1\",\"x\":[\"Clock\"],\"xaxis\":\"x\",\"y\":[1000000000],\"yaxis\":\"y\",\"type\":\"scatter\"},{\"hovertemplate\":\"App Name=%{x}<br>Minimum Installs=%{y}<extra></extra>\",\"legendgroup\":\"Samsung Print Service Plugin\",\"line\":{\"color\":\"#EF553B\"},\"marker\":{\"symbol\":\"circle\"},\"mode\":\"lines\",\"name\":\"Samsung Print Service Plugin\",\"orientation\":\"v\",\"showlegend\":true,\"stackgroup\":\"1\",\"x\":[\"Samsung Print Service Plugin\"],\"xaxis\":\"x\",\"y\":[1000000000],\"yaxis\":\"y\",\"type\":\"scatter\"},{\"hovertemplate\":\"App Name=%{x}<br>Minimum Installs=%{y}<extra></extra>\",\"legendgroup\":\"Device Care\",\"line\":{\"color\":\"#00cc96\"},\"marker\":{\"symbol\":\"circle\"},\"mode\":\"lines\",\"name\":\"Device Care\",\"orientation\":\"v\",\"showlegend\":true,\"stackgroup\":\"1\",\"x\":[\"Device Care\"],\"xaxis\":\"x\",\"y\":[1000000000],\"yaxis\":\"y\",\"type\":\"scatter\"},{\"hovertemplate\":\"App Name=%{x}<br>Minimum Installs=%{y}<extra></extra>\",\"legendgroup\":\"Google Play Services for AR\",\"line\":{\"color\":\"#ab63fa\"},\"marker\":{\"symbol\":\"circle\"},\"mode\":\"lines\",\"name\":\"Google Play Services for AR\",\"orientation\":\"v\",\"showlegend\":true,\"stackgroup\":\"1\",\"x\":[\"Google Play Services for AR\"],\"xaxis\":\"x\",\"y\":[1000000000],\"yaxis\":\"y\",\"type\":\"scatter\"},{\"hovertemplate\":\"App Name=%{x}<br>Minimum Installs=%{y}<extra></extra>\",\"legendgroup\":\"ANT Radio Service\",\"line\":{\"color\":\"#FFA15A\"},\"marker\":{\"symbol\":\"circle\"},\"mode\":\"lines\",\"name\":\"ANT Radio Service\",\"orientation\":\"v\",\"showlegend\":true,\"stackgroup\":\"1\",\"x\":[\"ANT Radio Service\",\"ANT Radio Service\"],\"xaxis\":\"x\",\"y\":[1000000000,1000000000],\"yaxis\":\"y\",\"type\":\"scatter\"},{\"hovertemplate\":\"App Name=%{x}<br>Minimum Installs=%{y}<extra></extra>\",\"legendgroup\":\"Samsung Security Policy Update\",\"line\":{\"color\":\"#19d3f3\"},\"marker\":{\"symbol\":\"circle\"},\"mode\":\"lines\",\"name\":\"Samsung Security Policy Update\",\"orientation\":\"v\",\"showlegend\":true,\"stackgroup\":\"1\",\"x\":[\"Samsung Security Policy Update\"],\"xaxis\":\"x\",\"y\":[1000000000],\"yaxis\":\"y\",\"type\":\"scatter\"},{\"hovertemplate\":\"App Name=%{x}<br>Minimum Installs=%{y}<extra></extra>\",\"legendgroup\":\"ANT+ Plugins Service\",\"line\":{\"color\":\"#FF6692\"},\"marker\":{\"symbol\":\"circle\"},\"mode\":\"lines\",\"name\":\"ANT+ Plugins Service\",\"orientation\":\"v\",\"showlegend\":true,\"stackgroup\":\"1\",\"x\":[\"ANT+ Plugins Service\",\"ANT+ Plugins Service\"],\"xaxis\":\"x\",\"y\":[1000000000,1000000000],\"yaxis\":\"y\",\"type\":\"scatter\"},{\"hovertemplate\":\"App Name=%{x}<br>Minimum Installs=%{y}<extra></extra>\",\"legendgroup\":\"Samsung Calculator\",\"line\":{\"color\":\"#B6E880\"},\"marker\":{\"symbol\":\"circle\"},\"mode\":\"lines\",\"name\":\"Samsung Calculator\",\"orientation\":\"v\",\"showlegend\":true,\"stackgroup\":\"1\",\"x\":[\"Samsung Calculator\"],\"xaxis\":\"x\",\"y\":[1000000000],\"yaxis\":\"y\",\"type\":\"scatter\"},{\"hovertemplate\":\"App Name=%{x}<br>Minimum Installs=%{y}<extra></extra>\",\"legendgroup\":\"Samsung Health\",\"line\":{\"color\":\"#FF97FF\"},\"marker\":{\"symbol\":\"circle\"},\"mode\":\"lines\",\"name\":\"Samsung Health\",\"orientation\":\"v\",\"showlegend\":true,\"stackgroup\":\"1\",\"x\":[\"Samsung Health\"],\"xaxis\":\"x\",\"y\":[1000000000],\"yaxis\":\"y\",\"type\":\"scatter\"},{\"hovertemplate\":\"App Name=%{x}<br>Minimum Installs=%{y}<extra></extra>\",\"legendgroup\":\"Samsung My Files\",\"line\":{\"color\":\"#FECB52\"},\"marker\":{\"symbol\":\"circle\"},\"mode\":\"lines\",\"name\":\"Samsung My Files\",\"orientation\":\"v\",\"showlegend\":true,\"stackgroup\":\"1\",\"x\":[\"Samsung My Files\"],\"xaxis\":\"x\",\"y\":[1000000000],\"yaxis\":\"y\",\"type\":\"scatter\"},{\"hovertemplate\":\"App Name=%{x}<br>Minimum Installs=%{y}<extra></extra>\",\"legendgroup\":\"Secure Folder\",\"line\":{\"color\":\"#636efa\"},\"marker\":{\"symbol\":\"circle\"},\"mode\":\"lines\",\"name\":\"Secure Folder\",\"orientation\":\"v\",\"showlegend\":true,\"stackgroup\":\"1\",\"x\":[\"Secure Folder\"],\"xaxis\":\"x\",\"y\":[1000000000],\"yaxis\":\"y\",\"type\":\"scatter\"},{\"hovertemplate\":\"App Name=%{x}<br>Minimum Installs=%{y}<extra></extra>\",\"legendgroup\":\"Samsung Voice Recorder\",\"line\":{\"color\":\"#EF553B\"},\"marker\":{\"symbol\":\"circle\"},\"mode\":\"lines\",\"name\":\"Samsung Voice Recorder\",\"orientation\":\"v\",\"showlegend\":true,\"stackgroup\":\"1\",\"x\":[\"Samsung Voice Recorder\"],\"xaxis\":\"x\",\"y\":[1000000000],\"yaxis\":\"y\",\"type\":\"scatter\"},{\"hovertemplate\":\"App Name=%{x}<br>Minimum Installs=%{y}<extra></extra>\",\"legendgroup\":\"Samsung Experience Service\",\"line\":{\"color\":\"#00cc96\"},\"marker\":{\"symbol\":\"circle\"},\"mode\":\"lines\",\"name\":\"Samsung Experience Service\",\"orientation\":\"v\",\"showlegend\":true,\"stackgroup\":\"1\",\"x\":[\"Samsung Experience Service\"],\"xaxis\":\"x\",\"y\":[1000000000],\"yaxis\":\"y\",\"type\":\"scatter\"}],                        {\"template\":{\"data\":{\"barpolar\":[{\"marker\":{\"line\":{\"color\":\"rgb(17,17,17)\",\"width\":0.5},\"pattern\":{\"fillmode\":\"overlay\",\"size\":10,\"solidity\":0.2}},\"type\":\"barpolar\"}],\"bar\":[{\"error_x\":{\"color\":\"#f2f5fa\"},\"error_y\":{\"color\":\"#f2f5fa\"},\"marker\":{\"line\":{\"color\":\"rgb(17,17,17)\",\"width\":0.5},\"pattern\":{\"fillmode\":\"overlay\",\"size\":10,\"solidity\":0.2}},\"type\":\"bar\"}],\"carpet\":[{\"aaxis\":{\"endlinecolor\":\"#A2B1C6\",\"gridcolor\":\"#506784\",\"linecolor\":\"#506784\",\"minorgridcolor\":\"#506784\",\"startlinecolor\":\"#A2B1C6\"},\"baxis\":{\"endlinecolor\":\"#A2B1C6\",\"gridcolor\":\"#506784\",\"linecolor\":\"#506784\",\"minorgridcolor\":\"#506784\",\"startlinecolor\":\"#A2B1C6\"},\"type\":\"carpet\"}],\"choropleth\":[{\"colorbar\":{\"outlinewidth\":0,\"ticks\":\"\"},\"type\":\"choropleth\"}],\"contourcarpet\":[{\"colorbar\":{\"outlinewidth\":0,\"ticks\":\"\"},\"type\":\"contourcarpet\"}],\"contour\":[{\"colorbar\":{\"outlinewidth\":0,\"ticks\":\"\"},\"colorscale\":[[0.0,\"#0d0887\"],[0.1111111111111111,\"#46039f\"],[0.2222222222222222,\"#7201a8\"],[0.3333333333333333,\"#9c179e\"],[0.4444444444444444,\"#bd3786\"],[0.5555555555555556,\"#d8576b\"],[0.6666666666666666,\"#ed7953\"],[0.7777777777777778,\"#fb9f3a\"],[0.8888888888888888,\"#fdca26\"],[1.0,\"#f0f921\"]],\"type\":\"contour\"}],\"heatmapgl\":[{\"colorbar\":{\"outlinewidth\":0,\"ticks\":\"\"},\"colorscale\":[[0.0,\"#0d0887\"],[0.1111111111111111,\"#46039f\"],[0.2222222222222222,\"#7201a8\"],[0.3333333333333333,\"#9c179e\"],[0.4444444444444444,\"#bd3786\"],[0.5555555555555556,\"#d8576b\"],[0.6666666666666666,\"#ed7953\"],[0.7777777777777778,\"#fb9f3a\"],[0.8888888888888888,\"#fdca26\"],[1.0,\"#f0f921\"]],\"type\":\"heatmapgl\"}],\"heatmap\":[{\"colorbar\":{\"outlinewidth\":0,\"ticks\":\"\"},\"colorscale\":[[0.0,\"#0d0887\"],[0.1111111111111111,\"#46039f\"],[0.2222222222222222,\"#7201a8\"],[0.3333333333333333,\"#9c179e\"],[0.4444444444444444,\"#bd3786\"],[0.5555555555555556,\"#d8576b\"],[0.6666666666666666,\"#ed7953\"],[0.7777777777777778,\"#fb9f3a\"],[0.8888888888888888,\"#fdca26\"],[1.0,\"#f0f921\"]],\"type\":\"heatmap\"}],\"histogram2dcontour\":[{\"colorbar\":{\"outlinewidth\":0,\"ticks\":\"\"},\"colorscale\":[[0.0,\"#0d0887\"],[0.1111111111111111,\"#46039f\"],[0.2222222222222222,\"#7201a8\"],[0.3333333333333333,\"#9c179e\"],[0.4444444444444444,\"#bd3786\"],[0.5555555555555556,\"#d8576b\"],[0.6666666666666666,\"#ed7953\"],[0.7777777777777778,\"#fb9f3a\"],[0.8888888888888888,\"#fdca26\"],[1.0,\"#f0f921\"]],\"type\":\"histogram2dcontour\"}],\"histogram2d\":[{\"colorbar\":{\"outlinewidth\":0,\"ticks\":\"\"},\"colorscale\":[[0.0,\"#0d0887\"],[0.1111111111111111,\"#46039f\"],[0.2222222222222222,\"#7201a8\"],[0.3333333333333333,\"#9c179e\"],[0.4444444444444444,\"#bd3786\"],[0.5555555555555556,\"#d8576b\"],[0.6666666666666666,\"#ed7953\"],[0.7777777777777778,\"#fb9f3a\"],[0.8888888888888888,\"#fdca26\"],[1.0,\"#f0f921\"]],\"type\":\"histogram2d\"}],\"histogram\":[{\"marker\":{\"pattern\":{\"fillmode\":\"overlay\",\"size\":10,\"solidity\":0.2}},\"type\":\"histogram\"}],\"mesh3d\":[{\"colorbar\":{\"outlinewidth\":0,\"ticks\":\"\"},\"type\":\"mesh3d\"}],\"parcoords\":[{\"line\":{\"colorbar\":{\"outlinewidth\":0,\"ticks\":\"\"}},\"type\":\"parcoords\"}],\"pie\":[{\"automargin\":true,\"type\":\"pie\"}],\"scatter3d\":[{\"line\":{\"colorbar\":{\"outlinewidth\":0,\"ticks\":\"\"}},\"marker\":{\"colorbar\":{\"outlinewidth\":0,\"ticks\":\"\"}},\"type\":\"scatter3d\"}],\"scattercarpet\":[{\"marker\":{\"colorbar\":{\"outlinewidth\":0,\"ticks\":\"\"}},\"type\":\"scattercarpet\"}],\"scattergeo\":[{\"marker\":{\"colorbar\":{\"outlinewidth\":0,\"ticks\":\"\"}},\"type\":\"scattergeo\"}],\"scattergl\":[{\"marker\":{\"line\":{\"color\":\"#283442\"}},\"type\":\"scattergl\"}],\"scattermapbox\":[{\"marker\":{\"colorbar\":{\"outlinewidth\":0,\"ticks\":\"\"}},\"type\":\"scattermapbox\"}],\"scatterpolargl\":[{\"marker\":{\"colorbar\":{\"outlinewidth\":0,\"ticks\":\"\"}},\"type\":\"scatterpolargl\"}],\"scatterpolar\":[{\"marker\":{\"colorbar\":{\"outlinewidth\":0,\"ticks\":\"\"}},\"type\":\"scatterpolar\"}],\"scatter\":[{\"marker\":{\"line\":{\"color\":\"#283442\"}},\"type\":\"scatter\"}],\"scatterternary\":[{\"marker\":{\"colorbar\":{\"outlinewidth\":0,\"ticks\":\"\"}},\"type\":\"scatterternary\"}],\"surface\":[{\"colorbar\":{\"outlinewidth\":0,\"ticks\":\"\"},\"colorscale\":[[0.0,\"#0d0887\"],[0.1111111111111111,\"#46039f\"],[0.2222222222222222,\"#7201a8\"],[0.3333333333333333,\"#9c179e\"],[0.4444444444444444,\"#bd3786\"],[0.5555555555555556,\"#d8576b\"],[0.6666666666666666,\"#ed7953\"],[0.7777777777777778,\"#fb9f3a\"],[0.8888888888888888,\"#fdca26\"],[1.0,\"#f0f921\"]],\"type\":\"surface\"}],\"table\":[{\"cells\":{\"fill\":{\"color\":\"#506784\"},\"line\":{\"color\":\"rgb(17,17,17)\"}},\"header\":{\"fill\":{\"color\":\"#2a3f5f\"},\"line\":{\"color\":\"rgb(17,17,17)\"}},\"type\":\"table\"}]},\"layout\":{\"annotationdefaults\":{\"arrowcolor\":\"#f2f5fa\",\"arrowhead\":0,\"arrowwidth\":1},\"autotypenumbers\":\"strict\",\"coloraxis\":{\"colorbar\":{\"outlinewidth\":0,\"ticks\":\"\"}},\"colorscale\":{\"diverging\":[[0,\"#8e0152\"],[0.1,\"#c51b7d\"],[0.2,\"#de77ae\"],[0.3,\"#f1b6da\"],[0.4,\"#fde0ef\"],[0.5,\"#f7f7f7\"],[0.6,\"#e6f5d0\"],[0.7,\"#b8e186\"],[0.8,\"#7fbc41\"],[0.9,\"#4d9221\"],[1,\"#276419\"]],\"sequential\":[[0.0,\"#0d0887\"],[0.1111111111111111,\"#46039f\"],[0.2222222222222222,\"#7201a8\"],[0.3333333333333333,\"#9c179e\"],[0.4444444444444444,\"#bd3786\"],[0.5555555555555556,\"#d8576b\"],[0.6666666666666666,\"#ed7953\"],[0.7777777777777778,\"#fb9f3a\"],[0.8888888888888888,\"#fdca26\"],[1.0,\"#f0f921\"]],\"sequentialminus\":[[0.0,\"#0d0887\"],[0.1111111111111111,\"#46039f\"],[0.2222222222222222,\"#7201a8\"],[0.3333333333333333,\"#9c179e\"],[0.4444444444444444,\"#bd3786\"],[0.5555555555555556,\"#d8576b\"],[0.6666666666666666,\"#ed7953\"],[0.7777777777777778,\"#fb9f3a\"],[0.8888888888888888,\"#fdca26\"],[1.0,\"#f0f921\"]]},\"colorway\":[\"#636efa\",\"#EF553B\",\"#00cc96\",\"#ab63fa\",\"#FFA15A\",\"#19d3f3\",\"#FF6692\",\"#B6E880\",\"#FF97FF\",\"#FECB52\"],\"font\":{\"color\":\"#f2f5fa\"},\"geo\":{\"bgcolor\":\"rgb(17,17,17)\",\"lakecolor\":\"rgb(17,17,17)\",\"landcolor\":\"rgb(17,17,17)\",\"showlakes\":true,\"showland\":true,\"subunitcolor\":\"#506784\"},\"hoverlabel\":{\"align\":\"left\"},\"hovermode\":\"closest\",\"mapbox\":{\"style\":\"dark\"},\"paper_bgcolor\":\"rgb(17,17,17)\",\"plot_bgcolor\":\"rgb(17,17,17)\",\"polar\":{\"angularaxis\":{\"gridcolor\":\"#506784\",\"linecolor\":\"#506784\",\"ticks\":\"\"},\"bgcolor\":\"rgb(17,17,17)\",\"radialaxis\":{\"gridcolor\":\"#506784\",\"linecolor\":\"#506784\",\"ticks\":\"\"}},\"scene\":{\"xaxis\":{\"backgroundcolor\":\"rgb(17,17,17)\",\"gridcolor\":\"#506784\",\"gridwidth\":2,\"linecolor\":\"#506784\",\"showbackground\":true,\"ticks\":\"\",\"zerolinecolor\":\"#C8D4E3\"},\"yaxis\":{\"backgroundcolor\":\"rgb(17,17,17)\",\"gridcolor\":\"#506784\",\"gridwidth\":2,\"linecolor\":\"#506784\",\"showbackground\":true,\"ticks\":\"\",\"zerolinecolor\":\"#C8D4E3\"},\"zaxis\":{\"backgroundcolor\":\"rgb(17,17,17)\",\"gridcolor\":\"#506784\",\"gridwidth\":2,\"linecolor\":\"#506784\",\"showbackground\":true,\"ticks\":\"\",\"zerolinecolor\":\"#C8D4E3\"}},\"shapedefaults\":{\"line\":{\"color\":\"#f2f5fa\"}},\"sliderdefaults\":{\"bgcolor\":\"#C8D4E3\",\"bordercolor\":\"rgb(17,17,17)\",\"borderwidth\":1,\"tickwidth\":0},\"ternary\":{\"aaxis\":{\"gridcolor\":\"#506784\",\"linecolor\":\"#506784\",\"ticks\":\"\"},\"baxis\":{\"gridcolor\":\"#506784\",\"linecolor\":\"#506784\",\"ticks\":\"\"},\"bgcolor\":\"rgb(17,17,17)\",\"caxis\":{\"gridcolor\":\"#506784\",\"linecolor\":\"#506784\",\"ticks\":\"\"}},\"title\":{\"x\":0.05},\"updatemenudefaults\":{\"bgcolor\":\"#506784\",\"borderwidth\":0},\"xaxis\":{\"automargin\":true,\"gridcolor\":\"#283442\",\"linecolor\":\"#506784\",\"ticks\":\"\",\"title\":{\"standoff\":15},\"zerolinecolor\":\"#283442\",\"zerolinewidth\":2},\"yaxis\":{\"automargin\":true,\"gridcolor\":\"#283442\",\"linecolor\":\"#506784\",\"ticks\":\"\",\"title\":{\"standoff\":15},\"zerolinecolor\":\"#283442\",\"zerolinewidth\":2}}},\"xaxis\":{\"anchor\":\"y\",\"domain\":[0.0,1.0],\"title\":{\"text\":\"App Name\"},\"categoryorder\":\"array\",\"categoryarray\":[\"Instagram\",\"TikTok\",\"Subway Surfers\",\"Snapchat\",\"Candy Crush Saga\",\"Spotify: Listen to podcasts & find music you love\",\"Facebook Lite\",\"SHAREit - Transfer & Share\",\"Twitter\",\"Netflix\",\"Google Play Games\",\"Gboard - the Google Keyboard\",\"Google Duo - High Quality Video Calls\",\"Skype - free IM & video calls\",\"Google Translate\",\"Microsoft Word: Write, Edit & Share Docs on the Go\",\"Files by Google: Clean up space on your phone\",\"Currents\",\"Messages\",\"Android System WebView\",\"Hangouts\",\"Samsung Internet Browser\",\"Microsoft Excel: View, Edit, & Create Spreadsheets\",\"YouTube Music - Stream Songs & Music Videos\",\"Android Auto - Google Maps, Media & Messaging\",\"Microsoft OneDrive\",\"Samsung Gallery\",\"Samsung Email\",\"Microsoft PowerPoint: Slideshows and Presentations\",\"Dropbox: Cloud Storage, Photo Backup, File Manager\",\"Google Street View\",\"Google Calendar\",\"Google News - Top world & local news headlines\",\"Google Play Books - Ebooks, Audiobooks, and Comics\",\"Google Docs\",\"Google Keep - Notes and Lists\",\"Samsung Push Service\",\"Briefing\",\"Carrier Services\",\"Samsung Notes\",\"Clock\",\"Samsung Print Service Plugin\",\"Device Care\",\"Google Play Services for AR\",\"ANT Radio Service\",\"Samsung Security Policy Update\",\"ANT+ Plugins Service\",\"Samsung Calculator\",\"Samsung Health\",\"Samsung My Files\",\"Secure Folder\",\"Samsung Voice Recorder\",\"Samsung Experience Service\"]},\"yaxis\":{\"anchor\":\"x\",\"domain\":[0.0,1.0],\"title\":{\"text\":\"Minimum Installs\"}},\"legend\":{\"title\":{\"text\":\"App Name\"},\"tracegroupgap\":0},\"title\":{\"text\":\"Top Apps which has Installations greater than a Billion\"}},                        {\"responsive\": true}                    ).then(function(){\n",
              "                            \n",
              "var gd = document.getElementById('d501fb69-cd3f-4c0a-99b2-14e9240e4f0c');\n",
              "var x = new MutationObserver(function (mutations, observer) {{\n",
              "        var display = window.getComputedStyle(gd).display;\n",
              "        if (!display || display === 'none') {{\n",
              "            console.log([gd, 'removed!']);\n",
              "            Plotly.purge(gd);\n",
              "            observer.disconnect();\n",
              "        }}\n",
              "}});\n",
              "\n",
              "// Listen for the removal of the full notebook cells\n",
              "var notebookContainer = gd.closest('#notebook-container');\n",
              "if (notebookContainer) {{\n",
              "    x.observe(notebookContainer, {childList: true});\n",
              "}}\n",
              "\n",
              "// Listen for the clearing of the current output cell\n",
              "var outputEl = gd.closest('.output');\n",
              "if (outputEl) {{\n",
              "    x.observe(outputEl, {childList: true});\n",
              "}}\n",
              "\n",
              "                        })                };                            </script>        </div>\n",
              "</body>\n",
              "</html>"
            ]
          },
          "metadata": {}
        }
      ]
    },
    {
      "cell_type": "code",
      "source": [
        "dfAppReview   = df.select(df[\"App Name\"],df[\"Reviews\"])\n",
        "dfAppReview2  = dfAppReview.select('Reviews','App Name').filter(dfAppReview.Reviews != \"N/A\").orderBy('Reviews', ascending=False)\n",
        "dfAppReview3  = dfAppReview2.withColumn(\"Reviews\", dfAppReview2[\"Reviews\"].cast(\"int\").alias(\"Reviews\"))\n",
        "dfAppReviewCt = dfAppReview3.dropna()\n",
        "dfAppReviewCt = dfAppReviewCt.orderBy(\"Reviews\",ascending=False).limit(10)\n",
        "dfAppReviewCt.show(10)"
      ],
      "metadata": {
        "id": "24xnwfOI_O9s",
        "colab": {
          "base_uri": "https://localhost:8080/"
        },
        "outputId": "e62d3014-ed5c-44ed-c0d2-969f0abb6856"
      },
      "execution_count": null,
      "outputs": [
        {
          "output_type": "stream",
          "name": "stdout",
          "text": [
            "+--------+--------------------+\n",
            "| Reviews|            App Name|\n",
            "+--------+--------------------+\n",
            "|52377198|Garena Free Fire ...|\n",
            "|41525718|  WhatsApp Messenger|\n",
            "|39985223|           Instagram|\n",
            "|37998715|             YouTube|\n",
            "|35408357|            Facebook|\n",
            "|22436297|      Clash of Clans|\n",
            "|21987741|Messenger – Text ...|\n",
            "|21986907|Messenger – Text ...|\n",
            "|17992452|PUBG MOBILE - Tra...|\n",
            "|16163054|              TikTok|\n",
            "+--------+--------------------+\n",
            "\n"
          ]
        }
      ]
    },
    {
      "cell_type": "code",
      "source": [
        "dfAppReviewCtP=dfAppReviewCt.toPandas()"
      ],
      "metadata": {
        "id": "3i36es4dQqoG"
      },
      "execution_count": null,
      "outputs": []
    },
    {
      "cell_type": "code",
      "source": [
        "fig = px.funnel(dfAppReviewCtP, x='Reviews', y='App Name',\n",
        "                template=list(plotly.io.templates.keys())[5],\n",
        "                title=\"Top 10 Apps which has highest number of Reviews\")\n",
        "\n",
        "fig.show()"
      ],
      "metadata": {
        "colab": {
          "base_uri": "https://localhost:8080/",
          "height": 542
        },
        "id": "3S_xu9HYQs-o",
        "outputId": "da4a023b-08d5-4b1a-e16c-017b1d2b3444"
      },
      "execution_count": null,
      "outputs": [
        {
          "output_type": "display_data",
          "data": {
            "text/html": [
              "<html>\n",
              "<head><meta charset=\"utf-8\" /></head>\n",
              "<body>\n",
              "    <div>            <script src=\"https://cdnjs.cloudflare.com/ajax/libs/mathjax/2.7.5/MathJax.js?config=TeX-AMS-MML_SVG\"></script><script type=\"text/javascript\">if (window.MathJax) {MathJax.Hub.Config({SVG: {font: \"STIX-Web\"}});}</script>                <script type=\"text/javascript\">window.PlotlyConfig = {MathJaxConfig: 'local'};</script>\n",
              "        <script src=\"https://cdn.plot.ly/plotly-2.8.3.min.js\"></script>                <div id=\"51f7bc6c-b4de-488d-8d3e-d14be698beb8\" class=\"plotly-graph-div\" style=\"height:525px; width:100%;\"></div>            <script type=\"text/javascript\">                                    window.PLOTLYENV=window.PLOTLYENV || {};                                    if (document.getElementById(\"51f7bc6c-b4de-488d-8d3e-d14be698beb8\")) {                    Plotly.newPlot(                        \"51f7bc6c-b4de-488d-8d3e-d14be698beb8\",                        [{\"hovertemplate\":\"Reviews=%{x}<br>App Name=%{y}<extra></extra>\",\"legendgroup\":\"\",\"marker\":{\"color\":\"#636efa\"},\"name\":\"\",\"orientation\":\"h\",\"showlegend\":false,\"x\":[52377198,41525718,39985223,37998715,35408357,22436297,21987741,21986907,17992452,16163054],\"xaxis\":\"x\",\"y\":[\"Garena Free Fire - Rampage\",\"WhatsApp Messenger\",\"Instagram\",\"YouTube\",\"Facebook\",\"Clash of Clans\",\"Messenger \\u2013 Text and Video Chat for Free\",\"Messenger \\u2013 Text and Video Chat for Free\",\"PUBG MOBILE - Traverse\",\"TikTok\"],\"yaxis\":\"y\",\"type\":\"funnel\"}],                        {\"template\":{\"data\":{\"barpolar\":[{\"marker\":{\"line\":{\"color\":\"rgb(17,17,17)\",\"width\":0.5},\"pattern\":{\"fillmode\":\"overlay\",\"size\":10,\"solidity\":0.2}},\"type\":\"barpolar\"}],\"bar\":[{\"error_x\":{\"color\":\"#f2f5fa\"},\"error_y\":{\"color\":\"#f2f5fa\"},\"marker\":{\"line\":{\"color\":\"rgb(17,17,17)\",\"width\":0.5},\"pattern\":{\"fillmode\":\"overlay\",\"size\":10,\"solidity\":0.2}},\"type\":\"bar\"}],\"carpet\":[{\"aaxis\":{\"endlinecolor\":\"#A2B1C6\",\"gridcolor\":\"#506784\",\"linecolor\":\"#506784\",\"minorgridcolor\":\"#506784\",\"startlinecolor\":\"#A2B1C6\"},\"baxis\":{\"endlinecolor\":\"#A2B1C6\",\"gridcolor\":\"#506784\",\"linecolor\":\"#506784\",\"minorgridcolor\":\"#506784\",\"startlinecolor\":\"#A2B1C6\"},\"type\":\"carpet\"}],\"choropleth\":[{\"colorbar\":{\"outlinewidth\":0,\"ticks\":\"\"},\"type\":\"choropleth\"}],\"contourcarpet\":[{\"colorbar\":{\"outlinewidth\":0,\"ticks\":\"\"},\"type\":\"contourcarpet\"}],\"contour\":[{\"colorbar\":{\"outlinewidth\":0,\"ticks\":\"\"},\"colorscale\":[[0.0,\"#0d0887\"],[0.1111111111111111,\"#46039f\"],[0.2222222222222222,\"#7201a8\"],[0.3333333333333333,\"#9c179e\"],[0.4444444444444444,\"#bd3786\"],[0.5555555555555556,\"#d8576b\"],[0.6666666666666666,\"#ed7953\"],[0.7777777777777778,\"#fb9f3a\"],[0.8888888888888888,\"#fdca26\"],[1.0,\"#f0f921\"]],\"type\":\"contour\"}],\"heatmapgl\":[{\"colorbar\":{\"outlinewidth\":0,\"ticks\":\"\"},\"colorscale\":[[0.0,\"#0d0887\"],[0.1111111111111111,\"#46039f\"],[0.2222222222222222,\"#7201a8\"],[0.3333333333333333,\"#9c179e\"],[0.4444444444444444,\"#bd3786\"],[0.5555555555555556,\"#d8576b\"],[0.6666666666666666,\"#ed7953\"],[0.7777777777777778,\"#fb9f3a\"],[0.8888888888888888,\"#fdca26\"],[1.0,\"#f0f921\"]],\"type\":\"heatmapgl\"}],\"heatmap\":[{\"colorbar\":{\"outlinewidth\":0,\"ticks\":\"\"},\"colorscale\":[[0.0,\"#0d0887\"],[0.1111111111111111,\"#46039f\"],[0.2222222222222222,\"#7201a8\"],[0.3333333333333333,\"#9c179e\"],[0.4444444444444444,\"#bd3786\"],[0.5555555555555556,\"#d8576b\"],[0.6666666666666666,\"#ed7953\"],[0.7777777777777778,\"#fb9f3a\"],[0.8888888888888888,\"#fdca26\"],[1.0,\"#f0f921\"]],\"type\":\"heatmap\"}],\"histogram2dcontour\":[{\"colorbar\":{\"outlinewidth\":0,\"ticks\":\"\"},\"colorscale\":[[0.0,\"#0d0887\"],[0.1111111111111111,\"#46039f\"],[0.2222222222222222,\"#7201a8\"],[0.3333333333333333,\"#9c179e\"],[0.4444444444444444,\"#bd3786\"],[0.5555555555555556,\"#d8576b\"],[0.6666666666666666,\"#ed7953\"],[0.7777777777777778,\"#fb9f3a\"],[0.8888888888888888,\"#fdca26\"],[1.0,\"#f0f921\"]],\"type\":\"histogram2dcontour\"}],\"histogram2d\":[{\"colorbar\":{\"outlinewidth\":0,\"ticks\":\"\"},\"colorscale\":[[0.0,\"#0d0887\"],[0.1111111111111111,\"#46039f\"],[0.2222222222222222,\"#7201a8\"],[0.3333333333333333,\"#9c179e\"],[0.4444444444444444,\"#bd3786\"],[0.5555555555555556,\"#d8576b\"],[0.6666666666666666,\"#ed7953\"],[0.7777777777777778,\"#fb9f3a\"],[0.8888888888888888,\"#fdca26\"],[1.0,\"#f0f921\"]],\"type\":\"histogram2d\"}],\"histogram\":[{\"marker\":{\"pattern\":{\"fillmode\":\"overlay\",\"size\":10,\"solidity\":0.2}},\"type\":\"histogram\"}],\"mesh3d\":[{\"colorbar\":{\"outlinewidth\":0,\"ticks\":\"\"},\"type\":\"mesh3d\"}],\"parcoords\":[{\"line\":{\"colorbar\":{\"outlinewidth\":0,\"ticks\":\"\"}},\"type\":\"parcoords\"}],\"pie\":[{\"automargin\":true,\"type\":\"pie\"}],\"scatter3d\":[{\"line\":{\"colorbar\":{\"outlinewidth\":0,\"ticks\":\"\"}},\"marker\":{\"colorbar\":{\"outlinewidth\":0,\"ticks\":\"\"}},\"type\":\"scatter3d\"}],\"scattercarpet\":[{\"marker\":{\"colorbar\":{\"outlinewidth\":0,\"ticks\":\"\"}},\"type\":\"scattercarpet\"}],\"scattergeo\":[{\"marker\":{\"colorbar\":{\"outlinewidth\":0,\"ticks\":\"\"}},\"type\":\"scattergeo\"}],\"scattergl\":[{\"marker\":{\"line\":{\"color\":\"#283442\"}},\"type\":\"scattergl\"}],\"scattermapbox\":[{\"marker\":{\"colorbar\":{\"outlinewidth\":0,\"ticks\":\"\"}},\"type\":\"scattermapbox\"}],\"scatterpolargl\":[{\"marker\":{\"colorbar\":{\"outlinewidth\":0,\"ticks\":\"\"}},\"type\":\"scatterpolargl\"}],\"scatterpolar\":[{\"marker\":{\"colorbar\":{\"outlinewidth\":0,\"ticks\":\"\"}},\"type\":\"scatterpolar\"}],\"scatter\":[{\"marker\":{\"line\":{\"color\":\"#283442\"}},\"type\":\"scatter\"}],\"scatterternary\":[{\"marker\":{\"colorbar\":{\"outlinewidth\":0,\"ticks\":\"\"}},\"type\":\"scatterternary\"}],\"surface\":[{\"colorbar\":{\"outlinewidth\":0,\"ticks\":\"\"},\"colorscale\":[[0.0,\"#0d0887\"],[0.1111111111111111,\"#46039f\"],[0.2222222222222222,\"#7201a8\"],[0.3333333333333333,\"#9c179e\"],[0.4444444444444444,\"#bd3786\"],[0.5555555555555556,\"#d8576b\"],[0.6666666666666666,\"#ed7953\"],[0.7777777777777778,\"#fb9f3a\"],[0.8888888888888888,\"#fdca26\"],[1.0,\"#f0f921\"]],\"type\":\"surface\"}],\"table\":[{\"cells\":{\"fill\":{\"color\":\"#506784\"},\"line\":{\"color\":\"rgb(17,17,17)\"}},\"header\":{\"fill\":{\"color\":\"#2a3f5f\"},\"line\":{\"color\":\"rgb(17,17,17)\"}},\"type\":\"table\"}]},\"layout\":{\"annotationdefaults\":{\"arrowcolor\":\"#f2f5fa\",\"arrowhead\":0,\"arrowwidth\":1},\"autotypenumbers\":\"strict\",\"coloraxis\":{\"colorbar\":{\"outlinewidth\":0,\"ticks\":\"\"}},\"colorscale\":{\"diverging\":[[0,\"#8e0152\"],[0.1,\"#c51b7d\"],[0.2,\"#de77ae\"],[0.3,\"#f1b6da\"],[0.4,\"#fde0ef\"],[0.5,\"#f7f7f7\"],[0.6,\"#e6f5d0\"],[0.7,\"#b8e186\"],[0.8,\"#7fbc41\"],[0.9,\"#4d9221\"],[1,\"#276419\"]],\"sequential\":[[0.0,\"#0d0887\"],[0.1111111111111111,\"#46039f\"],[0.2222222222222222,\"#7201a8\"],[0.3333333333333333,\"#9c179e\"],[0.4444444444444444,\"#bd3786\"],[0.5555555555555556,\"#d8576b\"],[0.6666666666666666,\"#ed7953\"],[0.7777777777777778,\"#fb9f3a\"],[0.8888888888888888,\"#fdca26\"],[1.0,\"#f0f921\"]],\"sequentialminus\":[[0.0,\"#0d0887\"],[0.1111111111111111,\"#46039f\"],[0.2222222222222222,\"#7201a8\"],[0.3333333333333333,\"#9c179e\"],[0.4444444444444444,\"#bd3786\"],[0.5555555555555556,\"#d8576b\"],[0.6666666666666666,\"#ed7953\"],[0.7777777777777778,\"#fb9f3a\"],[0.8888888888888888,\"#fdca26\"],[1.0,\"#f0f921\"]]},\"colorway\":[\"#636efa\",\"#EF553B\",\"#00cc96\",\"#ab63fa\",\"#FFA15A\",\"#19d3f3\",\"#FF6692\",\"#B6E880\",\"#FF97FF\",\"#FECB52\"],\"font\":{\"color\":\"#f2f5fa\"},\"geo\":{\"bgcolor\":\"rgb(17,17,17)\",\"lakecolor\":\"rgb(17,17,17)\",\"landcolor\":\"rgb(17,17,17)\",\"showlakes\":true,\"showland\":true,\"subunitcolor\":\"#506784\"},\"hoverlabel\":{\"align\":\"left\"},\"hovermode\":\"closest\",\"mapbox\":{\"style\":\"dark\"},\"paper_bgcolor\":\"rgb(17,17,17)\",\"plot_bgcolor\":\"rgb(17,17,17)\",\"polar\":{\"angularaxis\":{\"gridcolor\":\"#506784\",\"linecolor\":\"#506784\",\"ticks\":\"\"},\"bgcolor\":\"rgb(17,17,17)\",\"radialaxis\":{\"gridcolor\":\"#506784\",\"linecolor\":\"#506784\",\"ticks\":\"\"}},\"scene\":{\"xaxis\":{\"backgroundcolor\":\"rgb(17,17,17)\",\"gridcolor\":\"#506784\",\"gridwidth\":2,\"linecolor\":\"#506784\",\"showbackground\":true,\"ticks\":\"\",\"zerolinecolor\":\"#C8D4E3\"},\"yaxis\":{\"backgroundcolor\":\"rgb(17,17,17)\",\"gridcolor\":\"#506784\",\"gridwidth\":2,\"linecolor\":\"#506784\",\"showbackground\":true,\"ticks\":\"\",\"zerolinecolor\":\"#C8D4E3\"},\"zaxis\":{\"backgroundcolor\":\"rgb(17,17,17)\",\"gridcolor\":\"#506784\",\"gridwidth\":2,\"linecolor\":\"#506784\",\"showbackground\":true,\"ticks\":\"\",\"zerolinecolor\":\"#C8D4E3\"}},\"shapedefaults\":{\"line\":{\"color\":\"#f2f5fa\"}},\"sliderdefaults\":{\"bgcolor\":\"#C8D4E3\",\"bordercolor\":\"rgb(17,17,17)\",\"borderwidth\":1,\"tickwidth\":0},\"ternary\":{\"aaxis\":{\"gridcolor\":\"#506784\",\"linecolor\":\"#506784\",\"ticks\":\"\"},\"baxis\":{\"gridcolor\":\"#506784\",\"linecolor\":\"#506784\",\"ticks\":\"\"},\"bgcolor\":\"rgb(17,17,17)\",\"caxis\":{\"gridcolor\":\"#506784\",\"linecolor\":\"#506784\",\"ticks\":\"\"}},\"title\":{\"x\":0.05},\"updatemenudefaults\":{\"bgcolor\":\"#506784\",\"borderwidth\":0},\"xaxis\":{\"automargin\":true,\"gridcolor\":\"#283442\",\"linecolor\":\"#506784\",\"ticks\":\"\",\"title\":{\"standoff\":15},\"zerolinecolor\":\"#283442\",\"zerolinewidth\":2},\"yaxis\":{\"automargin\":true,\"gridcolor\":\"#283442\",\"linecolor\":\"#506784\",\"ticks\":\"\",\"title\":{\"standoff\":15},\"zerolinecolor\":\"#283442\",\"zerolinewidth\":2}}},\"xaxis\":{\"anchor\":\"y\",\"domain\":[0.0,1.0],\"title\":{\"text\":\"Reviews\"}},\"yaxis\":{\"anchor\":\"x\",\"domain\":[0.0,1.0],\"title\":{\"text\":\"App Name\"}},\"legend\":{\"tracegroupgap\":0},\"title\":{\"text\":\"Top 10 Apps which has highest number of Reviews\"}},                        {\"responsive\": true}                    ).then(function(){\n",
              "                            \n",
              "var gd = document.getElementById('51f7bc6c-b4de-488d-8d3e-d14be698beb8');\n",
              "var x = new MutationObserver(function (mutations, observer) {{\n",
              "        var display = window.getComputedStyle(gd).display;\n",
              "        if (!display || display === 'none') {{\n",
              "            console.log([gd, 'removed!']);\n",
              "            Plotly.purge(gd);\n",
              "            observer.disconnect();\n",
              "        }}\n",
              "}});\n",
              "\n",
              "// Listen for the removal of the full notebook cells\n",
              "var notebookContainer = gd.closest('#notebook-container');\n",
              "if (notebookContainer) {{\n",
              "    x.observe(notebookContainer, {childList: true});\n",
              "}}\n",
              "\n",
              "// Listen for the clearing of the current output cell\n",
              "var outputEl = gd.closest('.output');\n",
              "if (outputEl) {{\n",
              "    x.observe(outputEl, {childList: true});\n",
              "}}\n",
              "\n",
              "                        })                };                            </script>        </div>\n",
              "</body>\n",
              "</html>"
            ]
          },
          "metadata": {}
        }
      ]
    }
  ]
}