{
  "nbformat": 4,
  "nbformat_minor": 0,
  "metadata": {
    "colab": {
      "name": "MapReduce.ipynb",
      "provenance": [],
      "authorship_tag": "ABX9TyNni+47kAT0UW/ePElqayeB",
      "include_colab_link": true
    },
    "kernelspec": {
      "name": "python3",
      "display_name": "Python 3"
    },
    "language_info": {
      "name": "python"
    }
  },
  "cells": [
    {
      "cell_type": "markdown",
      "metadata": {
        "id": "view-in-github",
        "colab_type": "text"
      },
      "source": [
        "<a href=\"https://colab.research.google.com/github/akukudala/data603-sp22/blob/main/Homework/class03/MapReduce.ipynb\" target=\"_parent\"><img src=\"https://colab.research.google.com/assets/colab-badge.svg\" alt=\"Open In Colab\"/></a>"
      ]
    },
    {
      "cell_type": "code",
      "execution_count": 1,
      "metadata": {
        "colab": {
          "base_uri": "https://localhost:8080/"
        },
        "id": "wNtvDZzpcOsm",
        "outputId": "15fa707f-652d-4634-97fb-accae8cf3498"
      },
      "outputs": [
        {
          "output_type": "stream",
          "name": "stdout",
          "text": [
            "Collecting mrjob\n",
            "  Downloading mrjob-0.7.4-py2.py3-none-any.whl (439 kB)\n",
            "\u001b[K     |████████████████████████████████| 439 kB 3.2 MB/s \n",
            "\u001b[?25hRequirement already satisfied: PyYAML>=3.10 in /usr/local/lib/python3.7/dist-packages (from mrjob) (3.13)\n",
            "Installing collected packages: mrjob\n",
            "Successfully installed mrjob-0.7.4\n"
          ]
        }
      ],
      "source": [
        "!pip install mrjob"
      ]
    },
    {
      "cell_type": "code",
      "source": [
        "%%file wc.py\n",
        "from mrjob.job import MRJob\n",
        "\n",
        "class MRWordFrequencyCount(MRJob):\n",
        "\n",
        "    def mapper(self, _, line):\n",
        "        yield \"chars\", len(line)\n",
        "        yield \"words\", len(line.split())\n",
        "        yield \"lines\", 1\n",
        "\n",
        "    def reducer(self, key, values):\n",
        "        yield key, sum(values)\n",
        "\n",
        "\n",
        "if __name__ == '__main__':\n",
        "    MRWordFrequencyCount.run()"
      ],
      "metadata": {
        "colab": {
          "base_uri": "https://localhost:8080/"
        },
        "id": "l0MgJUlveMHt",
        "outputId": "99854d6a-c3a8-46f9-932f-416db21abaa4"
      },
      "execution_count": 2,
      "outputs": [
        {
          "output_type": "stream",
          "name": "stdout",
          "text": [
            "Writing wc.py\n"
          ]
        }
      ]
    },
    {
      "cell_type": "code",
      "source": [
        "!curl https://www.gutenberg.org/files/2600/2600-0.txt -o warpeace.txt"
      ],
      "metadata": {
        "colab": {
          "base_uri": "https://localhost:8080/"
        },
        "id": "WfjaTlQNebjc",
        "outputId": "c4f6fcf4-a8db-4459-fe0d-a3c0af35fb8a"
      },
      "execution_count": 3,
      "outputs": [
        {
          "output_type": "stream",
          "name": "stdout",
          "text": [
            "  % Total    % Received % Xferd  Average Speed   Time    Time     Time  Current\n",
            "                                 Dload  Upload   Total   Spent    Left  Speed\n",
            "100 3280k  100 3280k    0     0  7226k      0 --:--:-- --:--:-- --:--:-- 7210k\n"
          ]
        }
      ]
    },
    {
      "cell_type": "code",
      "source": [
        "import wc\n",
        "\n",
        "mr_job = wc.MRWordFrequencyCount(args=['warpeace.txt'])\n",
        "with mr_job.make_runner() as runner:\n",
        "    runner.run()\n",
        "    for key, value in mr_job.parse_output(runner.cat_output()):\n",
        "        print(key, value)"
      ],
      "metadata": {
        "colab": {
          "base_uri": "https://localhost:8080/"
        },
        "id": "hLF94T7uejv9",
        "outputId": "e7843ffe-e0bc-484a-c001-51216974ac67"
      },
      "execution_count": 4,
      "outputs": [
        {
          "output_type": "stream",
          "name": "stderr",
          "text": [
            "No configs specified for inline runner\n"
          ]
        },
        {
          "output_type": "stream",
          "name": "stdout",
          "text": [
            "words 566334\n",
            "chars 3161491\n",
            "lines 66032\n"
          ]
        }
      ]
    },
    {
      "cell_type": "code",
      "source": [
        "!curl https://raw.githubusercontent.com/PacktPublishing/Frank-Kanes-Taming-Big-Data-with-Apache-Spark-and-Python/master/1800.csv -o 1800.csv"
      ],
      "metadata": {
        "colab": {
          "base_uri": "https://localhost:8080/"
        },
        "id": "Di3rJhzHfXgf",
        "outputId": "ddce4434-c9f4-4796-edee-030b2ee4b3b1"
      },
      "execution_count": 5,
      "outputs": [
        {
          "output_type": "stream",
          "name": "stdout",
          "text": [
            "  % Total    % Received % Xferd  Average Speed   Time    Time     Time  Current\n",
            "                                 Dload  Upload   Total   Spent    Left  Speed\n",
            "\r  0     0    0     0    0     0      0      0 --:--:-- --:--:-- --:--:--     0\r100 62728  100 62728    0     0   297k      0 --:--:-- --:--:-- --:--:--  297k\n"
          ]
        }
      ]
    },
    {
      "cell_type": "code",
      "source": [
        "!tail -n 10 1800.csv"
      ],
      "metadata": {
        "colab": {
          "base_uri": "https://localhost:8080/"
        },
        "id": "pQnXZQoEfehr",
        "outputId": "6d821c42-423f-49f0-e155-97803c5a99e9"
      },
      "execution_count": 6,
      "outputs": [
        {
          "output_type": "stream",
          "name": "stdout",
          "text": [
            "ITE00100554,18001230,TMAX,50,,,E,\n",
            "ITE00100554,18001230,TMIN,31,,,E,\n",
            "GM000010962,18001230,PRCP,13,,,E,\n",
            "EZE00100082,18001230,TMAX,96,,,E,\n",
            "EZE00100082,18001230,TMIN,14,,,E,\n",
            "ITE00100554,18001231,TMAX,50,,,E,\n",
            "ITE00100554,18001231,TMIN,25,,,E,\n",
            "GM000010962,18001231,PRCP,16,,,E,\n",
            "EZE00100082,18001231,TMAX,14,,,E,\n",
            "EZE00100082,18001231,TMIN,-4,,,E,\n"
          ]
        }
      ]
    },
    {
      "cell_type": "code",
      "source": [
        "%%file max_temp.py\n",
        "from mrjob.job import MRJob\n",
        "\n",
        "class MRMaxTemperature(MRJob):\n",
        "    \n",
        "    @staticmethod\n",
        "    def to_fahrenheit(cels):\n",
        "        celsius = float(cels) / 10.0\n",
        "        fahrenheit = celsius * 1.8 + 32.0\n",
        "        return fahrenheit\n",
        "\n",
        "    def mapper(self, _, line):\n",
        "        (location, date, type, data, x, y, z, w) = line.split(',')\n",
        "        if (type == 'TMAX'):\n",
        "            temperature = self.to_fahrenheit(data)\n",
        "            yield location, temperature\n",
        "\n",
        "    def reducer(self, location, temps):\n",
        "        yield location, max(temps)\n",
        "\n",
        "\n",
        "if __name__ == '__main__':\n",
        "    MRMaxTemperature.run()\n",
        "    "
      ],
      "metadata": {
        "colab": {
          "base_uri": "https://localhost:8080/"
        },
        "id": "3H2f78CAfnGQ",
        "outputId": "b096e32c-1802-456f-89e8-18c862befe8c"
      },
      "execution_count": 7,
      "outputs": [
        {
          "output_type": "stream",
          "name": "stdout",
          "text": [
            "Writing max_temp.py\n"
          ]
        }
      ]
    },
    {
      "cell_type": "code",
      "source": [
        "import max_temp\n",
        "mr_job = max_temp.MRMaxTemperature(args=['1800.csv'])\n",
        "with mr_job.make_runner() as runner:\n",
        "    runner.run()\n",
        "    for key, value in mr_job.parse_output(runner.cat_output()):\n",
        "        print(key, value)"
      ],
      "metadata": {
        "colab": {
          "base_uri": "https://localhost:8080/"
        },
        "id": "75Q-v-vlftMU",
        "outputId": "575d80a7-7690-4c5f-97ef-fb33382eee81"
      },
      "execution_count": 8,
      "outputs": [
        {
          "output_type": "stream",
          "name": "stderr",
          "text": [
            "No configs specified for inline runner\n"
          ]
        },
        {
          "output_type": "stream",
          "name": "stdout",
          "text": [
            "EZE00100082 90.13999999999999\n",
            "ITE00100554 90.13999999999999\n"
          ]
        }
      ]
    }
  ]
}